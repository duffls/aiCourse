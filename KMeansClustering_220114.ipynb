{
 "cells": [
  {
   "cell_type": "code",
   "execution_count": 1,
   "id": "fe4f9f84",
   "metadata": {},
   "outputs": [],
   "source": [
    "import matplotlib.pyplot as plt\n",
    "from sklearn.datasets import make_classification\n"
   ]
  },
  {
   "cell_type": "markdown",
   "id": "85876667",
   "metadata": {},
   "source": [
    "- make_classification함수 - 설정에 따른 분류용 가상 데이터를 생성하는 명령 인수\n",
    "- n_samples : 표본 데이터의 수, 디폴트 100\n",
    "- n_features : 독립 변수의 수, 디폴트 20\n",
    "- n_informative : 독립 변수 중 종속 변수와 상관 관계가 있는 성분의 수, 디폴트 2\n",
    "- n_redundant : 독립 변수 중 다른 독립 변수의 선형 조합으로 나타나는 성분의 수, 디폴트 2\n",
    "- n_repeated : 독립 변수 중 단순 중복된 성분의 수, 디폴트 0\n",
    "- n_classes : 종속 변수의 클래스 수, 디폴트 2\n",
    "- n_clusters_per_class : 클래스 당 클러스터의 수, 디폴트 2\n",
    "- weights : 각 클래스에 할당된 표본 수\n",
    "- random_state : 난수 발생 시드\n",
    "- 반환값:\n",
    " - X : [n_samples, n_features] 크기의 배열. 독립 변수\n",
    " - y : [n_samples] 크기의 배열. 종속 변수\n"
   ]
  },
  {
   "cell_type": "code",
   "execution_count": 3,
   "id": "06702871",
   "metadata": {},
   "outputs": [
    {
     "data": {
      "image/png": "[encoded data removed]",
      "text/plain": [
       "<Figure size 432x288 with 1 Axes>"
      ]
     },
     "metadata": {
      "needs_background": "light"
     },
     "output_type": "display_data"
    }
   ],
   "source": [
    "plt.title(\"Multi-class, two informative features, one cluster\")\n",
    "X, y = make_classification(n_samples=30,\n",
    "                           n_features=2,\n",
    "                           n_informative=2,\n",
    "                           n_redundant=0, \n",
    "                           n_clusters_per_class=1,\n",
    "                           n_classes=3,\n",
    "                           random_state=123) \n",
    "\n",
    "# c:y에서 c는 컬러로 각데이터에 대해 y배열(리스트)를 사용\n",
    "plt.scatter(X[:, 0], X[:, 1], marker='o', c=y, s=100, edgecolor='k', linewidth=2) \n",
    "plt.show()\n"
   ]
  },
  {
   "cell_type": "code",
   "execution_count": 4,
   "id": "b8cd7a02",
   "metadata": {},
   "outputs": [
    {
     "data": {
      "text/plain": [
       "KMeans(init='random', n_clusters=3)"
      ]
     },
     "execution_count": 4,
     "metadata": {},
     "output_type": "execute_result"
    }
   ],
   "source": [
    "from sklearn.cluster import KMeans\n",
    "model = KMeans(n_clusters=3, init=\"random\") # 모형 생성. 클러스터 = 3, k-means++ \n",
    "model.fit(X)\n"
   ]
  },
  {
   "cell_type": "code",
   "execution_count": 5,
   "id": "7e2071bf",
   "metadata": {},
   "outputs": [
    {
     "data": {
      "text/plain": [
       "array([[-1.96728067, -0.48772003],\n",
       "       [-0.63433935,  1.03897373],\n",
       "       [ 1.32532665,  0.36128304]])"
      ]
     },
     "execution_count": 5,
     "metadata": {},
     "output_type": "execute_result"
    }
   ],
   "source": [
    "model.cluster_centers_ # 각 클러스터의 중심값\n"
   ]
  },
  {
   "cell_type": "code",
   "execution_count": 6,
   "id": "066bf5f8",
   "metadata": {},
   "outputs": [
    {
     "data": {
      "text/plain": [
       "array([2, 2, 1, 0, 0, 0, 2, 1, 1, 1, 0, 1, 1, 0, 2, 2, 0, 1, 2, 1, 0, 2,\n",
       "       1, 1, 1, 0, 2, 1, 1, 1])"
      ]
     },
     "execution_count": 6,
     "metadata": {},
     "output_type": "execute_result"
    }
   ],
   "source": [
    "pred = model.predict(X) # 데이터가 속하는 클러스터 예측\n",
    "pred\n"
   ]
  },
  {
   "cell_type": "code",
   "execution_count": 7,
   "id": "1ece29fd",
   "metadata": {},
   "outputs": [
    {
     "data": {
      "image/png": "[encoded data removed]",
      "text/plain": [
       "<Figure size 432x288 with 1 Axes>"
      ]
     },
     "metadata": {
      "needs_background": "light"
     },
     "output_type": "display_data"
    }
   ],
   "source": [
    "# 모델을 이용해 클러스터링 된 결과를 산점도를 이용해 표시\n",
    "c0, c1, c2 = model.cluster_centers_ # 각 클러스터의 중심값(평균값?).클러스터 수만큼 구해짐\n",
    "# 첫번째 클러스터 데이터를 이용한 산점도\n",
    "plt.scatter(X[model.labels_ == 0, 0], X[model.labels_ == 0, 1], s=100, marker=\"v\", c=\"r\") \n",
    "# 두번째 클러스터 데이터를 이용한 산점도\n",
    "plt.scatter(X[model.labels_ == 1, 0], X[model.labels_ == 1, 1], s=100,marker=\"^\", c=\"b\") \n",
    "# 세번째 클러스터 데이터를 이용한 산점도\n",
    "plt.scatter(X[model.labels_ == 2, 0], X[model.labels_ == 2, 1], s=100,marker=\"v\", c=\"y\") \n",
    "plt.scatter(c0[0], c0[1], s=200, c=\"r\") # 첫번째 클러스터의 중심값\n",
    "plt.scatter(c1[0], c1[1], s=200, c=\"b\") # 두번째 클러스터의 중심값\n",
    "plt.scatter(c2[0], c2[1], s=200, c=\"y\") # 세번째 클러스터의 중심값\n",
    "plt.show()\n"
   ]
  },
  {
   "cell_type": "code",
   "execution_count": 11,
   "id": "ee84d346",
   "metadata": {},
   "outputs": [
    {
     "name": "stdout",
     "output_type": "stream",
     "text": [
      "[[8 4 2]\n",
      " [8 6 1]\n",
      " [2 2 5]]\n",
      "-----------------\n",
      "[14. 15.  9.]\n",
      "shape:  (3,)\n",
      "-----------------\n",
      "[ 9.16515139 10.04987562  5.74456265]\n",
      "shape:  (3,)\n",
      "-----------------\n"
     ]
    }
   ],
   "source": [
    "# 거리 계산 예\n",
    "import numpy as np\n",
    "\n",
    "x = np.random.randint(low=1, high=10, size=(3,3))\n",
    "print(x)\n",
    "print('-----------------')\n",
    "L1_norm = np.linalg.norm(x, axis=1, ord=1) # ord=1은 L1 norm\n",
    "print(L1_norm)\n",
    "print(\"shape: \", L1_norm.shape)\n",
    "print('-----------------')\n",
    "L2_norm = np.linalg.norm(x, axis=1, ord=2) # ord=2은 L2 norm default.\n",
    "print(L2_norm)\n",
    "print(\"shape: \", L2_norm.shape)\n",
    "print('-----------------')"
   ]
  },
  {
   "cell_type": "code",
   "execution_count": 8,
   "id": "159dee45",
   "metadata": {
    "scrolled": true
   },
   "outputs": [
    {
     "data": {
      "text/html": [
       "<div>\n",
       "<style scoped>\n",
       "    .dataframe tbody tr th:only-of-type {\n",
       "        vertical-align: middle;\n",
       "    }\n",
       "\n",
       "    .dataframe tbody tr th {\n",
       "        vertical-align: top;\n",
       "    }\n",
       "\n",
       "    .dataframe thead th {\n",
       "        text-align: right;\n",
       "    }\n",
       "</style>\n",
       "<table border=\"1\" class=\"dataframe\">\n",
       "  <thead>\n",
       "    <tr style=\"text-align: right;\">\n",
       "      <th></th>\n",
       "      <th>x0</th>\n",
       "      <th>x1</th>\n",
       "      <th>d0</th>\n",
       "      <th>d1</th>\n",
       "      <th>d2</th>\n",
       "      <th>class</th>\n",
       "    </tr>\n",
       "  </thead>\n",
       "  <tbody>\n",
       "    <tr>\n",
       "      <th>0</th>\n",
       "      <td>1.291320</td>\n",
       "      <td>-2.083269</td>\n",
       "      <td>3.628258</td>\n",
       "      <td>3.668319</td>\n",
       "      <td>2.444788</td>\n",
       "      <td>2.0</td>\n",
       "    </tr>\n",
       "    <tr>\n",
       "      <th>1</th>\n",
       "      <td>0.677549</td>\n",
       "      <td>0.926385</td>\n",
       "      <td>2.999136</td>\n",
       "      <td>1.316711</td>\n",
       "      <td>0.859625</td>\n",
       "      <td>2.0</td>\n",
       "    </tr>\n",
       "    <tr>\n",
       "      <th>2</th>\n",
       "      <td>0.248341</td>\n",
       "      <td>0.952078</td>\n",
       "      <td>2.642347</td>\n",
       "      <td>0.886947</td>\n",
       "      <td>1.228388</td>\n",
       "      <td>1.0</td>\n",
       "    </tr>\n",
       "    <tr>\n",
       "      <th>3</th>\n",
       "      <td>-2.218453</td>\n",
       "      <td>0.436127</td>\n",
       "      <td>0.957383</td>\n",
       "      <td>1.694945</td>\n",
       "      <td>3.544570</td>\n",
       "      <td>0.0</td>\n",
       "    </tr>\n",
       "    <tr>\n",
       "      <th>4</th>\n",
       "      <td>-3.898155</td>\n",
       "      <td>1.089007</td>\n",
       "      <td>2.492858</td>\n",
       "      <td>3.264199</td>\n",
       "      <td>5.273930</td>\n",
       "      <td>0.0</td>\n",
       "    </tr>\n",
       "    <tr>\n",
       "      <th>5</th>\n",
       "      <td>-2.080478</td>\n",
       "      <td>-1.805009</td>\n",
       "      <td>1.322144</td>\n",
       "      <td>3.190542</td>\n",
       "      <td>4.036376</td>\n",
       "      <td>0.0</td>\n",
       "    </tr>\n",
       "    <tr>\n",
       "      <th>6</th>\n",
       "      <td>1.115515</td>\n",
       "      <td>0.977966</td>\n",
       "      <td>3.413483</td>\n",
       "      <td>1.750918</td>\n",
       "      <td>0.651398</td>\n",
       "      <td>2.0</td>\n",
       "    </tr>\n",
       "    <tr>\n",
       "      <th>7</th>\n",
       "      <td>-0.203825</td>\n",
       "      <td>0.199599</td>\n",
       "      <td>1.892666</td>\n",
       "      <td>0.943341</td>\n",
       "      <td>1.537676</td>\n",
       "      <td>1.0</td>\n",
       "    </tr>\n",
       "    <tr>\n",
       "      <th>8</th>\n",
       "      <td>0.420718</td>\n",
       "      <td>1.095145</td>\n",
       "      <td>2.864960</td>\n",
       "      <td>1.056551</td>\n",
       "      <td>1.164848</td>\n",
       "      <td>1.0</td>\n",
       "    </tr>\n",
       "    <tr>\n",
       "      <th>9</th>\n",
       "      <td>-0.457603</td>\n",
       "      <td>1.059832</td>\n",
       "      <td>2.161954</td>\n",
       "      <td>0.177963</td>\n",
       "      <td>1.914892</td>\n",
       "      <td>1.0</td>\n",
       "    </tr>\n",
       "    <tr>\n",
       "      <th>10</th>\n",
       "      <td>-1.972113</td>\n",
       "      <td>-0.964076</td>\n",
       "      <td>0.476380</td>\n",
       "      <td>2.408702</td>\n",
       "      <td>3.553827</td>\n",
       "      <td>0.0</td>\n",
       "    </tr>\n",
       "    <tr>\n",
       "      <th>11</th>\n",
       "      <td>-1.675510</td>\n",
       "      <td>1.868579</td>\n",
       "      <td>2.374295</td>\n",
       "      <td>1.331270</td>\n",
       "      <td>3.358119</td>\n",
       "      <td>1.0</td>\n",
       "    </tr>\n",
       "    <tr>\n",
       "      <th>12</th>\n",
       "      <td>-0.212238</td>\n",
       "      <td>0.807515</td>\n",
       "      <td>2.181240</td>\n",
       "      <td>0.481396</td>\n",
       "      <td>1.601009</td>\n",
       "      <td>1.0</td>\n",
       "    </tr>\n",
       "    <tr>\n",
       "      <th>13</th>\n",
       "      <td>-0.800299</td>\n",
       "      <td>-0.411600</td>\n",
       "      <td>1.169462</td>\n",
       "      <td>1.460036</td>\n",
       "      <td>2.261776</td>\n",
       "      <td>0.0</td>\n",
       "    </tr>\n",
       "    <tr>\n",
       "      <th>14</th>\n",
       "      <td>0.841133</td>\n",
       "      <td>-0.990142</td>\n",
       "      <td>2.853002</td>\n",
       "      <td>2.508851</td>\n",
       "      <td>1.435546</td>\n",
       "      <td>2.0</td>\n",
       "    </tr>\n",
       "    <tr>\n",
       "      <th>15</th>\n",
       "      <td>0.483051</td>\n",
       "      <td>1.063042</td>\n",
       "      <td>2.899825</td>\n",
       "      <td>1.117650</td>\n",
       "      <td>1.096309</td>\n",
       "      <td>2.0</td>\n",
       "    </tr>\n",
       "    <tr>\n",
       "      <th>16</th>\n",
       "      <td>-1.137411</td>\n",
       "      <td>-0.541306</td>\n",
       "      <td>0.831598</td>\n",
       "      <td>1.658422</td>\n",
       "      <td>2.622926</td>\n",
       "      <td>0.0</td>\n",
       "    </tr>\n",
       "    <tr>\n",
       "      <th>17</th>\n",
       "      <td>-1.143533</td>\n",
       "      <td>1.461336</td>\n",
       "      <td>2.115982</td>\n",
       "      <td>0.661565</td>\n",
       "      <td>2.702848</td>\n",
       "      <td>1.0</td>\n",
       "    </tr>\n",
       "    <tr>\n",
       "      <th>18</th>\n",
       "      <td>2.179615</td>\n",
       "      <td>0.980185</td>\n",
       "      <td>4.399033</td>\n",
       "      <td>2.814569</td>\n",
       "      <td>1.054916</td>\n",
       "      <td>2.0</td>\n",
       "    </tr>\n",
       "    <tr>\n",
       "      <th>19</th>\n",
       "      <td>-1.124642</td>\n",
       "      <td>1.324199</td>\n",
       "      <td>1.998272</td>\n",
       "      <td>0.567231</td>\n",
       "      <td>2.632405</td>\n",
       "      <td>1.0</td>\n",
       "    </tr>\n",
       "    <tr>\n",
       "      <th>20</th>\n",
       "      <td>-2.887669</td>\n",
       "      <td>-0.933535</td>\n",
       "      <td>1.022676</td>\n",
       "      <td>2.994710</td>\n",
       "      <td>4.407481</td>\n",
       "      <td>0.0</td>\n",
       "    </tr>\n",
       "    <tr>\n",
       "      <th>21</th>\n",
       "      <td>1.551626</td>\n",
       "      <td>1.022206</td>\n",
       "      <td>3.829175</td>\n",
       "      <td>2.186029</td>\n",
       "      <td>0.698592</td>\n",
       "      <td>2.0</td>\n",
       "    </tr>\n",
       "    <tr>\n",
       "      <th>22</th>\n",
       "      <td>-0.557680</td>\n",
       "      <td>1.044874</td>\n",
       "      <td>2.082263</td>\n",
       "      <td>0.076886</td>\n",
       "      <td>2.003250</td>\n",
       "      <td>1.0</td>\n",
       "    </tr>\n",
       "    <tr>\n",
       "      <th>23</th>\n",
       "      <td>-1.118822</td>\n",
       "      <td>0.838266</td>\n",
       "      <td>1.574205</td>\n",
       "      <td>0.524411</td>\n",
       "      <td>2.490256</td>\n",
       "      <td>1.0</td>\n",
       "    </tr>\n",
       "    <tr>\n",
       "      <th>24</th>\n",
       "      <td>-1.014724</td>\n",
       "      <td>0.448552</td>\n",
       "      <td>1.335653</td>\n",
       "      <td>0.702347</td>\n",
       "      <td>2.341677</td>\n",
       "      <td>1.0</td>\n",
       "    </tr>\n",
       "    <tr>\n",
       "      <th>25</th>\n",
       "      <td>-0.743667</td>\n",
       "      <td>-0.771368</td>\n",
       "      <td>1.256060</td>\n",
       "      <td>1.813640</td>\n",
       "      <td>2.358736</td>\n",
       "      <td>0.0</td>\n",
       "    </tr>\n",
       "    <tr>\n",
       "      <th>26</th>\n",
       "      <td>2.462803</td>\n",
       "      <td>0.993891</td>\n",
       "      <td>4.671275</td>\n",
       "      <td>3.097471</td>\n",
       "      <td>1.301555</td>\n",
       "      <td>2.0</td>\n",
       "    </tr>\n",
       "    <tr>\n",
       "      <th>27</th>\n",
       "      <td>-0.910400</td>\n",
       "      <td>0.982463</td>\n",
       "      <td>1.810645</td>\n",
       "      <td>0.281785</td>\n",
       "      <td>2.320418</td>\n",
       "      <td>1.0</td>\n",
       "    </tr>\n",
       "    <tr>\n",
       "      <th>28</th>\n",
       "      <td>0.003198</td>\n",
       "      <td>1.076578</td>\n",
       "      <td>2.515912</td>\n",
       "      <td>0.638645</td>\n",
       "      <td>1.503220</td>\n",
       "      <td>1.0</td>\n",
       "    </tr>\n",
       "    <tr>\n",
       "      <th>29</th>\n",
       "      <td>-1.134029</td>\n",
       "      <td>1.386615</td>\n",
       "      <td>2.051205</td>\n",
       "      <td>0.608723</td>\n",
       "      <td>2.664533</td>\n",
       "      <td>1.0</td>\n",
       "    </tr>\n",
       "  </tbody>\n",
       "</table>\n",
       "</div>"
      ],
      "text/plain": [
       "          x0        x1        d0        d1        d2  class\n",
       "0   1.291320 -2.083269  3.628258  3.668319  2.444788    2.0\n",
       "1   0.677549  0.926385  2.999136  1.316711  0.859625    2.0\n",
       "2   0.248341  0.952078  2.642347  0.886947  1.228388    1.0\n",
       "3  -2.218453  0.436127  0.957383  1.694945  3.544570    0.0\n",
       "4  -3.898155  1.089007  2.492858  3.264199  5.273930    0.0\n",
       "5  -2.080478 -1.805009  1.322144  3.190542  4.036376    0.0\n",
       "6   1.115515  0.977966  3.413483  1.750918  0.651398    2.0\n",
       "7  -0.203825  0.199599  1.892666  0.943341  1.537676    1.0\n",
       "8   0.420718  1.095145  2.864960  1.056551  1.164848    1.0\n",
       "9  -0.457603  1.059832  2.161954  0.177963  1.914892    1.0\n",
       "10 -1.972113 -0.964076  0.476380  2.408702  3.553827    0.0\n",
       "11 -1.675510  1.868579  2.374295  1.331270  3.358119    1.0\n",
       "12 -0.212238  0.807515  2.181240  0.481396  1.601009    1.0\n",
       "13 -0.800299 -0.411600  1.169462  1.460036  2.261776    0.0\n",
       "14  0.841133 -0.990142  2.853002  2.508851  1.435546    2.0\n",
       "15  0.483051  1.063042  2.899825  1.117650  1.096309    2.0\n",
       "16 -1.137411 -0.541306  0.831598  1.658422  2.622926    0.0\n",
       "17 -1.143533  1.461336  2.115982  0.661565  2.702848    1.0\n",
       "18  2.179615  0.980185  4.399033  2.814569  1.054916    2.0\n",
       "19 -1.124642  1.324199  1.998272  0.567231  2.632405    1.0\n",
       "20 -2.887669 -0.933535  1.022676  2.994710  4.407481    0.0\n",
       "21  1.551626  1.022206  3.829175  2.186029  0.698592    2.0\n",
       "22 -0.557680  1.044874  2.082263  0.076886  2.003250    1.0\n",
       "23 -1.118822  0.838266  1.574205  0.524411  2.490256    1.0\n",
       "24 -1.014724  0.448552  1.335653  0.702347  2.341677    1.0\n",
       "25 -0.743667 -0.771368  1.256060  1.813640  2.358736    0.0\n",
       "26  2.462803  0.993891  4.671275  3.097471  1.301555    2.0\n",
       "27 -0.910400  0.982463  1.810645  0.281785  2.320418    1.0\n",
       "28  0.003198  1.076578  2.515912  0.638645  1.503220    1.0\n",
       "29 -1.134029  1.386615  2.051205  0.608723  2.664533    1.0"
      ]
     },
     "execution_count": 8,
     "metadata": {},
     "output_type": "execute_result"
    }
   ],
   "source": [
    "# X 데이터와 중심점사이의 거리를 측정한 값, \n",
    "# 그리고 클러스터링을 통해 할당된 레이블을 하나의 데이터프레임으로 만들어 출력\n",
    "import pandas as pd\n",
    "import numpy as np\n",
    "df = pd.DataFrame(np.hstack([X, np.linalg.norm(X - c0, axis=1)[:, np.newaxis], # 첫번째 클러스터 중심값과의 거리\n",
    "                             np.linalg.norm(X - c1, axis=1)[:, np.newaxis], # 두번째 클러스터 중심값과의 거리\n",
    "                             np.linalg.norm(X - c2, axis=1)[:, np.newaxis], # 세번째 클러스터 중심값과의 거리\n",
    "                             model.labels_[:, np.newaxis]]),\n",
    "                  columns=[\"x0\", \"x1\", \"d0\", \"d1\", \"d2\", \"class\"])\n",
    "df"
   ]
  },
  {
   "cell_type": "code",
   "execution_count": 12,
   "id": "7085b4fb",
   "metadata": {},
   "outputs": [],
   "source": [
    "# 모델과 데이터를 인수로 받아 산점도와 중심점을 출력할 함수\n",
    "def plot_clusters(model, data):\n",
    "    c0, c1, c2 = model.cluster_centers_\n",
    "    plt.scatter(data[model.labels_ == 0, 0], X[model.labels_ == 0, 1], s=20, marker=\"v\", c=\"r\")\n",
    "    plt.scatter(data[model.labels_ == 1, 0], X[model.labels_ == 1, 1], s=20, marker=\"^\", c=\"b\")\n",
    "    plt.scatter(X[model.labels_ == 2, 0], X[model.labels_ == 2, 1], s=100,marker=\"v\", c=\"y\")\n",
    "    plt.scatter(c0[0], c0[1], s=200, c=\"r\")\n",
    "    plt.scatter(c1[0], c1[1], s=200, c=\"b\")\n",
    "    plt.scatter(c2[0], c2[1], s=200, c=\"y\")\n"
   ]
  },
  {
   "cell_type": "code",
   "execution_count": 13,
   "id": "e1c822ff",
   "metadata": {
    "scrolled": false
   },
   "outputs": [
    {
     "data": {
      "image/png": "[encoded data removed]",
      "text/plain": [
       "<Figure size 720x720 with 6 Axes>"
      ]
     },
     "metadata": {
      "needs_background": "light"
     },
     "output_type": "display_data"
    }
   ],
   "source": [
    "# KMeans 클래스의 max_iter 인자는 최대 학습 횟수를 지정\n",
    "plt.figure(figsize=(10,10))\n",
    "model1 = KMeans(n_clusters=3, init=\"random\", n_init=1, max_iter=1, random_state=1)\n",
    "model1.fit(X)\n",
    "plt.subplot(3,2,1)\n",
    "plot_clusters(model1, X)\n",
    "\n",
    "model2 = KMeans(n_clusters=3, init=\"random\", n_init=1, max_iter=2, random_state=1)\n",
    "model2.fit(X)\n",
    "plt.subplot(3,2,2)\n",
    "plot_clusters(model2, X)\n",
    "\n",
    "model3 = KMeans(n_clusters=3, init=\"random\", n_init=1, max_iter=3, random_state=1)\n",
    "model3.fit(X)\n",
    "plt.subplot(3,2,3)\n",
    "plot_clusters(model3, X)\n",
    "\n",
    "model4 = KMeans(n_clusters=3, init=\"random\", n_init=1, max_iter=4, random_state=1)\n",
    "model4.fit(X)\n",
    "plt.subplot(3,2,4)\n",
    "plot_clusters(model4, X)\n",
    "\n",
    "model5 = KMeans(n_clusters=3, init=\"random\", n_init=1, max_iter=5, random_state=1)\n",
    "model5.fit(X)\n",
    "plt.subplot(3,2,5)\n",
    "plot_clusters(model5, X)\n",
    "\n",
    "model6 = KMeans(n_clusters=3, init=\"random\", n_init=1, max_iter=6, random_state=1)\n",
    "model6.fit(X)\n",
    "plt.subplot(3,2,6)\n",
    "plot_clusters(model6, X)\n",
    "plt.show()\n"
   ]
  },
  {
   "cell_type": "markdown",
   "id": "23237b33",
   "metadata": {},
   "source": [
    "# K-Means Clustering  (iris)"
   ]
  },
  {
   "cell_type": "code",
   "execution_count": 14,
   "id": "3a86e46d",
   "metadata": {},
   "outputs": [
    {
     "data": {
      "text/html": [
       "<div>\n",
       "<style scoped>\n",
       "    .dataframe tbody tr th:only-of-type {\n",
       "        vertical-align: middle;\n",
       "    }\n",
       "\n",
       "    .dataframe tbody tr th {\n",
       "        vertical-align: top;\n",
       "    }\n",
       "\n",
       "    .dataframe thead th {\n",
       "        text-align: right;\n",
       "    }\n",
       "</style>\n",
       "<table border=\"1\" class=\"dataframe\">\n",
       "  <thead>\n",
       "    <tr style=\"text-align: right;\">\n",
       "      <th></th>\n",
       "      <th>sepal length (cm)</th>\n",
       "      <th>sepal width (cm)</th>\n",
       "      <th>petal length (cm)</th>\n",
       "      <th>petal width (cm)</th>\n",
       "    </tr>\n",
       "  </thead>\n",
       "  <tbody>\n",
       "    <tr>\n",
       "      <th>0</th>\n",
       "      <td>5.1</td>\n",
       "      <td>3.5</td>\n",
       "      <td>1.4</td>\n",
       "      <td>0.2</td>\n",
       "    </tr>\n",
       "    <tr>\n",
       "      <th>1</th>\n",
       "      <td>4.9</td>\n",
       "      <td>3.0</td>\n",
       "      <td>1.4</td>\n",
       "      <td>0.2</td>\n",
       "    </tr>\n",
       "    <tr>\n",
       "      <th>2</th>\n",
       "      <td>4.7</td>\n",
       "      <td>3.2</td>\n",
       "      <td>1.3</td>\n",
       "      <td>0.2</td>\n",
       "    </tr>\n",
       "    <tr>\n",
       "      <th>3</th>\n",
       "      <td>4.6</td>\n",
       "      <td>3.1</td>\n",
       "      <td>1.5</td>\n",
       "      <td>0.2</td>\n",
       "    </tr>\n",
       "    <tr>\n",
       "      <th>4</th>\n",
       "      <td>5.0</td>\n",
       "      <td>3.6</td>\n",
       "      <td>1.4</td>\n",
       "      <td>0.2</td>\n",
       "    </tr>\n",
       "    <tr>\n",
       "      <th>...</th>\n",
       "      <td>...</td>\n",
       "      <td>...</td>\n",
       "      <td>...</td>\n",
       "      <td>...</td>\n",
       "    </tr>\n",
       "    <tr>\n",
       "      <th>145</th>\n",
       "      <td>6.7</td>\n",
       "      <td>3.0</td>\n",
       "      <td>5.2</td>\n",
       "      <td>2.3</td>\n",
       "    </tr>\n",
       "    <tr>\n",
       "      <th>146</th>\n",
       "      <td>6.3</td>\n",
       "      <td>2.5</td>\n",
       "      <td>5.0</td>\n",
       "      <td>1.9</td>\n",
       "    </tr>\n",
       "    <tr>\n",
       "      <th>147</th>\n",
       "      <td>6.5</td>\n",
       "      <td>3.0</td>\n",
       "      <td>5.2</td>\n",
       "      <td>2.0</td>\n",
       "    </tr>\n",
       "    <tr>\n",
       "      <th>148</th>\n",
       "      <td>6.2</td>\n",
       "      <td>3.4</td>\n",
       "      <td>5.4</td>\n",
       "      <td>2.3</td>\n",
       "    </tr>\n",
       "    <tr>\n",
       "      <th>149</th>\n",
       "      <td>5.9</td>\n",
       "      <td>3.0</td>\n",
       "      <td>5.1</td>\n",
       "      <td>1.8</td>\n",
       "    </tr>\n",
       "  </tbody>\n",
       "</table>\n",
       "<p>150 rows × 4 columns</p>\n",
       "</div>"
      ],
      "text/plain": [
       "     sepal length (cm)  sepal width (cm)  petal length (cm)  petal width (cm)\n",
       "0                  5.1               3.5                1.4               0.2\n",
       "1                  4.9               3.0                1.4               0.2\n",
       "2                  4.7               3.2                1.3               0.2\n",
       "3                  4.6               3.1                1.5               0.2\n",
       "4                  5.0               3.6                1.4               0.2\n",
       "..                 ...               ...                ...               ...\n",
       "145                6.7               3.0                5.2               2.3\n",
       "146                6.3               2.5                5.0               1.9\n",
       "147                6.5               3.0                5.2               2.0\n",
       "148                6.2               3.4                5.4               2.3\n",
       "149                5.9               3.0                5.1               1.8\n",
       "\n",
       "[150 rows x 4 columns]"
      ]
     },
     "execution_count": 14,
     "metadata": {},
     "output_type": "execute_result"
    }
   ],
   "source": [
    "import math\n",
    "from sklearn.datasets import load_iris\n",
    "import pandas as pd\n",
    "\n",
    "iris = load_iris()\n",
    "iris_data = iris.data\n",
    "iris_data_pd = pd.DataFrame(iris_data, columns=iris.feature_names)\n",
    "iris_data_pd\n"
   ]
  },
  {
   "cell_type": "code",
   "execution_count": 15,
   "id": "0e430103",
   "metadata": {},
   "outputs": [
    {
     "data": {
      "image/png": "[encoded data removed]",
      "text/plain": [
       "<Figure size 432x288 with 1 Axes>"
      ]
     },
     "metadata": {
      "needs_background": "light"
     },
     "output_type": "display_data"
    }
   ],
   "source": [
    "# 'petal length' 와 'petal width' 데이터 2개의 상관 관계\n",
    "import matplotlib.pyplot as plt\n",
    "\n",
    "petals = pd.DataFrame(iris_data_pd.values[:, 2:4], columns=['petal length (cm)', 'petal width (cm)'])\n",
    "plt.scatter(petals.values[:, 0], petals.values[:, 1])\n",
    "plt.show()\n"
   ]
  },
  {
   "cell_type": "code",
   "execution_count": 16,
   "id": "ef904ef9",
   "metadata": {},
   "outputs": [
    {
     "data": {
      "image/png": "[encoded data removed]",
      "text/plain": [
       "<Figure size 504x360 with 1 Axes>"
      ]
     },
     "metadata": {
      "needs_background": "light"
     },
     "output_type": "display_data"
    }
   ],
   "source": [
    "# K=2로 Clustering\n",
    "from sklearn.cluster import KMeans\n",
    "\n",
    "km = KMeans(n_clusters=2, random_state=20)\n",
    "km.fit(iris_data_pd.iloc[:, 2:4])\n",
    "\n",
    "y_pred = km.predict(iris_data_pd.iloc[:, 2:4])\n",
    "plt.figure(figsize=(7, 5))\n",
    "plt.scatter(iris_data_pd.iloc[:, 2], iris_data_pd.iloc[:, 3], c=y_pred)\n",
    "plt.title('Clustering')\n",
    "plt.xlabel('petal length')\n",
    "plt.ylabel('petal width')\n",
    "plt.show()\n"
   ]
  },
  {
   "cell_type": "code",
   "execution_count": 17,
   "id": "a4e1b692",
   "metadata": {},
   "outputs": [
    {
     "name": "stdout",
     "output_type": "stream",
     "text": [
      "petal length (cm)    3.0\n",
      "petal width (cm)     1.1\n",
      "Name: 98, dtype: float64\n"
     ]
    },
    {
     "data": {
      "text/plain": [
       "array([[1.49215686, 0.2627451 ],\n",
       "       [4.92525253, 1.68181818]])"
      ]
     },
     "execution_count": 17,
     "metadata": {},
     "output_type": "execute_result"
    }
   ],
   "source": [
    "km.predict(iris_data_pd.iloc[:, 2:4])\n",
    "print(iris_data_pd.iloc[98, 2:4])\n",
    "\n",
    "# 각 클러스터 기준값 확인\n",
    "km.cluster_centers_\n"
   ]
  },
  {
   "cell_type": "code",
   "execution_count": 18,
   "id": "04a4b214",
   "metadata": {},
   "outputs": [],
   "source": [
    "# 유클리드 거리 측정\n",
    "def distance(x1, y1, x2, y2):\n",
    "    dx = x2 - x1\n",
    "    dy = y2 - y1\n",
    "    squared = dx**2 + dy**2\n",
    "    result = math.sqrt(squared)\n",
    "    return result \n"
   ]
  },
  {
   "cell_type": "code",
   "execution_count": 19,
   "id": "d1431d7b",
   "metadata": {},
   "outputs": [
    {
     "name": "stdout",
     "output_type": "stream",
     "text": [
      "0 cluster distance :  1.7246990164733285\n",
      "1 cluster distance :  2.0112458036464465\n"
     ]
    }
   ],
   "source": [
    "print('0 cluster distance : ', distance(iris_data_pd.iloc[98, 2], iris_data_pd.iloc[98, 3], \n",
    "      km.cluster_centers_[0][0], km.cluster_centers_[0][1]))\n",
    "print('1 cluster distance : ', distance(iris_data_pd.iloc[98, 2], iris_data_pd.iloc[98, 3], \n",
    "      km.cluster_centers_[1][0], km.cluster_centers_[1][1]))\n"
   ]
  },
  {
   "cell_type": "code",
   "execution_count": null,
   "id": "a4f21c1c",
   "metadata": {},
   "outputs": [],
   "source": []
  }
 ],
 "metadata": {
  "kernelspec": {
   "display_name": "Python 3 (ipykernel)",
   "language": "python",
   "name": "python3"
  },
  "language_info": {
   "codemirror_mode": {
    "name": "ipython",
    "version": 3
   },
   "file_extension": ".py",
   "mimetype": "text/x-python",
   "name": "python",
   "nbconvert_exporter": "python",
   "pygments_lexer": "ipython3",
   "version": "3.7.9"
  }
 },
 "nbformat": 4,
 "nbformat_minor": 5
}
