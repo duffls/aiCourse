{
 "cells": [
  {
   "cell_type": "markdown",
   "id": "7af49a19",
   "metadata": {},
   "source": [
    "# FinanceDataReader : 주가 데이터를 가져올 수 있는 파이썬 패키지\n",
    "\n",
    "- pip install finance-datareader"
   ]
  },
  {
   "cell_type": "code",
   "execution_count": 1,
   "id": "bf009859",
   "metadata": {},
   "outputs": [],
   "source": [
    "import pandas as pd\n",
    "import numpy as np\n",
    "import matplotlib.pyplot as plt\n",
    "import seaborn as sns\n",
    "import warnings\n",
    "import os\n"
   ]
  },
  {
   "cell_type": "code",
   "execution_count": 3,
   "id": "984f8dd6",
   "metadata": {},
   "outputs": [],
   "source": [
    "# 경고메시지 끄기\n",
    "warnings.filterwarnings('ignore')\n",
    "\n",
    "plt.rcParams['font.family'] = 'Malgun Gothic'\n"
   ]
  },
  {
   "cell_type": "code",
   "execution_count": 4,
   "id": "87e22662",
   "metadata": {},
   "outputs": [
    {
     "data": {
      "text/html": [
       "<div>\n",
       "<style scoped>\n",
       "    .dataframe tbody tr th:only-of-type {\n",
       "        vertical-align: middle;\n",
       "    }\n",
       "\n",
       "    .dataframe tbody tr th {\n",
       "        vertical-align: top;\n",
       "    }\n",
       "\n",
       "    .dataframe thead th {\n",
       "        text-align: right;\n",
       "    }\n",
       "</style>\n",
       "<table border=\"1\" class=\"dataframe\">\n",
       "  <thead>\n",
       "    <tr style=\"text-align: right;\">\n",
       "      <th></th>\n",
       "      <th>Close</th>\n",
       "      <th>Open</th>\n",
       "      <th>High</th>\n",
       "      <th>Low</th>\n",
       "      <th>Volume</th>\n",
       "      <th>Change</th>\n",
       "    </tr>\n",
       "    <tr>\n",
       "      <th>Date</th>\n",
       "      <th></th>\n",
       "      <th></th>\n",
       "      <th></th>\n",
       "      <th></th>\n",
       "      <th></th>\n",
       "      <th></th>\n",
       "    </tr>\n",
       "  </thead>\n",
       "  <tbody>\n",
       "    <tr>\n",
       "      <th>2022-01-20</th>\n",
       "      <td>164.51</td>\n",
       "      <td>166.98</td>\n",
       "      <td>169.68</td>\n",
       "      <td>164.18</td>\n",
       "      <td>85850000.0</td>\n",
       "      <td>-0.0103</td>\n",
       "    </tr>\n",
       "    <tr>\n",
       "      <th>2022-01-21</th>\n",
       "      <td>162.41</td>\n",
       "      <td>164.41</td>\n",
       "      <td>166.33</td>\n",
       "      <td>162.30</td>\n",
       "      <td>122850000.0</td>\n",
       "      <td>-0.0128</td>\n",
       "    </tr>\n",
       "    <tr>\n",
       "      <th>2022-01-24</th>\n",
       "      <td>161.62</td>\n",
       "      <td>160.02</td>\n",
       "      <td>162.30</td>\n",
       "      <td>154.70</td>\n",
       "      <td>161420000.0</td>\n",
       "      <td>-0.0049</td>\n",
       "    </tr>\n",
       "    <tr>\n",
       "      <th>2022-01-25</th>\n",
       "      <td>159.78</td>\n",
       "      <td>158.98</td>\n",
       "      <td>162.76</td>\n",
       "      <td>157.02</td>\n",
       "      <td>112530000.0</td>\n",
       "      <td>-0.0114</td>\n",
       "    </tr>\n",
       "    <tr>\n",
       "      <th>2022-01-26</th>\n",
       "      <td>159.69</td>\n",
       "      <td>163.50</td>\n",
       "      <td>164.39</td>\n",
       "      <td>157.82</td>\n",
       "      <td>107490000.0</td>\n",
       "      <td>-0.0006</td>\n",
       "    </tr>\n",
       "  </tbody>\n",
       "</table>\n",
       "</div>"
      ],
      "text/plain": [
       "             Close    Open    High     Low       Volume  Change\n",
       "Date                                                           \n",
       "2022-01-20  164.51  166.98  169.68  164.18   85850000.0 -0.0103\n",
       "2022-01-21  162.41  164.41  166.33  162.30  122850000.0 -0.0128\n",
       "2022-01-24  161.62  160.02  162.30  154.70  161420000.0 -0.0049\n",
       "2022-01-25  159.78  158.98  162.76  157.02  112530000.0 -0.0114\n",
       "2022-01-26  159.69  163.50  164.39  157.82  107490000.0 -0.0006"
      ]
     },
     "execution_count": 4,
     "metadata": {},
     "output_type": "execute_result"
    }
   ],
   "source": [
    "import FinanceDataReader as fdr\n",
    "\n",
    "apple = fdr.DataReader('AAPL')\n",
    "apple.tail()"
   ]
  },
  {
   "cell_type": "code",
   "execution_count": 6,
   "id": "942827d7",
   "metadata": {},
   "outputs": [
    {
     "data": {
      "text/html": [
       "<div>\n",
       "<style scoped>\n",
       "    .dataframe tbody tr th:only-of-type {\n",
       "        vertical-align: middle;\n",
       "    }\n",
       "\n",
       "    .dataframe tbody tr th {\n",
       "        vertical-align: top;\n",
       "    }\n",
       "\n",
       "    .dataframe thead th {\n",
       "        text-align: right;\n",
       "    }\n",
       "</style>\n",
       "<table border=\"1\" class=\"dataframe\">\n",
       "  <thead>\n",
       "    <tr style=\"text-align: right;\">\n",
       "      <th></th>\n",
       "      <th>Close</th>\n",
       "      <th>Open</th>\n",
       "      <th>High</th>\n",
       "      <th>Low</th>\n",
       "      <th>Volume</th>\n",
       "      <th>Change</th>\n",
       "    </tr>\n",
       "    <tr>\n",
       "      <th>Date</th>\n",
       "      <th></th>\n",
       "      <th></th>\n",
       "      <th></th>\n",
       "      <th></th>\n",
       "      <th></th>\n",
       "      <th></th>\n",
       "    </tr>\n",
       "  </thead>\n",
       "  <tbody>\n",
       "    <tr>\n",
       "      <th>1980-03-18</th>\n",
       "      <td>1.83</td>\n",
       "      <td>1.83</td>\n",
       "      <td>1.85</td>\n",
       "      <td>1.82</td>\n",
       "      <td>3770000.0</td>\n",
       "      <td>-0.0108</td>\n",
       "    </tr>\n",
       "    <tr>\n",
       "      <th>1980-03-19</th>\n",
       "      <td>1.85</td>\n",
       "      <td>1.85</td>\n",
       "      <td>1.86</td>\n",
       "      <td>1.83</td>\n",
       "      <td>1560000.0</td>\n",
       "      <td>0.0109</td>\n",
       "    </tr>\n",
       "    <tr>\n",
       "      <th>1980-03-20</th>\n",
       "      <td>1.86</td>\n",
       "      <td>1.86</td>\n",
       "      <td>1.88</td>\n",
       "      <td>1.85</td>\n",
       "      <td>1450000.0</td>\n",
       "      <td>0.0054</td>\n",
       "    </tr>\n",
       "    <tr>\n",
       "      <th>1980-03-21</th>\n",
       "      <td>1.78</td>\n",
       "      <td>1.78</td>\n",
       "      <td>1.85</td>\n",
       "      <td>1.76</td>\n",
       "      <td>5020000.0</td>\n",
       "      <td>-0.0430</td>\n",
       "    </tr>\n",
       "    <tr>\n",
       "      <th>1980-03-24</th>\n",
       "      <td>1.71</td>\n",
       "      <td>1.71</td>\n",
       "      <td>1.75</td>\n",
       "      <td>1.66</td>\n",
       "      <td>3330000.0</td>\n",
       "      <td>-0.0393</td>\n",
       "    </tr>\n",
       "    <tr>\n",
       "      <th>...</th>\n",
       "      <td>...</td>\n",
       "      <td>...</td>\n",
       "      <td>...</td>\n",
       "      <td>...</td>\n",
       "      <td>...</td>\n",
       "      <td>...</td>\n",
       "    </tr>\n",
       "    <tr>\n",
       "      <th>2022-01-20</th>\n",
       "      <td>21.65</td>\n",
       "      <td>21.88</td>\n",
       "      <td>22.88</td>\n",
       "      <td>21.57</td>\n",
       "      <td>149800000.0</td>\n",
       "      <td>-0.0356</td>\n",
       "    </tr>\n",
       "    <tr>\n",
       "      <th>2022-01-21</th>\n",
       "      <td>20.65</td>\n",
       "      <td>21.21</td>\n",
       "      <td>21.50</td>\n",
       "      <td>20.54</td>\n",
       "      <td>145530000.0</td>\n",
       "      <td>-0.0462</td>\n",
       "    </tr>\n",
       "    <tr>\n",
       "      <th>2022-01-24</th>\n",
       "      <td>20.39</td>\n",
       "      <td>19.93</td>\n",
       "      <td>20.47</td>\n",
       "      <td>18.80</td>\n",
       "      <td>185690000.0</td>\n",
       "      <td>-0.0126</td>\n",
       "    </tr>\n",
       "    <tr>\n",
       "      <th>2022-01-25</th>\n",
       "      <td>19.98</td>\n",
       "      <td>20.00</td>\n",
       "      <td>20.31</td>\n",
       "      <td>19.56</td>\n",
       "      <td>115950000.0</td>\n",
       "      <td>-0.0201</td>\n",
       "    </tr>\n",
       "    <tr>\n",
       "      <th>2022-01-26</th>\n",
       "      <td>19.91</td>\n",
       "      <td>21.01</td>\n",
       "      <td>21.04</td>\n",
       "      <td>19.57</td>\n",
       "      <td>134900000.0</td>\n",
       "      <td>-0.0035</td>\n",
       "    </tr>\n",
       "  </tbody>\n",
       "</table>\n",
       "<p>10557 rows × 6 columns</p>\n",
       "</div>"
      ],
      "text/plain": [
       "            Close   Open   High    Low       Volume  Change\n",
       "Date                                                       \n",
       "1980-03-18   1.83   1.83   1.85   1.82    3770000.0 -0.0108\n",
       "1980-03-19   1.85   1.85   1.86   1.83    1560000.0  0.0109\n",
       "1980-03-20   1.86   1.86   1.88   1.85    1450000.0  0.0054\n",
       "1980-03-21   1.78   1.78   1.85   1.76    5020000.0 -0.0430\n",
       "1980-03-24   1.71   1.71   1.75   1.66    3330000.0 -0.0393\n",
       "...           ...    ...    ...    ...          ...     ...\n",
       "2022-01-20  21.65  21.88  22.88  21.57  149800000.0 -0.0356\n",
       "2022-01-21  20.65  21.21  21.50  20.54  145530000.0 -0.0462\n",
       "2022-01-24  20.39  19.93  20.47  18.80  185690000.0 -0.0126\n",
       "2022-01-25  19.98  20.00  20.31  19.56  115950000.0 -0.0201\n",
       "2022-01-26  19.91  21.01  21.04  19.57  134900000.0 -0.0035\n",
       "\n",
       "[10557 rows x 6 columns]"
      ]
     },
     "execution_count": 6,
     "metadata": {},
     "output_type": "execute_result"
    }
   ],
   "source": [
    "ford = fdr.DataReader('F', '1980-01-01', '2022-12-30')\n",
    "ford"
   ]
  },
  {
   "cell_type": "code",
   "execution_count": 8,
   "id": "2793401f",
   "metadata": {},
   "outputs": [
    {
     "data": {
      "text/html": [
       "<div>\n",
       "<style scoped>\n",
       "    .dataframe tbody tr th:only-of-type {\n",
       "        vertical-align: middle;\n",
       "    }\n",
       "\n",
       "    .dataframe tbody tr th {\n",
       "        vertical-align: top;\n",
       "    }\n",
       "\n",
       "    .dataframe thead th {\n",
       "        text-align: right;\n",
       "    }\n",
       "</style>\n",
       "<table border=\"1\" class=\"dataframe\">\n",
       "  <thead>\n",
       "    <tr style=\"text-align: right;\">\n",
       "      <th></th>\n",
       "      <th>Open</th>\n",
       "      <th>High</th>\n",
       "      <th>Low</th>\n",
       "      <th>Close</th>\n",
       "      <th>Volume</th>\n",
       "      <th>Change</th>\n",
       "    </tr>\n",
       "    <tr>\n",
       "      <th>Date</th>\n",
       "      <th></th>\n",
       "      <th></th>\n",
       "      <th></th>\n",
       "      <th></th>\n",
       "      <th></th>\n",
       "      <th></th>\n",
       "    </tr>\n",
       "  </thead>\n",
       "  <tbody>\n",
       "    <tr>\n",
       "      <th>1997-12-17</th>\n",
       "      <td>822</td>\n",
       "      <td>838</td>\n",
       "      <td>797</td>\n",
       "      <td>810</td>\n",
       "      <td>585420</td>\n",
       "      <td>NaN</td>\n",
       "    </tr>\n",
       "    <tr>\n",
       "      <th>1997-12-19</th>\n",
       "      <td>752</td>\n",
       "      <td>795</td>\n",
       "      <td>745</td>\n",
       "      <td>745</td>\n",
       "      <td>705280</td>\n",
       "      <td>-0.080247</td>\n",
       "    </tr>\n",
       "    <tr>\n",
       "      <th>1997-12-20</th>\n",
       "      <td>750</td>\n",
       "      <td>784</td>\n",
       "      <td>716</td>\n",
       "      <td>751</td>\n",
       "      <td>255040</td>\n",
       "      <td>0.008054</td>\n",
       "    </tr>\n",
       "    <tr>\n",
       "      <th>1997-12-22</th>\n",
       "      <td>754</td>\n",
       "      <td>775</td>\n",
       "      <td>738</td>\n",
       "      <td>740</td>\n",
       "      <td>189200</td>\n",
       "      <td>-0.014647</td>\n",
       "    </tr>\n",
       "    <tr>\n",
       "      <th>1997-12-23</th>\n",
       "      <td>739</td>\n",
       "      <td>739</td>\n",
       "      <td>680</td>\n",
       "      <td>681</td>\n",
       "      <td>731790</td>\n",
       "      <td>-0.079730</td>\n",
       "    </tr>\n",
       "    <tr>\n",
       "      <th>...</th>\n",
       "      <td>...</td>\n",
       "      <td>...</td>\n",
       "      <td>...</td>\n",
       "      <td>...</td>\n",
       "      <td>...</td>\n",
       "      <td>...</td>\n",
       "    </tr>\n",
       "    <tr>\n",
       "      <th>2022-01-21</th>\n",
       "      <td>75800</td>\n",
       "      <td>75800</td>\n",
       "      <td>74700</td>\n",
       "      <td>75600</td>\n",
       "      <td>15774888</td>\n",
       "      <td>-0.011765</td>\n",
       "    </tr>\n",
       "    <tr>\n",
       "      <th>2022-01-24</th>\n",
       "      <td>75400</td>\n",
       "      <td>75800</td>\n",
       "      <td>74700</td>\n",
       "      <td>75100</td>\n",
       "      <td>13691134</td>\n",
       "      <td>-0.006614</td>\n",
       "    </tr>\n",
       "    <tr>\n",
       "      <th>2022-01-25</th>\n",
       "      <td>74800</td>\n",
       "      <td>75000</td>\n",
       "      <td>73200</td>\n",
       "      <td>74000</td>\n",
       "      <td>17766704</td>\n",
       "      <td>-0.014647</td>\n",
       "    </tr>\n",
       "    <tr>\n",
       "      <th>2022-01-26</th>\n",
       "      <td>73900</td>\n",
       "      <td>74400</td>\n",
       "      <td>73100</td>\n",
       "      <td>73300</td>\n",
       "      <td>12976730</td>\n",
       "      <td>-0.009459</td>\n",
       "    </tr>\n",
       "    <tr>\n",
       "      <th>2022-01-27</th>\n",
       "      <td>73800</td>\n",
       "      <td>74000</td>\n",
       "      <td>71300</td>\n",
       "      <td>71500</td>\n",
       "      <td>20528165</td>\n",
       "      <td>-0.024557</td>\n",
       "    </tr>\n",
       "  </tbody>\n",
       "</table>\n",
       "<p>6000 rows × 6 columns</p>\n",
       "</div>"
      ],
      "text/plain": [
       "             Open   High    Low  Close    Volume    Change\n",
       "Date                                                      \n",
       "1997-12-17    822    838    797    810    585420       NaN\n",
       "1997-12-19    752    795    745    745    705280 -0.080247\n",
       "1997-12-20    750    784    716    751    255040  0.008054\n",
       "1997-12-22    754    775    738    740    189200 -0.014647\n",
       "1997-12-23    739    739    680    681    731790 -0.079730\n",
       "...           ...    ...    ...    ...       ...       ...\n",
       "2022-01-21  75800  75800  74700  75600  15774888 -0.011765\n",
       "2022-01-24  75400  75800  74700  75100  13691134 -0.006614\n",
       "2022-01-25  74800  75000  73200  74000  17766704 -0.014647\n",
       "2022-01-26  73900  74400  73100  73300  12976730 -0.009459\n",
       "2022-01-27  73800  74000  71300  71500  20528165 -0.024557\n",
       "\n",
       "[6000 rows x 6 columns]"
      ]
     },
     "execution_count": 8,
     "metadata": {},
     "output_type": "execute_result"
    }
   ],
   "source": [
    "stock = fdr.DataReader(symbol='005930', start='1980-01-01', end='2022-01-28')\n",
    "stock"
   ]
  },
  {
   "cell_type": "code",
   "execution_count": 9,
   "id": "fc537da8",
   "metadata": {},
   "outputs": [
    {
     "data": {
      "text/plain": [
       "DatetimeIndex(['1997-12-17', '1997-12-19', '1997-12-20', '1997-12-22',\n",
       "               '1997-12-23', '1997-12-24', '1997-12-26', '1997-12-27',\n",
       "               '1998-01-03', '1998-01-05',\n",
       "               ...\n",
       "               '2022-01-14', '2022-01-17', '2022-01-18', '2022-01-19',\n",
       "               '2022-01-20', '2022-01-21', '2022-01-24', '2022-01-25',\n",
       "               '2022-01-26', '2022-01-27'],\n",
       "              dtype='datetime64[ns]', name='Date', length=6000, freq=None)"
      ]
     },
     "execution_count": 9,
     "metadata": {},
     "output_type": "execute_result"
    }
   ],
   "source": [
    "stock.index"
   ]
  },
  {
   "cell_type": "code",
   "execution_count": 10,
   "id": "a98dfccf",
   "metadata": {},
   "outputs": [
    {
     "data": {
      "text/html": [
       "<div>\n",
       "<style scoped>\n",
       "    .dataframe tbody tr th:only-of-type {\n",
       "        vertical-align: middle;\n",
       "    }\n",
       "\n",
       "    .dataframe tbody tr th {\n",
       "        vertical-align: top;\n",
       "    }\n",
       "\n",
       "    .dataframe thead th {\n",
       "        text-align: right;\n",
       "    }\n",
       "</style>\n",
       "<table border=\"1\" class=\"dataframe\">\n",
       "  <thead>\n",
       "    <tr style=\"text-align: right;\">\n",
       "      <th></th>\n",
       "      <th>Open</th>\n",
       "      <th>High</th>\n",
       "      <th>Low</th>\n",
       "      <th>Close</th>\n",
       "      <th>Volume</th>\n",
       "      <th>Change</th>\n",
       "      <th>Year</th>\n",
       "      <th>Month</th>\n",
       "      <th>Day</th>\n",
       "    </tr>\n",
       "    <tr>\n",
       "      <th>Date</th>\n",
       "      <th></th>\n",
       "      <th></th>\n",
       "      <th></th>\n",
       "      <th></th>\n",
       "      <th></th>\n",
       "      <th></th>\n",
       "      <th></th>\n",
       "      <th></th>\n",
       "      <th></th>\n",
       "    </tr>\n",
       "  </thead>\n",
       "  <tbody>\n",
       "    <tr>\n",
       "      <th>1997-12-17</th>\n",
       "      <td>822</td>\n",
       "      <td>838</td>\n",
       "      <td>797</td>\n",
       "      <td>810</td>\n",
       "      <td>585420</td>\n",
       "      <td>NaN</td>\n",
       "      <td>1997</td>\n",
       "      <td>12</td>\n",
       "      <td>17</td>\n",
       "    </tr>\n",
       "    <tr>\n",
       "      <th>1997-12-19</th>\n",
       "      <td>752</td>\n",
       "      <td>795</td>\n",
       "      <td>745</td>\n",
       "      <td>745</td>\n",
       "      <td>705280</td>\n",
       "      <td>-0.080247</td>\n",
       "      <td>1997</td>\n",
       "      <td>12</td>\n",
       "      <td>19</td>\n",
       "    </tr>\n",
       "    <tr>\n",
       "      <th>1997-12-20</th>\n",
       "      <td>750</td>\n",
       "      <td>784</td>\n",
       "      <td>716</td>\n",
       "      <td>751</td>\n",
       "      <td>255040</td>\n",
       "      <td>0.008054</td>\n",
       "      <td>1997</td>\n",
       "      <td>12</td>\n",
       "      <td>20</td>\n",
       "    </tr>\n",
       "    <tr>\n",
       "      <th>1997-12-22</th>\n",
       "      <td>754</td>\n",
       "      <td>775</td>\n",
       "      <td>738</td>\n",
       "      <td>740</td>\n",
       "      <td>189200</td>\n",
       "      <td>-0.014647</td>\n",
       "      <td>1997</td>\n",
       "      <td>12</td>\n",
       "      <td>22</td>\n",
       "    </tr>\n",
       "    <tr>\n",
       "      <th>1997-12-23</th>\n",
       "      <td>739</td>\n",
       "      <td>739</td>\n",
       "      <td>680</td>\n",
       "      <td>681</td>\n",
       "      <td>731790</td>\n",
       "      <td>-0.079730</td>\n",
       "      <td>1997</td>\n",
       "      <td>12</td>\n",
       "      <td>23</td>\n",
       "    </tr>\n",
       "    <tr>\n",
       "      <th>...</th>\n",
       "      <td>...</td>\n",
       "      <td>...</td>\n",
       "      <td>...</td>\n",
       "      <td>...</td>\n",
       "      <td>...</td>\n",
       "      <td>...</td>\n",
       "      <td>...</td>\n",
       "      <td>...</td>\n",
       "      <td>...</td>\n",
       "    </tr>\n",
       "    <tr>\n",
       "      <th>2022-01-21</th>\n",
       "      <td>75800</td>\n",
       "      <td>75800</td>\n",
       "      <td>74700</td>\n",
       "      <td>75600</td>\n",
       "      <td>15774888</td>\n",
       "      <td>-0.011765</td>\n",
       "      <td>2022</td>\n",
       "      <td>1</td>\n",
       "      <td>21</td>\n",
       "    </tr>\n",
       "    <tr>\n",
       "      <th>2022-01-24</th>\n",
       "      <td>75400</td>\n",
       "      <td>75800</td>\n",
       "      <td>74700</td>\n",
       "      <td>75100</td>\n",
       "      <td>13691134</td>\n",
       "      <td>-0.006614</td>\n",
       "      <td>2022</td>\n",
       "      <td>1</td>\n",
       "      <td>24</td>\n",
       "    </tr>\n",
       "    <tr>\n",
       "      <th>2022-01-25</th>\n",
       "      <td>74800</td>\n",
       "      <td>75000</td>\n",
       "      <td>73200</td>\n",
       "      <td>74000</td>\n",
       "      <td>17766704</td>\n",
       "      <td>-0.014647</td>\n",
       "      <td>2022</td>\n",
       "      <td>1</td>\n",
       "      <td>25</td>\n",
       "    </tr>\n",
       "    <tr>\n",
       "      <th>2022-01-26</th>\n",
       "      <td>73900</td>\n",
       "      <td>74400</td>\n",
       "      <td>73100</td>\n",
       "      <td>73300</td>\n",
       "      <td>12976730</td>\n",
       "      <td>-0.009459</td>\n",
       "      <td>2022</td>\n",
       "      <td>1</td>\n",
       "      <td>26</td>\n",
       "    </tr>\n",
       "    <tr>\n",
       "      <th>2022-01-27</th>\n",
       "      <td>73800</td>\n",
       "      <td>74000</td>\n",
       "      <td>71300</td>\n",
       "      <td>71500</td>\n",
       "      <td>20528165</td>\n",
       "      <td>-0.024557</td>\n",
       "      <td>2022</td>\n",
       "      <td>1</td>\n",
       "      <td>27</td>\n",
       "    </tr>\n",
       "  </tbody>\n",
       "</table>\n",
       "<p>6000 rows × 9 columns</p>\n",
       "</div>"
      ],
      "text/plain": [
       "             Open   High    Low  Close    Volume    Change  Year  Month  Day\n",
       "Date                                                                        \n",
       "1997-12-17    822    838    797    810    585420       NaN  1997     12   17\n",
       "1997-12-19    752    795    745    745    705280 -0.080247  1997     12   19\n",
       "1997-12-20    750    784    716    751    255040  0.008054  1997     12   20\n",
       "1997-12-22    754    775    738    740    189200 -0.014647  1997     12   22\n",
       "1997-12-23    739    739    680    681    731790 -0.079730  1997     12   23\n",
       "...           ...    ...    ...    ...       ...       ...   ...    ...  ...\n",
       "2022-01-21  75800  75800  74700  75600  15774888 -0.011765  2022      1   21\n",
       "2022-01-24  75400  75800  74700  75100  13691134 -0.006614  2022      1   24\n",
       "2022-01-25  74800  75000  73200  74000  17766704 -0.014647  2022      1   25\n",
       "2022-01-26  73900  74400  73100  73300  12976730 -0.009459  2022      1   26\n",
       "2022-01-27  73800  74000  71300  71500  20528165 -0.024557  2022      1   27\n",
       "\n",
       "[6000 rows x 9 columns]"
      ]
     },
     "execution_count": 10,
     "metadata": {},
     "output_type": "execute_result"
    }
   ],
   "source": [
    "stock['Year'] = stock.index.year\n",
    "stock['Month'] = stock.index.month\n",
    "stock['Day'] = stock.index.day\n",
    "stock"
   ]
  },
  {
   "cell_type": "code",
   "execution_count": 12,
   "id": "683e4042",
   "metadata": {},
   "outputs": [
    {
     "data": {
      "image/png": "[encoded data removed]",
      "text/plain": [
       "<Figure size 1152x432 with 1 Axes>"
      ]
     },
     "metadata": {
      "needs_background": "light"
     },
     "output_type": "display_data"
    }
   ],
   "source": [
    "plt.figure(figsize=(16, 6))\n",
    "sns.lineplot(y=stock['Close'], x=stock.index)\n",
    "plt.xlabel('Time')\n",
    "plt.ylabel('Price')\n",
    "plt.show()"
   ]
  },
  {
   "cell_type": "code",
   "execution_count": 13,
   "id": "466de08e",
   "metadata": {},
   "outputs": [],
   "source": [
    "time_steps = [['1990', '2000'],\n",
    "              ['2000', '2010'],\n",
    "              ['2010', '2015'],\n",
    "              ['2015', '2020']]"
   ]
  },
  {
   "cell_type": "code",
   "execution_count": 15,
   "id": "174074ac",
   "metadata": {},
   "outputs": [
    {
     "data": {
      "image/png": "[encoded data removed]",
      "text/plain": [
       "<Figure size 1152x648 with 4 Axes>"
      ]
     },
     "metadata": {
      "needs_background": "light"
     },
     "output_type": "display_data"
    }
   ],
   "source": [
    "fig, axes = plt.subplots(2, 2)\n",
    "fig.set_size_inches(16, 9)\n",
    "for i in range(4):\n",
    "    ax = axes[i//2, i%2]\n",
    "    df = stock.loc[(stock.index > time_steps[i][0]) &\n",
    "                   (stock.index < time_steps[i][1])]\n",
    "    sns.lineplot(y=df['Close'], x=df.index, ax=ax)\n",
    "    ax.set_title(f'[{time_steps[i][0]}~{time_steps[i][1]}]')\n",
    "    ax.set_xlabel('Time')\n",
    "    ax.set_ylabel('Price')\n",
    "plt.tight_layout()\n",
    "plt.show()"
   ]
  },
  {
   "cell_type": "code",
   "execution_count": 16,
   "id": "82768e28",
   "metadata": {},
   "outputs": [
    {
     "data": {
      "text/plain": [
       "array([[0.00910299, 0.00865702, 0.00890503, 0.00202494, 0.00648261],\n",
       "       [0.0083278 , 0.00821281, 0.00832402, 0.0013057 , 0.00780988],\n",
       "       [0.00830565, 0.00809917, 0.008     , 0.00137209, 0.00282417],\n",
       "       ...,\n",
       "       [0.82834994, 0.77479339, 0.81787709, 0.81189072, 0.19673852],\n",
       "       [0.81838317, 0.76859504, 0.81675978, 0.80414504, 0.14369704],\n",
       "       [0.81727575, 0.76446281, 0.79664804, 0.78422759, 0.2273174 ]])"
      ]
     },
     "execution_count": 16,
     "metadata": {},
     "output_type": "execute_result"
    }
   ],
   "source": [
    "from sklearn.preprocessing import MinMaxScaler\n",
    "\n",
    "scaler = MinMaxScaler()\n",
    "scale_cols = ['Open', 'High', 'Low', 'Close', 'Volume']\n",
    "scaled = scaler.fit_transform(stock[scale_cols])\n",
    "scaled"
   ]
  },
  {
   "cell_type": "code",
   "execution_count": 17,
   "id": "b734eed5",
   "metadata": {},
   "outputs": [
    {
     "data": {
      "text/html": [
       "<div>\n",
       "<style scoped>\n",
       "    .dataframe tbody tr th:only-of-type {\n",
       "        vertical-align: middle;\n",
       "    }\n",
       "\n",
       "    .dataframe tbody tr th {\n",
       "        vertical-align: top;\n",
       "    }\n",
       "\n",
       "    .dataframe thead th {\n",
       "        text-align: right;\n",
       "    }\n",
       "</style>\n",
       "<table border=\"1\" class=\"dataframe\">\n",
       "  <thead>\n",
       "    <tr style=\"text-align: right;\">\n",
       "      <th></th>\n",
       "      <th>Open</th>\n",
       "      <th>High</th>\n",
       "      <th>Low</th>\n",
       "      <th>Close</th>\n",
       "      <th>Volume</th>\n",
       "    </tr>\n",
       "  </thead>\n",
       "  <tbody>\n",
       "    <tr>\n",
       "      <th>0</th>\n",
       "      <td>0.009103</td>\n",
       "      <td>0.008657</td>\n",
       "      <td>0.008905</td>\n",
       "      <td>0.002025</td>\n",
       "      <td>0.006483</td>\n",
       "    </tr>\n",
       "    <tr>\n",
       "      <th>1</th>\n",
       "      <td>0.008328</td>\n",
       "      <td>0.008213</td>\n",
       "      <td>0.008324</td>\n",
       "      <td>0.001306</td>\n",
       "      <td>0.007810</td>\n",
       "    </tr>\n",
       "    <tr>\n",
       "      <th>2</th>\n",
       "      <td>0.008306</td>\n",
       "      <td>0.008099</td>\n",
       "      <td>0.008000</td>\n",
       "      <td>0.001372</td>\n",
       "      <td>0.002824</td>\n",
       "    </tr>\n",
       "    <tr>\n",
       "      <th>3</th>\n",
       "      <td>0.008350</td>\n",
       "      <td>0.008006</td>\n",
       "      <td>0.008246</td>\n",
       "      <td>0.001250</td>\n",
       "      <td>0.002095</td>\n",
       "    </tr>\n",
       "    <tr>\n",
       "      <th>4</th>\n",
       "      <td>0.008184</td>\n",
       "      <td>0.007634</td>\n",
       "      <td>0.007598</td>\n",
       "      <td>0.000598</td>\n",
       "      <td>0.008103</td>\n",
       "    </tr>\n",
       "    <tr>\n",
       "      <th>...</th>\n",
       "      <td>...</td>\n",
       "      <td>...</td>\n",
       "      <td>...</td>\n",
       "      <td>...</td>\n",
       "      <td>...</td>\n",
       "    </tr>\n",
       "    <tr>\n",
       "      <th>5995</th>\n",
       "      <td>0.839424</td>\n",
       "      <td>0.783058</td>\n",
       "      <td>0.834637</td>\n",
       "      <td>0.829595</td>\n",
       "      <td>0.174682</td>\n",
       "    </tr>\n",
       "    <tr>\n",
       "      <th>5996</th>\n",
       "      <td>0.834994</td>\n",
       "      <td>0.783058</td>\n",
       "      <td>0.834637</td>\n",
       "      <td>0.824062</td>\n",
       "      <td>0.151608</td>\n",
       "    </tr>\n",
       "    <tr>\n",
       "      <th>5997</th>\n",
       "      <td>0.828350</td>\n",
       "      <td>0.774793</td>\n",
       "      <td>0.817877</td>\n",
       "      <td>0.811891</td>\n",
       "      <td>0.196739</td>\n",
       "    </tr>\n",
       "    <tr>\n",
       "      <th>5998</th>\n",
       "      <td>0.818383</td>\n",
       "      <td>0.768595</td>\n",
       "      <td>0.816760</td>\n",
       "      <td>0.804145</td>\n",
       "      <td>0.143697</td>\n",
       "    </tr>\n",
       "    <tr>\n",
       "      <th>5999</th>\n",
       "      <td>0.817276</td>\n",
       "      <td>0.764463</td>\n",
       "      <td>0.796648</td>\n",
       "      <td>0.784228</td>\n",
       "      <td>0.227317</td>\n",
       "    </tr>\n",
       "  </tbody>\n",
       "</table>\n",
       "<p>6000 rows × 5 columns</p>\n",
       "</div>"
      ],
      "text/plain": [
       "          Open      High       Low     Close    Volume\n",
       "0     0.009103  0.008657  0.008905  0.002025  0.006483\n",
       "1     0.008328  0.008213  0.008324  0.001306  0.007810\n",
       "2     0.008306  0.008099  0.008000  0.001372  0.002824\n",
       "3     0.008350  0.008006  0.008246  0.001250  0.002095\n",
       "4     0.008184  0.007634  0.007598  0.000598  0.008103\n",
       "...        ...       ...       ...       ...       ...\n",
       "5995  0.839424  0.783058  0.834637  0.829595  0.174682\n",
       "5996  0.834994  0.783058  0.834637  0.824062  0.151608\n",
       "5997  0.828350  0.774793  0.817877  0.811891  0.196739\n",
       "5998  0.818383  0.768595  0.816760  0.804145  0.143697\n",
       "5999  0.817276  0.764463  0.796648  0.784228  0.227317\n",
       "\n",
       "[6000 rows x 5 columns]"
      ]
     },
     "execution_count": 17,
     "metadata": {},
     "output_type": "execute_result"
    }
   ],
   "source": [
    "df = pd.DataFrame(scaled, columns=scale_cols)\n",
    "df"
   ]
  },
  {
   "cell_type": "code",
   "execution_count": 18,
   "id": "94340fb2",
   "metadata": {},
   "outputs": [],
   "source": [
    "df_x = df.drop('Close', axis=1)\n",
    "df_y = df['Close']\n"
   ]
  },
  {
   "cell_type": "code",
   "execution_count": 20,
   "id": "4b64dcb0",
   "metadata": {},
   "outputs": [],
   "source": [
    "from sklearn.model_selection import train_test_split\n",
    "\n",
    "x_train, x_test, y_train, y_test = train_test_split(df_x, df_y, test_size=0.2, random_state=0, shuffle=False)"
   ]
  },
  {
   "cell_type": "code",
   "execution_count": 23,
   "id": "9f98827a",
   "metadata": {},
   "outputs": [
    {
     "name": "stdout",
     "output_type": "stream",
     "text": [
      "(4800, 4) (1200, 4) (4800,) (1200,)\n"
     ]
    }
   ],
   "source": [
    "print(x_train.shape, x_test.shape, y_train.shape, y_test.shape)"
   ]
  },
  {
   "cell_type": "code",
   "execution_count": 26,
   "id": "5824210f",
   "metadata": {},
   "outputs": [],
   "source": [
    "import tensorflow as tf"
   ]
  },
  {
   "cell_type": "markdown",
   "id": "56a17e88",
   "metadata": {},
   "source": [
    "# 함수 설명"
   ]
  },
  {
   "cell_type": "code",
   "execution_count": 25,
   "id": "c30da7c6",
   "metadata": {},
   "outputs": [
    {
     "name": "stdout",
     "output_type": "stream",
     "text": [
      "[1, 10, 10, 3]\n",
      "[10, 1, 10, 3]\n",
      "[10, 10, 3, 1]\n"
     ]
    }
   ],
   "source": [
    "image = tf.zeros([10, 10, 3])\n",
    "print(tf.expand_dims(image, axis=0).shape.as_list()) # 차원 추가 axis 0:맨 앞, 1:두번쨰, -1:마지막\n",
    "print(tf.expand_dims(image, axis=1).shape.as_list())\n",
    "print(tf.expand_dims(image, -1).shape.as_list())\n"
   ]
  },
  {
   "cell_type": "code",
   "execution_count": 32,
   "id": "5022a15a",
   "metadata": {},
   "outputs": [
    {
     "name": "stdout",
     "output_type": "stream",
     "text": [
      "[0, 1, 2, 3]\n",
      "[4, 5, 6, 7]\n"
     ]
    }
   ],
   "source": [
    "ds = tf.data.Dataset.range(10)\n",
    "\n",
    "# ds.window(shift, stride, drop_remainder) 원본 dataset의 요소를 3개씩 묵어 서브 dataset을 생성\n",
    "# window 메소드의 리턴값이 저장된 ds를 for 문에 사용하면 서브 dataset 하나씩 접근할 수 있다.\n",
    "# shift=3: 크기 3인 서브 dataset을 생성  shift : 행 stride : 열 간격\n",
    "# stride=2: 서브 dataset의 첫번째 요소의 값이 2씩 증가\n",
    "# drop_remainder=True로 저장하면 크기 3 미만으로 남은 요소를 버림\n",
    "ds = ds.window(4, stride=1, drop_remainder=True)\n",
    "\n",
    "for d in ds:\n",
    "    print(list(d.as_numpy_iterator()))"
   ]
  },
  {
   "cell_type": "code",
   "execution_count": 34,
   "id": "c84e747c",
   "metadata": {},
   "outputs": [
    {
     "name": "stdout",
     "output_type": "stream",
     "text": [
      "(15, 10)\n",
      "[[ 0  3  6  9 12 15 18 21 24 27]\n",
      " [ 5  8 11 14 17 20 23 26 29 32]\n",
      " [10 13 16 19 22 25 28 31 34 37]\n",
      " [15 18 21 24 27 30 33 36 39 42]\n",
      " [20 23 26 29 32 35 38 41 44 47]\n",
      " [25 28 31 34 37 40 43 46 49 52]\n",
      " [30 33 36 39 42 45 48 51 54 57]\n",
      " [35 38 41 44 47 50 53 56 59 62]\n",
      " [40 43 46 49 52 55 58 61 64 67]\n",
      " [45 48 51 54 57 60 63 66 69 72]\n",
      " [50 53 56 59 62 65 68 71 74 77]\n",
      " [55 58 61 64 67 70 73 76 79 82]\n",
      " [60 63 66 69 72 75 78 81 84 87]\n",
      " [65 68 71 74 77 80 83 86 89 92]\n",
      " [70 73 76 79 82 85 88 91 94 97]]\n"
     ]
    }
   ],
   "source": [
    "import tensorflow as tf\n",
    "import numpy as np\n",
    "\n",
    "ds = tf.data.Dataset.range(100)\n",
    "\n",
    "window_size=10 \n",
    "ds = ds.window(window_size, shift=5, stride=3, drop_remainder=True)\n",
    "ds = ds.flat_map(lambda w: w.batch(window_size))\n",
    "\n",
    "list_d = []\n",
    "\n",
    "for d in ds:\n",
    "    list_d.append(d)\n",
    "\n",
    "array_d = np.array(list_d)\n",
    "print(array_d.shape)\n",
    "print(array_d)\n"
   ]
  },
  {
   "cell_type": "code",
   "execution_count": null,
   "id": "d38fdfa5",
   "metadata": {},
   "outputs": [],
   "source": []
  },
  {
   "cell_type": "code",
   "execution_count": 24,
   "id": "24189b43",
   "metadata": {},
   "outputs": [],
   "source": [
    "def windowed_dataset(series, window_size, batch_size, shuffle):\n",
    "    series = tf.expand_dims(series, axis=-1)\n",
    "    ds = tf.data.Dataset.from_tensor_slices(series)\n",
    "    ds = ds. window(window_size + 1, shift=1, drop_remainder=True)\n",
    "    ds = ds.flat_map(lambda w: w.batch(window_size+1))\n",
    "    if shuffle:\n",
    "        ds = ds.shuffle(1000)\n",
    "    ds = ds.map(lambda w: (w[:-1], w[-1]))\n",
    "    return ds.batch(batch_size).prefetch(1)"
   ]
  },
  {
   "cell_type": "code",
   "execution_count": 35,
   "id": "3e79b113",
   "metadata": {},
   "outputs": [],
   "source": [
    "WINDOW_SIZE=20\n",
    "BATCH_SIZE=32"
   ]
  },
  {
   "cell_type": "code",
   "execution_count": 36,
   "id": "86f6cdc6",
   "metadata": {},
   "outputs": [],
   "source": [
    "train_data = windowed_dataset(y_train, WINDOW_SIZE, BATCH_SIZE, True)\n",
    "test_data = windowed_dataset(y_test, WINDOW_SIZE, BATCH_SIZE, False)\n"
   ]
  },
  {
   "cell_type": "code",
   "execution_count": 37,
   "id": "a28be8e3",
   "metadata": {},
   "outputs": [
    {
     "name": "stdout",
     "output_type": "stream",
     "text": [
      "데이터셋(X) 구성(batch_size, window_size, feature갯수):(32, 20, 1)\n",
      "데이터셋(Y) 구성(batch_size, window_size, feature갯수):(32, 1)\n"
     ]
    }
   ],
   "source": [
    "for data in train_data.take(1):\n",
    "    print(f'데이터셋(X) 구성(batch_size, window_size, feature갯수):{data[0].shape}')\n",
    "    print(f'데이터셋(Y) 구성(batch_size, window_size, feature갯수):{data[1].shape}')"
   ]
  },
  {
   "cell_type": "code",
   "execution_count": 38,
   "id": "fff419a8",
   "metadata": {},
   "outputs": [],
   "source": [
    "from tensorflow.keras.models import Sequential\n",
    "from tensorflow.keras.layers import Dense, LSTM, Conv1D, Lambda\n",
    "from tensorflow.keras.losses import Huber\n",
    "from tensorflow.keras.optimizers import Adam\n",
    "from tensorflow.keras.callbacks import EarlyStopping, ModelCheckpoint\n"
   ]
  },
  {
   "cell_type": "code",
   "execution_count": 40,
   "id": "49e7109a",
   "metadata": {},
   "outputs": [],
   "source": [
    "model = Sequential([\n",
    "    Conv1D(filters=32, kernel_size=5, padding='causal', activation='relu', input_shape=[WINDOW_SIZE, 1]),\n",
    "    LSTM(16, activation='tanh'),\n",
    "    Dense(16, activation='relu'),\n",
    "    Dense(1)\n",
    "])"
   ]
  },
  {
   "cell_type": "code",
   "execution_count": 44,
   "id": "b1aa5939",
   "metadata": {},
   "outputs": [],
   "source": [
    "# Huber() 손실: 일정범위를 정해 그 안에 있으면 오차를 제곱, 그 밖에 있으면 오차의 절대값을 구하는 것\n",
    "loss = Huber()\n",
    "optimizer = Adam(0.0005)\n",
    "model.compile(loss=Huber(), optimizer=optimizer, metrics=['mse'])"
   ]
  },
  {
   "cell_type": "code",
   "execution_count": 45,
   "id": "27d94c06",
   "metadata": {},
   "outputs": [],
   "source": [
    "earlystopping = EarlyStopping(monitor='val_loss', patience=10)\n",
    "filename = os.path.join('tmp', 'checkpointer.ckpt')\n",
    "checkpoint = ModelCheckpoint(filename,\n",
    "                             save_weights_only=True,\n",
    "                             sae_best_only=True,\n",
    "                             monitor='val_loss',\n",
    "                             verboase=1)"
   ]
  },
  {
   "cell_type": "code",
   "execution_count": 52,
   "id": "ec90a517",
   "metadata": {
    "scrolled": false
   },
   "outputs": [
    {
     "name": "stdout",
     "output_type": "stream",
     "text": [
      "Epoch 1/50\n",
      "150/150 [==============================] - 1s 5ms/step - loss: 9.4289e-06 - mse: 1.8858e-05 - val_loss: 7.4238e-04 - val_mse: 0.0015\n",
      "Epoch 2/50\n",
      "150/150 [==============================] - 1s 4ms/step - loss: 9.1078e-06 - mse: 1.8216e-05 - val_loss: 8.3982e-04 - val_mse: 0.0017\n",
      "Epoch 3/50\n",
      "150/150 [==============================] - 1s 4ms/step - loss: 1.0152e-05 - mse: 2.0305e-05 - val_loss: 8.4162e-04 - val_mse: 0.0017\n",
      "Epoch 4/50\n",
      "150/150 [==============================] - 1s 4ms/step - loss: 9.9963e-06 - mse: 1.9993e-05 - val_loss: 7.0052e-04 - val_mse: 0.0014\n",
      "Epoch 5/50\n",
      "150/150 [==============================] - 1s 4ms/step - loss: 8.8480e-06 - mse: 1.7696e-05 - val_loss: 7.2252e-04 - val_mse: 0.0014\n",
      "Epoch 6/50\n",
      "150/150 [==============================] - 1s 4ms/step - loss: 9.7097e-06 - mse: 1.9419e-05 - val_loss: 6.1443e-04 - val_mse: 0.0012\n",
      "Epoch 7/50\n",
      "150/150 [==============================] - 1s 4ms/step - loss: 9.4573e-06 - mse: 1.8915e-05 - val_loss: 8.1023e-04 - val_mse: 0.0016\n",
      "Epoch 8/50\n",
      "150/150 [==============================] - 1s 4ms/step - loss: 9.6630e-06 - mse: 1.9326e-05 - val_loss: 5.1668e-04 - val_mse: 0.0010\n",
      "Epoch 9/50\n",
      "150/150 [==============================] - 1s 4ms/step - loss: 9.1439e-06 - mse: 1.8288e-05 - val_loss: 7.9011e-04 - val_mse: 0.0016\n",
      "Epoch 10/50\n",
      "150/150 [==============================] - 1s 4ms/step - loss: 8.6946e-06 - mse: 1.7389e-05 - val_loss: 7.9779e-04 - val_mse: 0.0016\n",
      "Epoch 11/50\n",
      "150/150 [==============================] - 1s 4ms/step - loss: 7.9337e-06 - mse: 1.5867e-05 - val_loss: 7.1114e-04 - val_mse: 0.0014\n",
      "Epoch 12/50\n",
      "150/150 [==============================] - 1s 4ms/step - loss: 8.2162e-06 - mse: 1.6432e-05 - val_loss: 7.4027e-04 - val_mse: 0.0015\n",
      "Epoch 13/50\n",
      "150/150 [==============================] - 1s 4ms/step - loss: 8.0015e-06 - mse: 1.6003e-05 - val_loss: 8.6161e-04 - val_mse: 0.0017\n",
      "Epoch 14/50\n",
      "150/150 [==============================] - 1s 4ms/step - loss: 8.9565e-06 - mse: 1.7913e-05 - val_loss: 0.0012 - val_mse: 0.0024\n",
      "Epoch 15/50\n",
      "150/150 [==============================] - 1s 4ms/step - loss: 9.1039e-06 - mse: 1.8208e-05 - val_loss: 0.0011 - val_mse: 0.0022\n",
      "Epoch 16/50\n",
      "150/150 [==============================] - 1s 4ms/step - loss: 8.3839e-06 - mse: 1.6768e-05 - val_loss: 7.4583e-04 - val_mse: 0.0015\n",
      "Epoch 17/50\n",
      "150/150 [==============================] - 1s 4ms/step - loss: 7.8745e-06 - mse: 1.5749e-05 - val_loss: 6.4101e-04 - val_mse: 0.0013\n",
      "Epoch 18/50\n",
      "150/150 [==============================] - 1s 4ms/step - loss: 8.1662e-06 - mse: 1.6332e-05 - val_loss: 7.4250e-04 - val_mse: 0.0015\n"
     ]
    }
   ],
   "source": [
    "history = model.fit(train_data, validation_data=(test_data), epochs=50,\n",
    "                    callbacks=[checkpoint, earlystopping])"
   ]
  },
  {
   "cell_type": "code",
   "execution_count": 53,
   "id": "fea07c5a",
   "metadata": {},
   "outputs": [
    {
     "data": {
      "text/plain": [
       "<tensorflow.python.training.tracking.util.CheckpointLoadStatus at 0x1fd660b9fc8>"
      ]
     },
     "execution_count": 53,
     "metadata": {},
     "output_type": "execute_result"
    }
   ],
   "source": [
    "model.load_weights(filename)"
   ]
  },
  {
   "cell_type": "code",
   "execution_count": 54,
   "id": "0448deae",
   "metadata": {},
   "outputs": [],
   "source": [
    "pred = model.predict(test_data)"
   ]
  },
  {
   "cell_type": "code",
   "execution_count": 55,
   "id": "492f17a8",
   "metadata": {},
   "outputs": [
    {
     "data": {
      "text/plain": [
       "(1180, 1)"
      ]
     },
     "execution_count": 55,
     "metadata": {},
     "output_type": "execute_result"
    }
   ],
   "source": [
    "pred.shape"
   ]
  },
  {
   "cell_type": "code",
   "execution_count": 58,
   "id": "9348eb4b",
   "metadata": {},
   "outputs": [
    {
     "data": {
      "image/png": "[encoded data removed]",
      "text/plain": [
       "<Figure size 1152x360 with 1 Axes>"
      ]
     },
     "metadata": {
      "needs_background": "light"
     },
     "output_type": "display_data"
    }
   ],
   "source": [
    "plt.figure(figsize=(16, 5))\n",
    "plt.plot(np.asarray(y_test)[20:], label='actual')\n",
    "plt.plot(pred, label='prediction')\n",
    "plt.legend()\n",
    "plt.show()"
   ]
  },
  {
   "cell_type": "code",
   "execution_count": null,
   "id": "83908171",
   "metadata": {},
   "outputs": [],
   "source": []
  },
  {
   "cell_type": "markdown",
   "id": "a7140612",
   "metadata": {},
   "source": [
    "# ARIMA => "
   ]
  }
 ],
 "metadata": {
  "kernelspec": {
   "display_name": "Python 3 (ipykernel)",
   "language": "python",
   "name": "python3"
  },
  "language_info": {
   "codemirror_mode": {
    "name": "ipython",
    "version": 3
   },
   "file_extension": ".py",
   "mimetype": "text/x-python",
   "name": "python",
   "nbconvert_exporter": "python",
   "pygments_lexer": "ipython3",
   "version": "3.7.9"
  }
 },
 "nbformat": 4,
 "nbformat_minor": 5
}
