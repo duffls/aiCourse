{
 "cells": [
  {
   "cell_type": "code",
   "execution_count": 1,
   "id": "18d2bbaa",
   "metadata": {},
   "outputs": [],
   "source": [
    "import numpy as np\n",
    "\n",
    "def sigmoid(x):\n",
    "    return 1. / (1. + np.exp(-x))\n",
    "\n",
    "def numerical_derivative(f, x):\n",
    "    delta_x = 1e-4\n",
    "    grad = np.zeros_like(x)\n",
    "    \n",
    "    it =  np.nditer(x, flags=['multi_index'], op_flags=['readwrite'])\n",
    " \n",
    "    while not it.finished:\n",
    "        idx = it.multi_index \n",
    "        tmp_val = x[idx]\n",
    "        x[idx] = float(tmp_val) + delta_x\n",
    "        fx1 = f(x) # f(x+delta_x)\n",
    "\n",
    "        x[idx] = float(tmp_val) - delta_x \n",
    "        fx2 = f(x) # f(x-delta_x)\n",
    "        grad[idx] = (fx1 - fx2) / (2*delta_x)\n",
    "\n",
    "        x[idx] = tmp_val \n",
    "        it.iternext() \n",
    "\n",
    "    return grad\n"
   ]
  },
  {
   "cell_type": "code",
   "execution_count": 2,
   "id": "44a025c4",
   "metadata": {},
   "outputs": [],
   "source": [
    "class LogicGate:\n",
    "    def __init__(self, gate_name, xdata, tdata): \n",
    "        self.name = gate_name\n",
    "        self.xdata = xdata.reshape(4,2) # 입력 데이터 초기화\n",
    "        self.tdata = tdata.reshape(4,1) # 정답 데이터 초기화\n",
    "        self.W = np.random.rand(self.xdata.shape[1], 1) # 가중치 W 초기화\n",
    "        self.b = np.random.rand(1) # 바이어스 b 초기화\n",
    "        self.learning_rate = 1e-2 # 학습률 learning rate 초기화\n",
    " \n",
    "    def loss_func(self): \n",
    "        delta = 1e-7 # log 무핚대 발산 방지\n",
    "        z = np.dot(self.xdata, self.W) + self.b\n",
    "        y = sigmoid(z)\n",
    "        return -np.sum(self.tdata*np.log(y+delta)+(1-self.tdata)*np.log((1 - y)+delta))\n",
    " \n",
    "    def train(self): # 경사하강법 이용하여 W, b 업데이트\n",
    "        f = lambda x : self.loss_func()\n",
    "        print(\"Initial loss value = \", self.loss_func()) \n",
    "        for step in range(8001):\n",
    "            self.W -= self.learning_rate * numerical_derivative(f, self.W) \n",
    "            self.b -= self.learning_rate * numerical_derivative(f, self.b)\n",
    "            if (step % 1000 == 0):\n",
    "                print(\"step = \", step, \"loss value = \", self.loss_func())\n",
    " \n",
    "    def predict(self, input_data): # 미래 값 예측\n",
    "        z = np.dot(input_data, self.W) + self.b\n",
    "        y = sigmoid(z)\n",
    "        if y > 0.5:\n",
    "            result = 1\n",
    "        else:\n",
    "            result = 0\n",
    "        return y, result \n",
    "    \n",
    "    # 정확도 예측 함수(추가 내용)\n",
    "    def accuracy(self, test_xdata, test_tdata):\n",
    "        matched_list = []\n",
    "        not_matched_list = []\n",
    "        for index in range(len(xdata)):\n",
    "            (real_val, logical_val) = self.predict(test_xdata[index])\n",
    "            if logical_val == test_tdata[index]:\n",
    "                matched_list.append(index)\n",
    "            else:\n",
    "                not_matched_list.append(index)\n",
    "        accuracy_val = len(matched_list) / len(test_xdata)\n",
    "\n",
    "        return accuracy_val\n"
   ]
  },
  {
   "cell_type": "code",
   "execution_count": 3,
   "id": "26c15fa3",
   "metadata": {},
   "outputs": [
    {
     "name": "stdout",
     "output_type": "stream",
     "text": [
      "Initial loss value =  4.761215156642541\n",
      "step =  0 loss value =  4.7032854771872135\n",
      "step =  1000 loss value =  1.0508546710499895\n",
      "step =  2000 loss value =  0.6783086213301157\n",
      "step =  3000 loss value =  0.5014437537864086\n",
      "step =  4000 loss value =  0.3966657439423358\n",
      "step =  5000 loss value =  0.3273272719987201\n",
      "step =  6000 loss value =  0.2781363301299724\n",
      "step =  7000 loss value =  0.24149424925340346\n",
      "step =  8000 loss value =  0.21318684739661453\n",
      "[0 0]  =  0\n",
      "[0 1]  =  0\n",
      "[1 0]  =  0\n",
      "[1 1]  =  1\n",
      "Accuracy =>  1.0\n"
     ]
    }
   ],
   "source": [
    "xdata = np.array([ [0, 0], [0, 1], [1, 0], [1, 1] ]) \n",
    "tdata = np.array([0, 0, 0, 1])\n",
    "AND_obj = LogicGate(\"AND_GATE\", xdata, tdata) \n",
    "AND_obj.train() \n",
    "test_xdata = np.array([ [0, 0], [0, 1], [1, 0], [1, 1] ])\n",
    "for input_data in test_xdata:\n",
    "    (sigmoid_val, logical_val) = AND_obj.predict(input_data) \n",
    "    print(input_data, \" = \", logical_val) \n",
    "    \n",
    "test_tdata = np.array([ 0, 0, 0, 1])\n",
    "accuracy_ret = AND_obj.accuracy(test_xdata, test_tdata)\n",
    "print(\"Accuracy => \", accuracy_ret)\n"
   ]
  },
  {
   "cell_type": "code",
   "execution_count": 6,
   "id": "d7899886",
   "metadata": {},
   "outputs": [
    {
     "name": "stdout",
     "output_type": "stream",
     "text": [
      "Initial loss value =  1.762925605415648\n",
      "step =  0 loss value =  1.760656973592734\n",
      "step =  1000 loss value =  0.7114647107280054\n",
      "step =  2000 loss value =  0.42849678852474254\n",
      "step =  3000 loss value =  0.30206371962096\n",
      "step =  4000 loss value =  0.23162310199546193\n",
      "step =  5000 loss value =  0.1871330160135468\n",
      "step =  6000 loss value =  0.15664428114851947\n",
      "step =  7000 loss value =  0.1345174604107136\n",
      "step =  8000 loss value =  0.1177626011455671\n",
      "[0 0]  =  0\n",
      "[0 1]  =  1\n",
      "[1 0]  =  1\n",
      "[1 1]  =  1\n",
      "--------------------\n",
      "Accuracy =>  1.0\n"
     ]
    }
   ],
   "source": [
    "xdata = np.array([ [0, 0], [0, 1], [1, 0], [1, 1] ]) \n",
    "tdata = np.array([0, 1, 1, 1])\n",
    "OR_obj = LogicGate(\"OR_GATE\", xdata, tdata) \n",
    "OR_obj.train() \n",
    "test_xdata = np.array([ [0, 0], [0, 1], [1, 0], [1, 1] ])\n",
    "for input_data in test_xdata:\n",
    "    (sigmoid_val, logical_val) = OR_obj.predict(input_data) \n",
    "    print(input_data, \" = \", logical_val) \n",
    "\n",
    "print('--------------------')\n",
    "test_tdata = np.array([ 0, 1, 1, 1])\n",
    "accuracy_ret = OR_obj.accuracy(test_xdata, test_tdata)\n",
    "print(\"Accuracy => \", accuracy_ret)\n"
   ]
  },
  {
   "cell_type": "code",
   "execution_count": 4,
   "id": "d1637d5a",
   "metadata": {},
   "outputs": [
    {
     "name": "stdout",
     "output_type": "stream",
     "text": [
      "Initial loss value =  2.8883314590955305\n",
      "step =  0 loss value =  2.8827446487120856\n",
      "step =  1000 loss value =  1.0713890719278216\n",
      "step =  2000 loss value =  0.6864887112317462\n",
      "step =  3000 loss value =  0.5059411147489589\n",
      "step =  4000 loss value =  0.39951527445018864\n",
      "step =  5000 loss value =  0.3292903967586255\n",
      "step =  6000 loss value =  0.2795676963419541\n",
      "step =  7000 loss value =  0.24258205206420747\n",
      "step =  8000 loss value =  0.21404023592162688\n",
      "[0 0]  =  1\n",
      "[0 1]  =  1\n",
      "[1 0]  =  1\n",
      "[1 1]  =  0\n",
      "--------------------\n",
      "Accuracy =>  1.0\n"
     ]
    }
   ],
   "source": [
    "xdata = np.array([ [0, 0], [0, 1], [1, 0], [1, 1] ]) \n",
    "tdata = np.array([1, 1, 1, 0])\n",
    "NAND_obj = LogicGate(\"NAND_GATE\", xdata, tdata) \n",
    "NAND_obj.train() \n",
    "test_xdata = np.array([ [0, 0], [0, 1], [1, 0], [1, 1] ])\n",
    "for input_data in test_xdata:\n",
    "    (sigmoid_val, logical_val) = NAND_obj.predict(input_data) \n",
    "    print(input_data, \" = \", logical_val) \n",
    "    \n",
    "print('--------------------') \n",
    "test_tdata = np.array([ 1, 1, 1, 0])\n",
    "accuracy_ret = NAND_obj.accuracy(test_xdata, test_tdata)\n",
    "print(\"Accuracy => \", accuracy_ret)\n"
   ]
  },
  {
   "cell_type": "code",
   "execution_count": 5,
   "id": "6240df63",
   "metadata": {},
   "outputs": [
    {
     "name": "stdout",
     "output_type": "stream",
     "text": [
      "Initial loss value =  3.7084549438323053\n",
      "step =  0 loss value =  3.686733126484878\n",
      "step =  1000 loss value =  2.772992827708485\n",
      "step =  2000 loss value =  2.7726001704234466\n",
      "step =  3000 loss value =  2.7725884120863276\n",
      "step =  4000 loss value =  2.7725879429606684\n",
      "step =  5000 loss value =  2.7725879231244566\n",
      "step =  6000 loss value =  2.7725879222776806\n",
      "step =  7000 loss value =  2.772587922241479\n",
      "step =  8000 loss value =  2.7725879222399303\n",
      "[0 0]  =  0\n",
      "[0 1]  =  0\n",
      "[1 0]  =  0\n",
      "[1 1]  =  1\n",
      "--------------------\n",
      "Accuracy =>  0.25\n"
     ]
    }
   ],
   "source": [
    "xdata = np.array([ [0, 0], [0, 1], [1, 0], [1, 1] ]) \n",
    "tdata = np.array([0, 1, 1, 0])\n",
    "XOR_obj = LogicGate(\"XOR_GATE\", xdata, tdata) \n",
    "XOR_obj.train()\n",
    "test_xdata = np.array([ [0, 0], [0, 1], [1, 0], [1, 1] ])\n",
    "for input_data in test_xdata:\n",
    "    (sigmoid_val, logical_val) = XOR_obj.predict(input_data) \n",
    "    print(input_data, \" = \", logical_val) \n",
    "\n",
    "print('--------------------') \n",
    "test_tdata = np.array([ 0, 1, 1, 0])\n",
    "accuracy_ret = XOR_obj.accuracy(test_xdata, test_tdata)\n",
    "print(\"Accuracy => \", accuracy_ret)"
   ]
  },
  {
   "cell_type": "code",
   "execution_count": 25,
   "id": "2d3b0a3b",
   "metadata": {},
   "outputs": [
    {
     "name": "stdout",
     "output_type": "stream",
     "text": [
      "Initial loss value =  2.9735615570303247\n",
      "step =  0 loss value =  2.9676353296005678\n",
      "step =  1000 loss value =  1.080930511310436\n",
      "step =  2000 loss value =  0.6902375221128348\n",
      "step =  3000 loss value =  0.5079922247795399\n",
      "step =  4000 loss value =  0.4008115072083447\n",
      "step =  5000 loss value =  0.33018192636201155\n",
      "step =  6000 loss value =  0.28021696863460965\n",
      "step =  7000 loss value =  0.24307504621979714\n",
      "step =  8000 loss value =  0.21442672564843046\n",
      "Initial loss value =  1.7991854503656826\n",
      "step =  0 loss value =  1.7967187004493788\n",
      "step =  1000 loss value =  0.7189825856567824\n",
      "step =  2000 loss value =  0.4315313959984252\n",
      "step =  3000 loss value =  0.303644280201423\n",
      "step =  4000 loss value =  0.2325768965883291\n",
      "step =  5000 loss value =  0.18776587847774137\n",
      "step =  6000 loss value =  0.1570927428488148\n",
      "step =  7000 loss value =  0.1348508955244629\n",
      "step =  8000 loss value =  0.1180197419757814\n",
      "[0 0]  =  0\n",
      "[0 1]  =  0\n",
      "[1 0]  =  0\n",
      "[1 1]  =  1\n",
      "Accuracy =>  1.0\n"
     ]
    }
   ],
   "source": [
    "xdata = np.array([ [0, 0], [0, 1], [1, 0], [1, 1] ]) \n",
    "#xor_data = np.array([ [0, 0], [0, 1], [1, 0], [1, 1] ]) \n",
    "s1 = []\n",
    "s2 = []\n",
    "\n",
    "for i, input_data in enumerate(xdata):\n",
    "    s1 = AND_obj.predict(input_data) \n",
    "    \n",
    "\n",
    "# OR\n",
    "\n",
    "for i, input_data in enumerate(xdata):\n",
    "    (sigmoid_val, logical_val) = or1.predict(input_data) \n",
    "    xor_data[i, 1] = logical_val\n",
    "\n",
    "# AND\n",
    "xdata = np.array([ [0, 0], [0, 1], [1, 0], [1, 1] ]) \n",
    "test_xdata = np.array([ [0, 0], [0, 1], [1, 0], [1, 1] ])\n",
    "for input_data in test_xdata:\n",
    "    (sigmoid_val, logical_val) = AND_obj.predict(input_data) \n",
    "    print(input_data, \" = \", logical_val) \n",
    "    \n",
    "test_tdata = np.array([ 0, 0, 0, 1])\n",
    "accuracy_ret = AND_obj.accuracy(test_xdata, test_tdata)\n",
    "print(\"Accuracy => \", accuracy_ret)\n"
   ]
  },
  {
   "cell_type": "code",
   "execution_count": 20,
   "id": "c0b73263",
   "metadata": {},
   "outputs": [
    {
     "name": "stdout",
     "output_type": "stream",
     "text": [
      "Initial loss value =  1.8038212962918407\n",
      "step =  0 loss value =  1.8012098653153115\n",
      "step =  1000 loss value =  0.718386580513535\n",
      "step =  2000 loss value =  0.43128244331313126\n",
      "step =  3000 loss value =  0.30351370525122046\n",
      "step =  4000 loss value =  0.2324979606470051\n",
      "step =  5000 loss value =  0.1877134786380948\n",
      "step =  6000 loss value =  0.15705560862655804\n",
      "step =  7000 loss value =  0.13482328767630827\n",
      "step =  8000 loss value =  0.11799845336470328\n"
     ]
    }
   ],
   "source": [
    "xdata = np.array([ [0, 0], [0, 1], [1, 0], [1, 1] ]) \n",
    "tdata = np.array([0, 1, 1, 1])\n",
    "OR_obj = LogicGate(\"OR_GATE\", xdata, tdata) \n",
    "OR_obj.train() \n"
   ]
  },
  {
   "cell_type": "code",
   "execution_count": 21,
   "id": "3794d394",
   "metadata": {},
   "outputs": [
    {
     "name": "stdout",
     "output_type": "stream",
     "text": [
      "Initial loss value =  3.2705266530069252\n",
      "step =  0 loss value =  3.239589949210203\n",
      "step =  1000 loss value =  0.9917826741261347\n",
      "step =  2000 loss value =  0.653662012091103\n",
      "step =  3000 loss value =  0.4877013252391016\n",
      "step =  4000 loss value =  0.387894885835528\n",
      "step =  5000 loss value =  0.3212564282886252\n",
      "step =  6000 loss value =  0.2736951748363155\n",
      "step =  7000 loss value =  0.2381106199989507\n",
      "step =  8000 loss value =  0.21052716019645368\n"
     ]
    }
   ],
   "source": [
    "xdata = np.array([ [0, 0], [0, 1], [1, 0], [1, 1] ]) \n",
    "tdata = np.array([0, 0, 0, 1])\n",
    "AND_obj = LogicGate(\"AND_GATE\", xdata, tdata) \n",
    "AND_obj.train() \n"
   ]
  },
  {
   "cell_type": "code",
   "execution_count": 22,
   "id": "ae0f86cb",
   "metadata": {},
   "outputs": [
    {
     "name": "stdout",
     "output_type": "stream",
     "text": [
      "Initial loss value =  2.7079259530414435\n",
      "step =  0 loss value =  2.7015388207646946\n",
      "step =  1000 loss value =  1.0394885787528558\n",
      "step =  2000 loss value =  0.6737016858492555\n",
      "step =  3000 loss value =  0.4988972065070312\n",
      "step =  4000 loss value =  0.3950477270563063\n",
      "step =  5000 loss value =  0.32621057008787413\n",
      "step =  6000 loss value =  0.2773210762925157\n",
      "step =  7000 loss value =  0.24087408352174955\n",
      "step =  8000 loss value =  0.2126999592675997\n"
     ]
    }
   ],
   "source": [
    "xdata = np.array([ [0, 0], [0, 1], [1, 0], [1, 1] ]) \n",
    "tdata = np.array([1, 1, 1, 0])\n",
    "NAND_obj = LogicGate(\"NAND_GATE\", xdata, tdata) \n",
    "NAND_obj.train() \n"
   ]
  },
  {
   "cell_type": "code",
   "execution_count": 24,
   "id": "2218ba2e",
   "metadata": {},
   "outputs": [
    {
     "name": "stdout",
     "output_type": "stream",
     "text": [
      "[0 0] = 0\n",
      "[0 1] = 1\n",
      "[1 0] = 1\n",
      "[1 1] = 0\n"
     ]
    }
   ],
   "source": [
    "input_data = np.array([ [0, 0], [0, 1], [1, 0], [1, 1] ]) \n",
    "s1 = []\n",
    "s2 = []\n",
    "\n",
    "new_input_data = []\n",
    "final_output= []\n",
    "\n",
    "for index in range(len(input_data)):\n",
    "    s1 = NAND_obj.predict(input_data[index])\n",
    "    s2 = OR_obj.predict(input_data[index])\n",
    "    new_input_data.append(s1[-1])\n",
    "    new_input_data.append(s2[-1])\n",
    "    (sigmoid_val, logical_val) = AND_obj.predict(np.array(new_input_data))\n",
    "    final_output.append(logical_val)\n",
    "    new_input_data = []\n",
    "\n",
    "for index in range(len(input_data)):\n",
    "    print(input_data[index], '=', final_output[index])"
   ]
  },
  {
   "cell_type": "code",
   "execution_count": null,
   "id": "d9980b45",
   "metadata": {},
   "outputs": [],
   "source": []
  },
  {
   "cell_type": "code",
   "execution_count": null,
   "id": "a9f76377",
   "metadata": {},
   "outputs": [],
   "source": []
  },
  {
   "cell_type": "code",
   "execution_count": null,
   "id": "a554940d",
   "metadata": {},
   "outputs": [],
   "source": []
  },
  {
   "cell_type": "code",
   "execution_count": null,
   "id": "cae4bb0d",
   "metadata": {},
   "outputs": [],
   "source": []
  },
  {
   "cell_type": "code",
   "execution_count": null,
   "id": "ef2679dd",
   "metadata": {},
   "outputs": [],
   "source": []
  }
 ],
 "metadata": {
  "kernelspec": {
   "display_name": "Python 3 (ipykernel)",
   "language": "python",
   "name": "python3"
  },
  "language_info": {
   "codemirror_mode": {
    "name": "ipython",
    "version": 3
   },
   "file_extension": ".py",
   "mimetype": "text/x-python",
   "name": "python",
   "nbconvert_exporter": "python",
   "pygments_lexer": "ipython3",
   "version": "3.7.9"
  }
 },
 "nbformat": 4,
 "nbformat_minor": 5
}
