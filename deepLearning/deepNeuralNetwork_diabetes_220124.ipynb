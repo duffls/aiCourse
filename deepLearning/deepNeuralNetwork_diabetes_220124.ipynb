{
 "cells": [
  {
   "cell_type": "code",
   "execution_count": 23,
   "id": "2a17fc60",
   "metadata": {},
   "outputs": [],
   "source": [
    "import numpy as np\n",
    "\n",
    "def sigmoid(x): \n",
    "    return 1. / (1. + np.exp(-x))\n",
    "\n",
    "def numerical_derivative(f, x):\n",
    "    delta_x = 1e-4 # 0.0001\n",
    "    grad = np.zeros_like(x) \n",
    "    it = np.nditer(x, flags=['multi_index'], op_flags=['readwrite'])\n",
    "    while not it.finished:\n",
    "        idx = it.multi_index \n",
    "        tmp_val = x[idx]\n",
    "        x[idx] = float(tmp_val) + delta_x\n",
    "        fx1 = f(x) # f(x+delta_x)\n",
    "\n",
    "        x[idx] = float(tmp_val) - delta_x\n",
    "        fx2 = f(x) # f(x-delta_x)\n",
    "        grad[idx] = (fx1 - fx2) / (2*delta_x)\n",
    "\n",
    "        x[idx] = tmp_val\n",
    "        it.iternext() # 다음 인덱스로 이동 \n",
    "\n",
    "    return grad\n"
   ]
  },
  {
   "cell_type": "code",
   "execution_count": 59,
   "id": "adc0cd73",
   "metadata": {},
   "outputs": [],
   "source": [
    "class diabetes: \n",
    "    def __init__(self, xdata, tdata): # xdata, tdata, W, b 초기화\n",
    "        #self.name = c_name\n",
    "        self.xdata = xdata.reshape(768, 8) # 입력 데이터 초기화\n",
    "        self.tdata = tdata.reshape(768, 1) # 정답 데이터 초기화\n",
    "\n",
    "        # 입력층 노드 8 개, 은닉층 노드 4 개. 은닉층 개수는 적당한 값으로 정핚다.\n",
    "        self.W2 = np.random.rand(8, 4) \n",
    "        self.b2 = np.random.rand(4)\n",
    "        # 은닉층 노드 4 개, 출력층 노드 1 개\n",
    "        self.W3 = np.random.rand(4,1)\n",
    "        self.b3 = np.random.rand(1)\n",
    "        # 학습률 learning rate 초기화.\n",
    "        self.learning_rate = 1e-2 \n",
    "\n",
    "    def feed_forward(self): # 피드포워드 수행하며 손실함수 값 계산\n",
    "        delta = 1e-7 # log 무핚대 발산 방지\n",
    "        z2 = np.dot(self.xdata, self.W2) + self.b2 # 은닉층 선형회귀 값\n",
    "        a2 = sigmoid(z2) # 은닉층 출력\n",
    "        z3 = np.dot(a2, self.W3) + self.b3 # 출력층 선형회귀 값\n",
    "        y = a3 = sigmoid(z3) # 출력층 출력\n",
    "        return -np.sum(self.tdata*np.log(y+delta)+(1-self.tdata)*np.log((1 - y)+delta))\n",
    "\n",
    "    def loss_val(self): # 손실함수 값 계산\n",
    "        delta = 1e-7 # log 무핚대 발산 방지\n",
    "        z2 = np.dot(self.xdata, self.W2) + self.b2 # 은닉층 선형회귀 값\n",
    "        a2 = sigmoid(z2) # 은닉층 출력\n",
    "        z3 = np.dot(a2, self.W3) + self.b3 # 출력층 선형회귀 값\n",
    "        y = a3 = sigmoid(z3) # 출력층 출력\n",
    "        return -np.sum(self.tdata*np.log(y+delta)+(1-self.tdata)*np.log((1 - y)+delta))\n",
    "\n",
    "    def train(self ): # 경사하강법 이용하여 W, b 업데이트\n",
    "        f = lambda x : self.feed_forward() \n",
    "        print(\"Initial loss value = \", self.loss_val())\n",
    "        for step in range(90001): # 경사하강법을 이용해서 W2, W3 와 바이어스 b2, b3 를 업데이트\n",
    "            self.W2 -= self.learning_rate * numerical_derivative(f, self.W2) \n",
    "            self.b2 -= self.learning_rate * numerical_derivative(f, self.b2) \n",
    "            self.W3 -= self.learning_rate * numerical_derivative(f, self.W3) \n",
    "            self.b3 -= self.learning_rate * numerical_derivative(f, self.b3) \n",
    "            if (step % 1000 == 0):\n",
    "                print(\"step = \", step, \"loss value = \", self.loss_val()) \n",
    "\n",
    "    def predict(self, input_data): # 미래 값 예측\n",
    "        self.xdata = input_data\n",
    "        z2 = np.dot(self.xdata, self.W2) + self.b2 # 은닉층 선형회귀 값\n",
    "        a2 = sigmoid(z2) # 은닉층 출력\n",
    "        z3 = np.dot(a2, self.W3) + self.b3 # 출력층 선형회귀 값\n",
    "        y = a3 = sigmoid(z3) # 출력층 출력\n",
    "\n",
    "        if y > 0.5:\n",
    "            result = 1 \n",
    "        else:\n",
    "            result = 0 \n",
    "\n",
    "        return y, result \n"
   ]
  },
  {
   "cell_type": "code",
   "execution_count": null,
   "id": "583dacbc",
   "metadata": {},
   "outputs": [
    {
     "name": "stdout",
     "output_type": "stream",
     "text": [
      "Initial loss value =  1560.783651896429\n",
      "step =  0 loss value =  3687.150153694536\n",
      "step =  1000 loss value =  638.351628318341\n",
      "step =  2000 loss value =  501.87314518047816\n",
      "step =  3000 loss value =  1095.7122659129498\n",
      "step =  4000 loss value =  500.0786605048306\n",
      "step =  5000 loss value =  498.54714989507687\n",
      "step =  6000 loss value =  559.0554117765681\n",
      "step =  7000 loss value =  578.9943077464796\n",
      "step =  8000 loss value =  498.48440413998253\n",
      "step =  9000 loss value =  976.0562677266755\n"
     ]
    },
    {
     "name": "stderr",
     "output_type": "stream",
     "text": [
      "c:\\ai_source\\machinelearning\\venv\\lib\\site-packages\\ipykernel_launcher.py:4: RuntimeWarning: overflow encountered in exp\n",
      "  after removing the cwd from sys.path.\n"
     ]
    },
    {
     "name": "stdout",
     "output_type": "stream",
     "text": [
      "step =  10000 loss value =  848.3592691600546\n",
      "step =  11000 loss value =  549.165063673961\n",
      "step =  12000 loss value =  580.7293204687135\n",
      "step =  13000 loss value =  1446.160494606427\n",
      "step =  14000 loss value =  974.2204735623646\n",
      "step =  15000 loss value =  833.2621233408315\n",
      "step =  16000 loss value =  508.6428620633256\n",
      "step =  17000 loss value =  1005.8870469394171\n",
      "step =  18000 loss value =  550.4386841306454\n",
      "step =  19000 loss value =  624.4660730185694\n",
      "step =  20000 loss value =  504.9741602001114\n",
      "step =  21000 loss value =  837.1284760218067\n",
      "step =  22000 loss value =  614.741063337668\n",
      "step =  23000 loss value =  606.708536525325\n",
      "step =  24000 loss value =  825.3024630068988\n",
      "step =  25000 loss value =  778.3759622936713\n",
      "step =  26000 loss value =  577.2716186195114\n",
      "step =  27000 loss value =  508.91877962859684\n",
      "step =  28000 loss value =  838.5029278787895\n",
      "step =  29000 loss value =  812.5009064665086\n",
      "step =  30000 loss value =  625.3222858467184\n",
      "step =  31000 loss value =  2582.956647900501\n",
      "step =  32000 loss value =  577.4640345543\n",
      "step =  33000 loss value =  646.088230757552\n",
      "step =  34000 loss value =  653.924344797804\n",
      "step =  35000 loss value =  831.2756788651602\n",
      "step =  36000 loss value =  635.8537469006725\n",
      "step =  37000 loss value =  625.9058580996655\n",
      "step =  38000 loss value =  2587.8352651290234\n",
      "step =  39000 loss value =  563.9668967007551\n",
      "step =  40000 loss value =  761.0876009339108\n",
      "step =  41000 loss value =  2541.747171493753\n",
      "step =  42000 loss value =  769.8110835817428\n",
      "step =  43000 loss value =  547.2174879726894\n",
      "step =  44000 loss value =  849.5106985538973\n",
      "step =  45000 loss value =  588.4674218428925\n"
     ]
    }
   ],
   "source": [
    "import pandas as pd\n",
    "import numpy as np\n",
    "\n",
    "df = pd.read_csv('../diabetes.csv')\n",
    "\n",
    "xdata = df\n",
    "xdata = xdata.drop(['Outcome'], axis=1)\n",
    "tdata = df['Outcome']\n",
    "\n",
    "diab = diabetes(xdata.to_numpy(), tdata.to_numpy())\n",
    "\n",
    "diab.train() \n"
   ]
  },
  {
   "cell_type": "code",
   "execution_count": 58,
   "id": "a209036d",
   "metadata": {},
   "outputs": [
    {
     "name": "stdout",
     "output_type": "stream",
     "text": [
      "[  8.    154.     78.     32.      0.     32.4     0.443  45.   ]  =  1\n",
      "[  1.    128.     88.     39.    110.     36.5     1.057  37.   ]  =  1\n",
      "[  7.    137.     90.     41.      0.     32.      0.391  39.   ]  =  1\n",
      "[  0.    123.     72.      0.      0.     36.3     0.258  52.   ]  =  1\n",
      "[  1.    106.     76.      0.      0.     37.5     0.197  26.   ]  =  1\n"
     ]
    }
   ],
   "source": [
    "# 검증\n",
    "\n",
    "test_data = np.array([[8,154,78,32,0,32.4,0.443,45],\n",
    "                      [1,128,88,39,110,36.5,1.057,37],\n",
    "                      [7,137,90,41,0,32,0.391,39],\n",
    "                      [0,123,72,0,0,36.3,0.258,52],\n",
    "                      [1,106,76,0,0,37.5,0.197,26]])\n",
    "for data in test_data:\n",
    "    sigmoid_val, logical_val = diab.predict(data) # 임의 데이터에 대해 결과 예측\n",
    "    print(data, \" = \", logical_val)\n"
   ]
  },
  {
   "cell_type": "code",
   "execution_count": null,
   "id": "72e019e1",
   "metadata": {},
   "outputs": [],
   "source": [
    "8,154,78,32,0,32.4,0.443,45,1\n",
    "1,128,88,39,110,36.5,1.057,37,1\n",
    "7,137,90,41,0,32,0.391,39,0\n",
    "0,123,72,0,0,36.3,0.258,52,1\n",
    "1,106,76,0,0,37.5,0.197,26,0"
   ]
  },
  {
   "cell_type": "code",
   "execution_count": null,
   "id": "29b08525",
   "metadata": {},
   "outputs": [],
   "source": []
  },
  {
   "cell_type": "code",
   "execution_count": null,
   "id": "3d7e7f4b",
   "metadata": {},
   "outputs": [],
   "source": []
  },
  {
   "cell_type": "code",
   "execution_count": null,
   "id": "9fe80869",
   "metadata": {},
   "outputs": [],
   "source": []
  },
  {
   "cell_type": "code",
   "execution_count": null,
   "id": "04c07e46",
   "metadata": {},
   "outputs": [],
   "source": []
  },
  {
   "cell_type": "code",
   "execution_count": null,
   "id": "5ac387d3",
   "metadata": {},
   "outputs": [],
   "source": []
  },
  {
   "cell_type": "code",
   "execution_count": null,
   "id": "ff457457",
   "metadata": {},
   "outputs": [],
   "source": []
  },
  {
   "cell_type": "code",
   "execution_count": null,
   "id": "13bb6023",
   "metadata": {},
   "outputs": [],
   "source": []
  },
  {
   "cell_type": "code",
   "execution_count": null,
   "id": "55a7b83b",
   "metadata": {},
   "outputs": [],
   "source": []
  },
  {
   "cell_type": "code",
   "execution_count": null,
   "id": "289b2613",
   "metadata": {},
   "outputs": [],
   "source": []
  },
  {
   "cell_type": "code",
   "execution_count": null,
   "id": "09051820",
   "metadata": {},
   "outputs": [],
   "source": []
  },
  {
   "cell_type": "code",
   "execution_count": null,
   "id": "0ff33a9d",
   "metadata": {},
   "outputs": [],
   "source": []
  }
 ],
 "metadata": {
  "kernelspec": {
   "display_name": "Python 3 (ipykernel)",
   "language": "python",
   "name": "python3"
  },
  "language_info": {
   "codemirror_mode": {
    "name": "ipython",
    "version": 3
   },
   "file_extension": ".py",
   "mimetype": "text/x-python",
   "name": "python",
   "nbconvert_exporter": "python",
   "pygments_lexer": "ipython3",
   "version": "3.7.9"
  }
 },
 "nbformat": 4,
 "nbformat_minor": 5
}
