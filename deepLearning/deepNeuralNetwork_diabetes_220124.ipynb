{
 "cells": [
  {
   "cell_type": "code",
   "execution_count": 23,
   "id": "0157daed",
   "metadata": {},
   "outputs": [],
   "source": [
    "import numpy as np\n",
    "\n",
    "def sigmoid(x): \n",
    "    return 1. / (1. + np.exp(-x))\n",
    "\n",
    "def numerical_derivative(f, x):\n",
    "    delta_x = 1e-4 # 0.0001\n",
    "    grad = np.zeros_like(x) \n",
    "    it = np.nditer(x, flags=['multi_index'], op_flags=['readwrite'])\n",
    "    while not it.finished:\n",
    "        idx = it.multi_index \n",
    "        tmp_val = x[idx]\n",
    "        x[idx] = float(tmp_val) + delta_x\n",
    "        fx1 = f(x) # f(x+delta_x)\n",
    "\n",
    "        x[idx] = float(tmp_val) - delta_x\n",
    "        fx2 = f(x) # f(x-delta_x)\n",
    "        grad[idx] = (fx1 - fx2) / (2*delta_x)\n",
    "\n",
    "        x[idx] = tmp_val\n",
    "        it.iternext() # 다음 인덱스로 이동 \n",
    "\n",
    "    return grad\n"
   ]
  },
  {
   "cell_type": "code",
   "execution_count": 59,
   "id": "a8a7470a",
   "metadata": {},
   "outputs": [],
   "source": [
    "class diabetes: \n",
    "    def __init__(self, xdata, tdata): # xdata, tdata, W, b 초기화\n",
    "        #self.name = c_name\n",
    "        self.xdata = xdata.reshape(768, 8) # 입력 데이터 초기화\n",
    "        self.tdata = tdata.reshape(768, 1) # 정답 데이터 초기화\n",
    "\n",
    "        # 입력층 노드 8 개, 은닉층 노드 4 개. 은닉층 개수는 적당한 값으로 정핚다.\n",
    "        self.W2 = np.random.rand(8, 4) \n",
    "        self.b2 = np.random.rand(4)\n",
    "        # 은닉층 노드 4 개, 출력층 노드 1 개\n",
    "        self.W3 = np.random.rand(4,1)\n",
    "        self.b3 = np.random.rand(1)\n",
    "        # 학습률 learning rate 초기화.\n",
    "        self.learning_rate = 1e-2 \n",
    "\n",
    "    def feed_forward(self): # 피드포워드 수행하며 손실함수 값 계산\n",
    "        delta = 1e-7 # log 무핚대 발산 방지\n",
    "        z2 = np.dot(self.xdata, self.W2) + self.b2 # 은닉층 선형회귀 값\n",
    "        a2 = sigmoid(z2) # 은닉층 출력\n",
    "        z3 = np.dot(a2, self.W3) + self.b3 # 출력층 선형회귀 값\n",
    "        y = a3 = sigmoid(z3) # 출력층 출력\n",
    "        return -np.sum(self.tdata*np.log(y+delta)+(1-self.tdata)*np.log((1 - y)+delta))\n",
    "\n",
    "    def loss_val(self): # 손실함수 값 계산\n",
    "        delta = 1e-7 # log 무핚대 발산 방지\n",
    "        z2 = np.dot(self.xdata, self.W2) + self.b2 # 은닉층 선형회귀 값\n",
    "        a2 = sigmoid(z2) # 은닉층 출력\n",
    "        z3 = np.dot(a2, self.W3) + self.b3 # 출력층 선형회귀 값\n",
    "        y = a3 = sigmoid(z3) # 출력층 출력\n",
    "        return -np.sum(self.tdata*np.log(y+delta)+(1-self.tdata)*np.log((1 - y)+delta))\n",
    "\n",
    "    def train(self ): # 경사하강법 이용하여 W, b 업데이트\n",
    "        f = lambda x : self.feed_forward() \n",
    "        print(\"Initial loss value = \", self.loss_val())\n",
    "        for step in range(90001): # 경사하강법을 이용해서 W2, W3 와 바이어스 b2, b3 를 업데이트\n",
    "            self.W2 -= self.learning_rate * numerical_derivative(f, self.W2) \n",
    "            self.b2 -= self.learning_rate * numerical_derivative(f, self.b2) \n",
    "            self.W3 -= self.learning_rate * numerical_derivative(f, self.W3) \n",
    "            self.b3 -= self.learning_rate * numerical_derivative(f, self.b3) \n",
    "            if (step % 1000 == 0):\n",
    "                print(\"step = \", step, \"loss value = \", self.loss_val()) \n",
    "\n",
    "    def predict(self, input_data): # 미래 값 예측\n",
    "        self.xdata = input_data\n",
    "        z2 = np.dot(self.xdata, self.W2) + self.b2 # 은닉층 선형회귀 값\n",
    "        a2 = sigmoid(z2) # 은닉층 출력\n",
    "        z3 = np.dot(a2, self.W3) + self.b3 # 출력층 선형회귀 값\n",
    "        y = a3 = sigmoid(z3) # 출력층 출력\n",
    "\n",
    "        if y > 0.5:\n",
    "            result = 1 \n",
    "        else:\n",
    "            result = 0 \n",
    "\n",
    "        return y, result \n"
   ]
  },
  {
   "cell_type": "code",
   "execution_count": null,
   "id": "a16374d4",
   "metadata": {},
   "outputs": [],
   "source": []
  },
  {
   "cell_type": "code",
   "execution_count": null,
   "id": "6dcfec08",
   "metadata": {},
   "outputs": [],
   "source": []
  },
  {
   "cell_type": "markdown",
   "id": "25fb77c0",
   "metadata": {},
   "source": [
    "# diabetes "
   ]
  },
  {
   "cell_type": "code",
   "execution_count": 68,
   "id": "85744fad",
   "metadata": {
    "scrolled": true
   },
   "outputs": [],
   "source": [
    "import pandas as pd\n",
    "import numpy as np\n",
    "from sklearn.model_selection import train_test_split\n",
    "\n",
    "df = pd.read_csv('../diabetes.csv')\n"
   ]
  },
  {
   "cell_type": "code",
   "execution_count": 69,
   "id": "8b32d083",
   "metadata": {},
   "outputs": [
    {
     "data": {
      "text/plain": [
       "array([[0.35294118, 0.74371859, 0.59016393, ..., 0.23441503, 0.48333333,\n",
       "        1.        ],\n",
       "       [0.05882353, 0.42713568, 0.54098361, ..., 0.11656704, 0.16666667,\n",
       "        0.        ],\n",
       "       [0.47058824, 0.91959799, 0.52459016, ..., 0.25362938, 0.18333333,\n",
       "        1.        ],\n",
       "       ...,\n",
       "       [0.29411765, 0.6080402 , 0.59016393, ..., 0.07130658, 0.15      ,\n",
       "        0.        ],\n",
       "       [0.05882353, 0.63316583, 0.49180328, ..., 0.11571307, 0.43333333,\n",
       "        1.        ],\n",
       "       [0.05882353, 0.46733668, 0.57377049, ..., 0.10119556, 0.03333333,\n",
       "        0.        ]])"
      ]
     },
     "execution_count": 69,
     "metadata": {},
     "output_type": "execute_result"
    }
   ],
   "source": [
    "from sklearn.preprocessing import MinMaxScaler\n",
    "\n",
    "mm = MinMaxScaler()\n",
    "df2 = mm.fit_transform(df)  # numpy array\n",
    "df2"
   ]
  },
  {
   "cell_type": "code",
   "execution_count": 70,
   "id": "fdfba207",
   "metadata": {},
   "outputs": [
    {
     "name": "stdout",
     "output_type": "stream",
     "text": [
      "(576, 8), (192, 8)\n"
     ]
    }
   ],
   "source": [
    "X_train, X_test, y_train, y_test = train_test_split(df2[:,:-1], df2[:,-1], random_state=55)\n",
    "print(f\"{X_train.shape}, {X_test.shape}\")"
   ]
  },
  {
   "cell_type": "code",
   "execution_count": 71,
   "id": "1f01e7b0",
   "metadata": {},
   "outputs": [],
   "source": [
    "def sigmoid(x): \n",
    "    return 1. / (1. + np.exp(-x))\n",
    "\n",
    "def numerical_derivative(f, x):\n",
    "    delta_x = 1e-4 # 0.0001\n",
    "    grad = np.zeros_like(x) \n",
    "    it = np.nditer(x, flags=['multi_index'], op_flags=['readwrite'])\n",
    "    while not it.finished:\n",
    "        idx = it.multi_index \n",
    "        tmp_val = x[idx]\n",
    "        x[idx] = float(tmp_val) + delta_x\n",
    "        fx1 = f(x) # f(x+delta_x)\n",
    "\n",
    "        x[idx] = float(tmp_val) - delta_x\n",
    "        fx2 = f(x) # f(x-delta_x)\n",
    "        grad[idx] = (fx1 - fx2) / (2*delta_x)\n",
    "\n",
    "        x[idx] = tmp_val\n",
    "        it.iternext() # 다음 인덱스로 이동 \n",
    "\n",
    "    return grad\n"
   ]
  },
  {
   "cell_type": "code",
   "execution_count": 72,
   "id": "e28b3658",
   "metadata": {},
   "outputs": [],
   "source": [
    "class LogicDiabetes:\n",
    "    def __init__(self, xdata, tdata): # xdata, tdata, W, b 초기화\n",
    "        #self.name = c_name\n",
    "        self.xdata = xdata.reshape(xdata.shape[0], xdata.shape[1]) # 입력 데이터 초기화\n",
    "        self.tdata = tdata.reshape(tdata.shape[0], 1) # 정답 데이터 초기화\n",
    "\n",
    "        # 입력층 노드 8 개, 은닉층 노드 4 개. 은닉층 개수는 적당한 값으로 정핚다.\n",
    "        self.W2 = np.random.rand(xdata.shape[1], 10) \n",
    "        self.b2 = np.random.rand(10)\n",
    "        \n",
    "        # 은닉층 노드 4 개, 출력층 노드 1 개\n",
    "        self.W3 = np.random.rand(10, 1)\n",
    "        self.b3 = np.random.rand(1)\n",
    "        # 학습률 learning rate 초기화.\n",
    "        self.learning_rate = 1e-2 \n",
    "\n",
    "    def feed_forward(self): # 피드포워드 수행하며 손실함수 값 계산\n",
    "        delta = 1e-7 # log 무핚대 발산 방지\n",
    "        \n",
    "        z2 = np.dot(self.xdata, self.W2) + self.b2 # 은닉층 선형회귀 값\n",
    "        a2 = sigmoid(z2) # 은닉층 출력\n",
    "        \n",
    "        z3 = np.dot(a2, self.W3) + self.b3 # 출력층 선형회귀 값\n",
    "        y = a3 = sigmoid(z3) # 출력층 출력\n",
    "        \n",
    "        return -np.sum(self.tdata*np.log(y+delta)+(1-self.tdata)*np.log((1 - y)+delta))\n",
    "\n",
    "    def loss_val(self): # 손실함수 값 계산\n",
    "        delta = 1e-7 # log 무핚대 발산 방지\n",
    "        \n",
    "        z2 = np.dot(self.xdata, self.W2) + self.b2 # 은닉층 선형회귀 값\n",
    "        a2 = sigmoid(z2) # 은닉층 출력\n",
    "        \n",
    "        z3 = np.dot(a2, self.W3) + self.b3 # 출력층 선형회귀 값\n",
    "        y = a3 = sigmoid(z3) # 출력층 출력\n",
    "        \n",
    "        return -np.sum(self.tdata*np.log(y+delta)+(1-self.tdata)*np.log((1 - y)+delta))\n",
    "\n",
    "    def train(self ): # 경사하강법 이용하여 W, b 업데이트\n",
    "        f = lambda x : self.feed_forward() \n",
    "        print(\"Initial loss value = \", self.loss_val())\n",
    "        for step in range(30001): # 경사하강법을 이용해서 W2, W3 와 바이어스 b2, b3 를 업데이트\n",
    "            self.W2 -= self.learning_rate * numerical_derivative(f, self.W2) \n",
    "            self.b2 -= self.learning_rate * numerical_derivative(f, self.b2) \n",
    "            self.W3 -= self.learning_rate * numerical_derivative(f, self.W3) \n",
    "            self.b3 -= self.learning_rate * numerical_derivative(f, self.b3) \n",
    "            if (step % 1000 == 0):\n",
    "                print(\"step = \", step, \"loss value = \", self.loss_val()) \n",
    "\n",
    "    def predict(self, input_data): # 미래 값 예측\n",
    "        self.xdata = input_data\n",
    "        \n",
    "        z2 = np.dot(self.xdata, self.W2) + self.b2 # 은닉층 선형회귀 값\n",
    "        a2 = sigmoid(z2) # 은닉층 출력\n",
    "        \n",
    "        z3 = np.dot(a2, self.W3) + self.b3 # 출력층 선형회귀 값\n",
    "        y = a3 = sigmoid(z3) # 출력층 출력\n",
    "\n",
    "        if y > 0.5:\n",
    "            result = 1 \n",
    "        else:\n",
    "            result = 0 \n",
    "\n",
    "        return y, result \n"
   ]
  },
  {
   "cell_type": "code",
   "execution_count": 73,
   "id": "df242eb5",
   "metadata": {},
   "outputs": [
    {
     "name": "stdout",
     "output_type": "stream",
     "text": [
      "Initial loss value =  1990.759406827664\n",
      "step =  0 loss value =  3060.6590500158327\n",
      "step =  1000 loss value =  229.83235957888255\n",
      "step =  2000 loss value =  217.8329563910346\n",
      "step =  3000 loss value =  209.311591384287\n",
      "step =  4000 loss value =  207.30772384587772\n",
      "step =  5000 loss value =  200.57270683562365\n",
      "step =  6000 loss value =  203.23976143930653\n",
      "step =  7000 loss value =  187.09992944830262\n",
      "step =  8000 loss value =  187.72173385984217\n",
      "step =  9000 loss value =  191.0016538514313\n",
      "step =  10000 loss value =  185.9229292358531\n",
      "step =  11000 loss value =  184.43464318360967\n",
      "step =  12000 loss value =  180.7902204359693\n",
      "step =  13000 loss value =  192.80652045119137\n",
      "step =  14000 loss value =  194.93176275878398\n",
      "step =  15000 loss value =  167.4476803078486\n",
      "step =  16000 loss value =  163.55813156799476\n",
      "step =  17000 loss value =  160.69319523007223\n",
      "step =  18000 loss value =  160.81112061936523\n",
      "step =  19000 loss value =  166.10654478297448\n",
      "step =  20000 loss value =  177.2203887876683\n",
      "step =  21000 loss value =  175.73669877760437\n",
      "step =  22000 loss value =  175.06969748775452\n",
      "step =  23000 loss value =  174.57066623214718\n",
      "step =  24000 loss value =  174.1115016985052\n",
      "step =  25000 loss value =  173.62894513675977\n",
      "step =  26000 loss value =  173.0485574734297\n",
      "step =  27000 loss value =  172.26994946053918\n",
      "step =  28000 loss value =  170.11722763006514\n",
      "step =  29000 loss value =  167.0266856774007\n",
      "step =  30000 loss value =  181.19064695396068\n"
     ]
    }
   ],
   "source": [
    "obj = LogicDiabetes(X_train, y_train)\n",
    "obj.train()"
   ]
  },
  {
   "cell_type": "code",
   "execution_count": 74,
   "id": "999950a4",
   "metadata": {},
   "outputs": [
    {
     "name": "stdout",
     "output_type": "stream",
     "text": [
      "[0, 0, 0, 0, 1, 0, 0, 0, 0, 0, 0, 0, 0, 0, 1, 0, 1, 0, 1, 1, 1, 0, 1, 0, 1, 1, 1, 0, 0, 1, 0, 0, 0, 1, 0, 0, 0, 1, 1, 0, 0, 1, 0, 0, 0, 0, 0, 1, 0, 0, 0, 0, 1, 1, 0, 0, 0, 0, 0, 0, 1, 1, 1, 0, 0, 0, 1, 0, 0, 0, 1, 0, 0, 1, 1, 1, 1, 0, 0, 1, 0, 0, 1, 0, 0, 0, 0, 0, 0, 0, 0, 1, 1, 0, 1, 1, 0, 1, 0, 0, 0, 1, 0, 0, 1, 0, 1, 1, 1, 0, 0, 1, 1, 0, 1, 0, 0, 0, 1, 0, 0, 0, 0, 0, 0, 1, 0, 0, 0, 0, 0, 0, 0, 0, 0, 1, 0, 0, 1, 0, 1, 0, 0, 0, 1, 1, 0, 1, 0, 0, 0, 0, 0, 0, 0, 0, 1, 0, 0, 0, 1, 1, 0, 0, 0, 1, 0, 0, 0, 1, 0, 0, 0, 0, 0, 0, 1, 0, 0, 1, 0, 0, 0, 0, 0, 0, 1, 0, 0, 1, 1, 0]\n"
     ]
    }
   ],
   "source": [
    "pred = []\n",
    "for data in X_test:\n",
    "    sigmoid_val, logical_val = obj.predict(data)\n",
    "    pred.append(logical_val)\n",
    "print(pred)"
   ]
  },
  {
   "cell_type": "code",
   "execution_count": 75,
   "id": "ad6dc863",
   "metadata": {},
   "outputs": [
    {
     "data": {
      "text/plain": [
       "0.6614583333333334"
      ]
     },
     "execution_count": 75,
     "metadata": {},
     "output_type": "execute_result"
    }
   ],
   "source": [
    "from sklearn.metrics import accuracy_score\n",
    "accuracy_score(y_test, pred)"
   ]
  },
  {
   "cell_type": "code",
   "execution_count": null,
   "id": "103715f8",
   "metadata": {},
   "outputs": [],
   "source": []
  },
  {
   "cell_type": "code",
   "execution_count": null,
   "id": "22c3e604",
   "metadata": {},
   "outputs": [],
   "source": []
  },
  {
   "cell_type": "code",
   "execution_count": null,
   "id": "6461e0c5",
   "metadata": {},
   "outputs": [],
   "source": []
  },
  {
   "cell_type": "code",
   "execution_count": null,
   "id": "4d6e45de",
   "metadata": {},
   "outputs": [],
   "source": []
  },
  {
   "cell_type": "code",
   "execution_count": 61,
   "id": "7d3121ba",
   "metadata": {},
   "outputs": [
    {
     "name": "stdout",
     "output_type": "stream",
     "text": [
      "[  8.    154.     78.     32.      0.     32.4     0.443  45.   ]  =  0\n",
      "[  1.    128.     88.     39.    110.     36.5     1.057  37.   ]  =  0\n",
      "[  7.    137.     90.     41.      0.     32.      0.391  39.   ]  =  0\n",
      "[  0.    123.     72.      0.      0.     36.3     0.258  52.   ]  =  0\n",
      "[  1.    106.     76.      0.      0.     37.5     0.197  26.   ]  =  0\n"
     ]
    }
   ],
   "source": [
    "# 검증\n",
    "\n",
    "test_data = np.array([[8,154,78,32,0,32.4,0.443,45],\n",
    "                      [1,128,88,39,110,36.5,1.057,37],\n",
    "                      [7,137,90,41,0,32,0.391,39],\n",
    "                      [0,123,72,0,0,36.3,0.258,52],\n",
    "                      [1,106,76,0,0,37.5,0.197,26]])\n",
    "for data in test_data:\n",
    "    sigmoid_val, logical_val = diab.predict(data) # 임의 데이터에 대해 결과 예측\n",
    "    print(data, \" = \", logical_val)\n"
   ]
  },
  {
   "cell_type": "code",
   "execution_count": null,
   "id": "0177e3c2",
   "metadata": {},
   "outputs": [],
   "source": [
    "8,154,78,32,0,32.4,0.443,45,1\n",
    "1,128,88,39,110,36.5,1.057,37,1\n",
    "7,137,90,41,0,32,0.391,39,0\n",
    "0,123,72,0,0,36.3,0.258,52,1\n",
    "1,106,76,0,0,37.5,0.197,26,0"
   ]
  },
  {
   "cell_type": "code",
   "execution_count": null,
   "id": "550054cb",
   "metadata": {},
   "outputs": [],
   "source": []
  },
  {
   "cell_type": "code",
   "execution_count": null,
   "id": "34262aa3",
   "metadata": {},
   "outputs": [],
   "source": [
    "df = pd.read_csv('../diabetes.csv')"
   ]
  },
  {
   "cell_type": "code",
   "execution_count": null,
   "id": "c9e7a9dd",
   "metadata": {},
   "outputs": [],
   "source": []
  },
  {
   "cell_type": "code",
   "execution_count": null,
   "id": "db073d25",
   "metadata": {},
   "outputs": [],
   "source": []
  },
  {
   "cell_type": "code",
   "execution_count": null,
   "id": "1d51d103",
   "metadata": {},
   "outputs": [],
   "source": []
  },
  {
   "cell_type": "code",
   "execution_count": null,
   "id": "8dafdc0d",
   "metadata": {},
   "outputs": [],
   "source": []
  },
  {
   "cell_type": "code",
   "execution_count": null,
   "id": "6f43d32a",
   "metadata": {},
   "outputs": [],
   "source": []
  },
  {
   "cell_type": "code",
   "execution_count": null,
   "id": "e574de9d",
   "metadata": {},
   "outputs": [],
   "source": []
  },
  {
   "cell_type": "code",
   "execution_count": null,
   "id": "6f606281",
   "metadata": {},
   "outputs": [],
   "source": []
  },
  {
   "cell_type": "code",
   "execution_count": null,
   "id": "ed38177d",
   "metadata": {},
   "outputs": [],
   "source": []
  },
  {
   "cell_type": "code",
   "execution_count": null,
   "id": "a70eb56f",
   "metadata": {},
   "outputs": [],
   "source": []
  }
 ],
 "metadata": {
  "kernelspec": {
   "display_name": "Python 3 (ipykernel)",
   "language": "python",
   "name": "python3"
  },
  "language_info": {
   "codemirror_mode": {
    "name": "ipython",
    "version": 3
   },
   "file_extension": ".py",
   "mimetype": "text/x-python",
   "name": "python",
   "nbconvert_exporter": "python",
   "pygments_lexer": "ipython3",
   "version": "3.7.9"
  }
 },
 "nbformat": 4,
 "nbformat_minor": 5
}
