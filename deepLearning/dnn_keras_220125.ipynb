{
 "cells": [
  {
   "cell_type": "code",
   "execution_count": 2,
   "id": "4ddc4c41",
   "metadata": {},
   "outputs": [],
   "source": [
    "from keras.datasets import mnist\n",
    "from keras.models import Sequential\n",
    "from keras.layers.core import Dense, Dropout, Activation\n",
    "from keras.utils import np_utils\n",
    "import matplotlib.pyplot as plt\n",
    "\n",
    "# MNIST 데이터 읽어 들이기 --- (※1)\n",
    "(X_train, y_train), (X_test, y_test) = mnist.load_data()\n"
   ]
  },
  {
   "cell_type": "code",
   "execution_count": 3,
   "id": "2c343e9e",
   "metadata": {},
   "outputs": [
    {
     "name": "stdout",
     "output_type": "stream",
     "text": [
      "(60000, 28, 28) (10000, 28, 28)\n"
     ]
    }
   ],
   "source": [
    "print(X_train.shape, X_test.shape)"
   ]
  },
  {
   "cell_type": "code",
   "execution_count": 4,
   "id": "b459281f",
   "metadata": {},
   "outputs": [
    {
     "data": {
      "image/png": "[encoded data removed]",
      "text/plain": [
       "<Figure size 720x720 with 25 Axes>"
      ]
     },
     "metadata": {},
     "output_type": "display_data"
    }
   ],
   "source": [
    "plt.figure(figsize=(10,10))\n",
    "for index in range(25):\n",
    "    plt.subplot(5, 5, index+1)\n",
    "    plt.xticks([])\n",
    "    plt.yticks([])\n",
    "    plt.grid(False)\n",
    "    plt.imshow(X_train[index], cmap='gray')\n",
    "    plt.xlabel(str(y_train[index]))\n",
    "plt.show()\n"
   ]
  },
  {
   "cell_type": "code",
   "execution_count": 5,
   "id": "10e3f4ea",
   "metadata": {},
   "outputs": [
    {
     "data": {
      "text/plain": [
       "array([0., 0., 0., 0., 0., 1., 0., 0., 0., 0.], dtype=float32)"
      ]
     },
     "execution_count": 5,
     "metadata": {},
     "output_type": "execute_result"
    }
   ],
   "source": [
    "# 데이터를 float32 자료형으로 변홖하고 정규화하기 --- (※2)\n",
    "X_train = X_train.reshape(60000, 784).astype('float32') # 28, 28 = 784\n",
    "X_test = X_test.reshape(10000, 784).astype('float32')\n",
    "\n",
    "X_train /= 255\n",
    "X_test /= 255\n",
    "\n",
    "# 레이블 데이터를 0-9까지의 카테고리를 나타내는 배열로 변홖하기 --- (※2a)\n",
    "y_train = np_utils.to_categorical(y_train, 10)\n",
    "y_test = np_utils.to_categorical(y_test, 10)\n",
    "\n",
    "y_train[0]"
   ]
  },
  {
   "cell_type": "code",
   "execution_count": 9,
   "id": "8ad9634a",
   "metadata": {},
   "outputs": [
    {
     "name": "stdout",
     "output_type": "stream",
     "text": [
      "Model: \"sequential_1\"\n",
      "_________________________________________________________________\n",
      "Layer (type)                 Output Shape              Param #   \n",
      "=================================================================\n",
      "dense_3 (Dense)              (None, 512)               401920    \n",
      "_________________________________________________________________\n",
      "activation_3 (Activation)    (None, 512)               0         \n",
      "_________________________________________________________________\n",
      "dropout_2 (Dropout)          (None, 512)               0         \n",
      "_________________________________________________________________\n",
      "dense_4 (Dense)              (None, 512)               262656    \n",
      "_________________________________________________________________\n",
      "activation_4 (Activation)    (None, 512)               0         \n",
      "_________________________________________________________________\n",
      "dropout_3 (Dropout)          (None, 512)               0         \n",
      "_________________________________________________________________\n",
      "dense_5 (Dense)              (None, 10)                5130      \n",
      "_________________________________________________________________\n",
      "activation_5 (Activation)    (None, 10)                0         \n",
      "=================================================================\n",
      "Total params: 669,706\n",
      "Trainable params: 669,706\n",
      "Non-trainable params: 0\n",
      "_________________________________________________________________\n"
     ]
    }
   ],
   "source": [
    "# 모델 구조 정의하기 --- (※3)\n",
    "model = Sequential()\n",
    "model.add(Dense(512, input_shape=(784,)))\n",
    "model.add(Activation('relu'))\n",
    "model.add(Dropout(0.2))\n",
    "model.add(Dense(512))\n",
    "model.add(Activation('relu'))\n",
    "model.add(Dropout(0.2))\n",
    "model.add(Dense(10))\n",
    "model.add(Activation('softmax'))\n",
    "model.compile( loss='categorical_crossentropy', optimizer='adam', metrics=['accuracy'])\n",
    "model.summary()"
   ]
  },
  {
   "cell_type": "code",
   "execution_count": 7,
   "id": "8ce66db4",
   "metadata": {},
   "outputs": [
    {
     "name": "stdout",
     "output_type": "stream",
     "text": [
      "Epoch 1/5\n",
      "1875/1875 [==============================] - 13s 2ms/step - loss: 0.3576 - accuracy: 0.8893\n",
      "Epoch 2/5\n",
      "1875/1875 [==============================] - 3s 2ms/step - loss: 0.1076 - accuracy: 0.9664\n",
      "Epoch 3/5\n",
      "1875/1875 [==============================] - 3s 2ms/step - loss: 0.0740 - accuracy: 0.9768\n",
      "Epoch 4/5\n",
      "1875/1875 [==============================] - 3s 2ms/step - loss: 0.0625 - accuracy: 0.9807\n",
      "Epoch 5/5\n",
      "1875/1875 [==============================] - 3s 2ms/step - loss: 0.0546 - accuracy: 0.9829\n"
     ]
    }
   ],
   "source": [
    "# 데이터 훈련하기 --- (※5)\n",
    "hist = model.fit(X_train, y_train, epochs=5) # batch_size=32 Epoch 1/5 1875/1875 (train data size / batch_size) = 1875"
   ]
  },
  {
   "cell_type": "code",
   "execution_count": 8,
   "id": "b50f9133",
   "metadata": {},
   "outputs": [
    {
     "name": "stdout",
     "output_type": "stream",
     "text": [
      "313/313 [==============================] - 0s 577us/step - loss: 0.0720 - accuracy: 0.9800\n",
      "loss= 0.07203947007656097\n",
      "accuracy= 0.9800000190734863\n"
     ]
    }
   ],
   "source": [
    "# 테스트 데이터로 평가하기 --- (※6)\n",
    "score = model.evaluate(X_test, y_test, verbose=1)\n",
    "print('loss=', score[0])\n",
    "print('accuracy=', score[1])"
   ]
  },
  {
   "cell_type": "markdown",
   "id": "11d7a032",
   "metadata": {},
   "source": [
    "# Keras, BMI "
   ]
  },
  {
   "cell_type": "code",
   "execution_count": 11,
   "id": "50166cc8",
   "metadata": {},
   "outputs": [],
   "source": [
    "from keras.models import Sequential\n",
    "from keras.layers.core import Dense, Dropout, Activation\n",
    "from keras.callbacks import EarlyStopping\n",
    "import pandas as pd, numpy as np"
   ]
  },
  {
   "cell_type": "code",
   "execution_count": 13,
   "id": "b6036659",
   "metadata": {},
   "outputs": [],
   "source": [
    "# BMI 데이터를 읽어 들이고 정규화하기 --- (※1)\n",
    "csv = pd.read_csv(\"../bmi.csv\")\n",
    "\n",
    "# 몸무게와 키 데이터\n",
    "csv[\"weight\"] /= 100\n",
    "csv[\"height\"] /= 200"
   ]
  },
  {
   "cell_type": "code",
   "execution_count": 14,
   "id": "0be7b551",
   "metadata": {},
   "outputs": [],
   "source": [
    "X = csv[[\"weight\", \"height\"]].to_numpy()\n",
    "\n",
    "# 레이블\n",
    "bclass = {\"thin\":[1,0,0], \"normal\":[0,1,0], \"fat\":[0,0,1]}\n",
    "y = np.empty((20000, 3))\n",
    "for i, v in enumerate(csv[\"label\"]):\n",
    "    y[i] = bclass[v]\n",
    "\n",
    "# 훈련 전용 데이터와 테스트 전용 데이터로 나누기 --- (※2)\n",
    "X_train, y_train = X[1:15001], y[1:15001]\n",
    "X_test, y_test = X[15001:20001], y[15001:20001]\n"
   ]
  },
  {
   "cell_type": "code",
   "execution_count": 28,
   "id": "e99ff3ba",
   "metadata": {},
   "outputs": [
    {
     "name": "stdout",
     "output_type": "stream",
     "text": [
      "Model: \"sequential_3\"\n",
      "_________________________________________________________________\n",
      "Layer (type)                 Output Shape              Param #   \n",
      "=================================================================\n",
      "dense_9 (Dense)              (None, 512)               1536      \n",
      "_________________________________________________________________\n",
      "activation_9 (Activation)    (None, 512)               0         \n",
      "_________________________________________________________________\n",
      "dropout_6 (Dropout)          (None, 512)               0         \n",
      "_________________________________________________________________\n",
      "dense_10 (Dense)             (None, 512)               262656    \n",
      "_________________________________________________________________\n",
      "activation_10 (Activation)   (None, 512)               0         \n",
      "_________________________________________________________________\n",
      "dropout_7 (Dropout)          (None, 512)               0         \n",
      "_________________________________________________________________\n",
      "dense_11 (Dense)             (None, 3)                 1539      \n",
      "_________________________________________________________________\n",
      "activation_11 (Activation)   (None, 3)                 0         \n",
      "=================================================================\n",
      "Total params: 265,731\n",
      "Trainable params: 265,731\n",
      "Non-trainable params: 0\n",
      "_________________________________________________________________\n"
     ]
    }
   ],
   "source": [
    "# 모델 구조 정의하기 --- (※3)\n",
    "model = Sequential()\n",
    "model.add(Dense(512, input_shape=(2,)))\n",
    "model.add(Activation('relu'))\n",
    "model.add(Dropout(0.1))\n",
    "model.add(Dense(512))\n",
    "model.add(Activation('relu'))\n",
    "model.add(Dropout(0.1))\n",
    "model.add(Dense(3))\n",
    "model.add(Activation('softmax'))\n",
    "model.summary()"
   ]
  },
  {
   "cell_type": "code",
   "execution_count": 16,
   "id": "96394cbd",
   "metadata": {},
   "outputs": [],
   "source": [
    "# 모델 구축하기 --- (※4)\n",
    "model.compile(loss='categorical_crossentropy', optimizer='adam', metrics=['accuracy'])\n"
   ]
  },
  {
   "cell_type": "code",
   "execution_count": 17,
   "id": "d4541ad5",
   "metadata": {},
   "outputs": [
    {
     "name": "stdout",
     "output_type": "stream",
     "text": [
      "Epoch 1/20\n",
      "150/150 [==============================] - 1s 2ms/step - loss: 0.7034 - accuracy: 0.6999\n",
      "Epoch 2/20\n",
      "150/150 [==============================] - 0s 2ms/step - loss: 0.1663 - accuracy: 0.9511\n",
      "Epoch 3/20\n",
      "150/150 [==============================] - 0s 2ms/step - loss: 0.1141 - accuracy: 0.9588\n",
      "Epoch 4/20\n",
      "150/150 [==============================] - 0s 2ms/step - loss: 0.0897 - accuracy: 0.9685\n",
      "Epoch 5/20\n",
      "150/150 [==============================] - 0s 2ms/step - loss: 0.0824 - accuracy: 0.9682\n",
      "Epoch 6/20\n",
      "150/150 [==============================] - 0s 2ms/step - loss: 0.0730 - accuracy: 0.9740\n",
      "Epoch 7/20\n",
      "150/150 [==============================] - 0s 2ms/step - loss: 0.0709 - accuracy: 0.9690\n",
      "Epoch 8/20\n",
      "150/150 [==============================] - 0s 2ms/step - loss: 0.0705 - accuracy: 0.9713\n",
      "Epoch 9/20\n",
      "150/150 [==============================] - 0s 2ms/step - loss: 0.0643 - accuracy: 0.9728\n",
      "Epoch 10/20\n",
      "150/150 [==============================] - 0s 2ms/step - loss: 0.0703 - accuracy: 0.9698\n",
      "Epoch 11/20\n",
      "150/150 [==============================] - 0s 2ms/step - loss: 0.0549 - accuracy: 0.9757\n",
      "Epoch 12/20\n",
      "150/150 [==============================] - 0s 2ms/step - loss: 0.0565 - accuracy: 0.9769\n",
      "Epoch 13/20\n",
      "150/150 [==============================] - 0s 2ms/step - loss: 0.0502 - accuracy: 0.9813\n",
      "Epoch 14/20\n",
      "150/150 [==============================] - 0s 2ms/step - loss: 0.0564 - accuracy: 0.9735\n",
      "Epoch 15/20\n",
      "150/150 [==============================] - 0s 2ms/step - loss: 0.0541 - accuracy: 0.9754\n",
      "Epoch 16/20\n",
      "150/150 [==============================] - 0s 2ms/step - loss: 0.0447 - accuracy: 0.9831\n",
      "Epoch 17/20\n",
      "150/150 [==============================] - 0s 2ms/step - loss: 0.0710 - accuracy: 0.9705\n",
      "Epoch 18/20\n",
      "150/150 [==============================] - 0s 2ms/step - loss: 0.0566 - accuracy: 0.9749\n",
      "Epoch 19/20\n",
      "150/150 [==============================] - 0s 2ms/step - loss: 0.0495 - accuracy: 0.9793\n",
      "Epoch 20/20\n",
      "150/150 [==============================] - 0s 2ms/step - loss: 0.0600 - accuracy: 0.9764\n"
     ]
    }
   ],
   "source": [
    "# 데이터 훈련하기 --- (※5)\n",
    "hist = model.fit(X_train, y_train, batch_size=100, epochs=20)\n"
   ]
  },
  {
   "cell_type": "code",
   "execution_count": null,
   "id": "585397bb",
   "metadata": {},
   "outputs": [],
   "source": []
  },
  {
   "cell_type": "markdown",
   "id": "df08b4ae",
   "metadata": {},
   "source": [
    "# tensorflow.keras "
   ]
  },
  {
   "cell_type": "code",
   "execution_count": 29,
   "id": "8d46c889",
   "metadata": {},
   "outputs": [
    {
     "name": "stdout",
     "output_type": "stream",
     "text": [
      "2.5.0\n",
      "Model: \"sequential\"\n",
      "_________________________________________________________________\n",
      "Layer (type)                 Output Shape              Param #   \n",
      "=================================================================\n",
      "flatten (Flatten)            (None, 784)               0         \n",
      "_________________________________________________________________\n",
      "dense (Dense)                (None, 128)               100480    \n",
      "_________________________________________________________________\n",
      "dropout (Dropout)            (None, 128)               0         \n",
      "_________________________________________________________________\n",
      "dense_1 (Dense)              (None, 10)                1290      \n",
      "=================================================================\n",
      "Total params: 101,770\n",
      "Trainable params: 101,770\n",
      "Non-trainable params: 0\n",
      "_________________________________________________________________\n"
     ]
    }
   ],
   "source": [
    "import tensorflow as tf\n",
    "\n",
    "print(tf.__version__)\n",
    "(x_train, y_train), (x_test, y_test) = tf.keras.datasets.mnist.load_data()\n",
    "\n",
    "model = tf.keras.Sequential(layers=[tf.keras.layers.Flatten(input_shape=(28, 28)),\n",
    "                                    tf.keras.layers.Dense(128, activation=\"relu\"),\n",
    "                                    tf.keras.layers.Dropout(0.2),\n",
    "                                    tf.keras.layers.Dense(10, activation=\"softmax\")])\n",
    "model.summary()"
   ]
  },
  {
   "cell_type": "code",
   "execution_count": 33,
   "id": "18e6b67e",
   "metadata": {},
   "outputs": [],
   "source": [
    "model.compile(optimizer=\"adam\",\n",
    "              loss=\"sparse_categorical_crossentropy\", # sparse_categorical_crossentropy , categorical_crossentropy\n",
    "              metrics=[\"accuracy\"])\n"
   ]
  },
  {
   "cell_type": "code",
   "execution_count": 34,
   "id": "32a31bf8",
   "metadata": {},
   "outputs": [
    {
     "name": "stdout",
     "output_type": "stream",
     "text": [
      "Epoch 1/5\n",
      "1875/1875 [==============================] - 1s 570us/step - loss: 0.4035 - accuracy: 0.9037\n",
      "Epoch 2/5\n",
      "1875/1875 [==============================] - 1s 560us/step - loss: 0.3621 - accuracy: 0.9089\n",
      "Epoch 3/5\n",
      "1875/1875 [==============================] - 1s 569us/step - loss: 0.3579 - accuracy: 0.9107\n",
      "Epoch 4/5\n",
      "1875/1875 [==============================] - 1s 558us/step - loss: 0.3413 - accuracy: 0.9145\n",
      "Epoch 5/5\n",
      "1875/1875 [==============================] - 1s 569us/step - loss: 0.3373 - accuracy: 0.9164\n"
     ]
    }
   ],
   "source": [
    "history = model.fit(x_train, y_train, epochs=5)\n"
   ]
  },
  {
   "cell_type": "code",
   "execution_count": 31,
   "id": "5906408c",
   "metadata": {},
   "outputs": [
    {
     "name": "stdout",
     "output_type": "stream",
     "text": [
      "313/313 - 0s - loss: 0.3070 - accuracy: 0.9298\n",
      "\n",
      "테스트 정확도 : 0.9297999739646912\n"
     ]
    }
   ],
   "source": [
    "# 케라스 모델의 정확도는 evaluate 메서드를 이용해서 확인\n",
    "test_loss, test_acc = model.evaluate(x_test, y_test, verbose=2)\n",
    "print(\"\\n테스트 정확도 :\", test_acc)\n"
   ]
  },
  {
   "cell_type": "code",
   "execution_count": 32,
   "id": "0f341c20",
   "metadata": {},
   "outputs": [
    {
     "name": "stdout",
     "output_type": "stream",
     "text": [
      "예측값:7, 실제값:7\n"
     ]
    },
    {
     "data": {
      "image/png": "[encoded data removed]",
      "text/plain": [
       "<Figure size 432x288 with 1 Axes>"
      ]
     },
     "metadata": {
      "needs_background": "light"
     },
     "output_type": "display_data"
    }
   ],
   "source": [
    "import matplotlib.pyplot as plt\n",
    "import numpy as np\n",
    "\n",
    "predictions = model.predict(x_test)\n",
    "pred = np.argmax(predictions[0])\n",
    "print(\"예측값:{}, 실제값:{}\".format(pred, y_test[0]))\n",
    "plt.imshow(x_test[0])\n",
    "plt.show()"
   ]
  },
  {
   "cell_type": "code",
   "execution_count": 35,
   "id": "4f2b1494",
   "metadata": {},
   "outputs": [
    {
     "data": {
      "text/plain": [
       "{'loss': [0.40349870920181274,\n",
       "  0.3620576560497284,\n",
       "  0.35790497064590454,\n",
       "  0.34132689237594604,\n",
       "  0.3372741639614105],\n",
       " 'accuracy': [0.9037333130836487,\n",
       "  0.9089499711990356,\n",
       "  0.9107000231742859,\n",
       "  0.9144833087921143,\n",
       "  0.9164166450500488]}"
      ]
     },
     "execution_count": 35,
     "metadata": {},
     "output_type": "execute_result"
    }
   ],
   "source": [
    "# history 객체는 모델이 매 epochs 마다 측정핚 비용(loss)와 정확도를 기록핚다.\n",
    "history.history\n"
   ]
  },
  {
   "cell_type": "code",
   "execution_count": 36,
   "id": "d0d96b5e",
   "metadata": {},
   "outputs": [
    {
     "data": {
      "image/png": "[encoded data removed]",
      "text/plain": [
       "<Figure size 432x288 with 1 Axes>"
      ]
     },
     "metadata": {
      "needs_background": "light"
     },
     "output_type": "display_data"
    }
   ],
   "source": [
    "plt.plot(history.history[\"loss\"])\n",
    "plt.plot(history.history[\"accuracy\"])\n",
    "plt.legend([\"loss\", \"accuracy\"])\n",
    "plt.show()\n"
   ]
  },
  {
   "cell_type": "markdown",
   "id": "8adab2de",
   "metadata": {},
   "source": [
    "# tf.keras 기본 이미지 분류 예제"
   ]
  },
  {
   "cell_type": "code",
   "execution_count": 37,
   "id": "f09a35b2",
   "metadata": {},
   "outputs": [
    {
     "name": "stdout",
     "output_type": "stream",
     "text": [
      "Downloading data from https://storage.googleapis.com/tensorflow/tf-keras-datasets/train-labels-idx1-ubyte.gz\n",
      "32768/29515 [=================================] - 0s 1us/step\n",
      "Downloading data from https://storage.googleapis.com/tensorflow/tf-keras-datasets/train-images-idx3-ubyte.gz\n",
      "26427392/26421880 [==============================] - 0s 0us/step\n",
      "Downloading data from https://storage.googleapis.com/tensorflow/tf-keras-datasets/t10k-labels-idx1-ubyte.gz\n",
      "8192/5148 [===============================================] - 0s 0s/step\n",
      "Downloading data from https://storage.googleapis.com/tensorflow/tf-keras-datasets/t10k-images-idx3-ubyte.gz\n",
      "4423680/4422102 [==============================] - 0s 0us/step\n"
     ]
    }
   ],
   "source": [
    "import tensorflow as tf\n",
    "from tensorflow import keras\n",
    "import numpy as np\n",
    "import matplotlib.pyplot as plt\n",
    "# 패션 MNIST 데이터셋 임포트\n",
    "fashion_mnist = keras.datasets.fashion_mnist\n",
    "# train_images와 train_labels 배열은 모델 학습에 사용되는 훈련 세트\n",
    "# test_images와 test_labels 배열은 모델 테스트에 사용되는 테스트 세트\n",
    "(train_images, train_labels), (test_images, test_labels) = fashion_mnist.load_data()\n"
   ]
  },
  {
   "cell_type": "markdown",
   "id": "20504456",
   "metadata": {},
   "source": [
    "- 이미지는 28x28 크기의 넘파이 배열이고 픽셀 값은 0과 255 사이다. 레이블(label)은 0에서 9까지의\n",
    "정수 배열이며 이미지에 있는 옷의 클래스(class)를 나타낸다.\n",
    "- 레이블:클래스는 다음과 같다.\n",
    " 0: T-shirt/top 1 : Trouser 2 : Pullover 3 : Dress 4 : Coat 5 : Sandal 6 : Shirt 7 : Sneaker 8 : Bag \n",
    " 9 : Ankle boot"
   ]
  },
  {
   "cell_type": "code",
   "execution_count": 38,
   "id": "737300f7",
   "metadata": {},
   "outputs": [
    {
     "name": "stdout",
     "output_type": "stream",
     "text": [
      "train_image.shape:(60000, 28, 28),train_labels:[9 0 0 ... 3 0 5],test_i_s:(10000, 28, 28),test_l_l:10000\n"
     ]
    }
   ],
   "source": [
    "class_names = ['T-shirt/top', 'Trouser', 'Pullover', 'Dress', 'Coat', 'Sandal', 'Shirt', 'Sneaker', 'Bag', 'Ankle boot']\n",
    "\n",
    "# 데이터셋 구조 : 훈련 세트에 60,000개의 이미지, 각 이미지는 28x28 픽셀로 표현\n",
    "# 각 레이블은 0과 9사이의 정수\n",
    "# 테스트 세트에는 10,000개의 이미지가 있으며 28x28 픽셀로 표현\n",
    "print(f\"train_image.shape:{train_images.shape},train_labels:{train_labels},test_:{test_images.shape},test_:{len(test_labels)}\")\n"
   ]
  },
  {
   "cell_type": "code",
   "execution_count": 39,
   "id": "ee3b239e",
   "metadata": {},
   "outputs": [
    {
     "data": {
      "image/png": "[encoded data removed]",
      "text/plain": [
       "<Figure size 432x288 with 2 Axes>"
      ]
     },
     "metadata": {
      "needs_background": "light"
     },
     "output_type": "display_data"
    }
   ],
   "source": [
    "### 데이터 전처리 : 훈련 세트에 있는 첫 번째 이미지를 보면 픽셀 값의 범위가 0~255 사이라는 것 확인\n",
    "plt.figure()\n",
    "plt.imshow(train_images[0])\n",
    "plt.colorbar()\n",
    "plt.grid(False)\n",
    "plt.show()"
   ]
  },
  {
   "cell_type": "code",
   "execution_count": 40,
   "id": "d2a71164",
   "metadata": {},
   "outputs": [],
   "source": [
    "# 신경망 모델에 주입하기 전에 이 값의 범위를 0~1 사이로 조정\n",
    "train_images = train_images / 255.0\n",
    "test_images = test_images / 255.0\n"
   ]
  },
  {
   "cell_type": "code",
   "execution_count": 41,
   "id": "d21673da",
   "metadata": {},
   "outputs": [
    {
     "data": {
      "image/png": "[encoded data removed]",
      "text/plain": [
       "<Figure size 720x720 with 25 Axes>"
      ]
     },
     "metadata": {},
     "output_type": "display_data"
    }
   ],
   "source": [
    "# 훈련 세트에서 처음 25개 이미지와 그 아래 클래스 이름을 출력\n",
    "plt.figure(figsize=(10,10))\n",
    "for i in range(25):\n",
    "    plt.subplot(5,5,i+1)\n",
    "    plt.xticks([])\n",
    "    plt.yticks([])\n",
    "    plt.grid(False)\n",
    "    plt.imshow(train_images[i], cmap=plt.cm.binary)\n",
    "    plt.xlabel(class_names[train_labels[i]])\n",
    "plt.show()"
   ]
  },
  {
   "cell_type": "code",
   "execution_count": 60,
   "id": "225e3139",
   "metadata": {},
   "outputs": [],
   "source": [
    "# 모델 구성\n",
    "from tensorflow.keras.layers import Flatten, Dense\n",
    "from tensorflow.keras import Sequential\n",
    "\n",
    "model = Sequential([Flatten(input_shape=(28, 28)),\n",
    "                    Dense(128, activation='relu'),\n",
    "                    Dense(10, activation='softmax')])\n",
    "# model = keras.Sequential([keras.layers.Flatten(input_shape=(28, 28)),\n",
    "#                           keras.layers.Dense(128, activation='relu'),\n",
    "#                           keras.layers.Dense(10, activation='softmax')])\n",
    "\n",
    "model.compile(optimizer='adam',\n",
    "              loss='sparse_categorical_crossentropy',\n",
    "              metrics=['accuracy'])\n"
   ]
  },
  {
   "cell_type": "code",
   "execution_count": 46,
   "id": "f485beb7",
   "metadata": {},
   "outputs": [
    {
     "name": "stdout",
     "output_type": "stream",
     "text": [
      "Epoch 1/5\n",
      "1875/1875 [==============================] - 1s 531us/step - loss: 0.2012 - accuracy: 0.9247\n",
      "Epoch 2/5\n",
      "1875/1875 [==============================] - 1s 527us/step - loss: 0.1942 - accuracy: 0.9274\n",
      "Epoch 3/5\n",
      "1875/1875 [==============================] - 1s 532us/step - loss: 0.1878 - accuracy: 0.9296\n",
      "Epoch 4/5\n",
      "1875/1875 [==============================] - 1s 525us/step - loss: 0.1845 - accuracy: 0.9310\n",
      "Epoch 5/5\n",
      "1875/1875 [==============================] - 1s 535us/step - loss: 0.1801 - accuracy: 0.9317\n"
     ]
    }
   ],
   "source": [
    "# 모델 훈련\n",
    "history = model.fit(train_images, train_labels, epochs=5)\n"
   ]
  },
  {
   "cell_type": "code",
   "execution_count": 47,
   "id": "c7428fa3",
   "metadata": {},
   "outputs": [
    {
     "data": {
      "image/png": "[encoded data removed]",
      "text/plain": [
       "<Figure size 432x288 with 1 Axes>"
      ]
     },
     "metadata": {
      "needs_background": "light"
     },
     "output_type": "display_data"
    }
   ],
   "source": [
    "# 손실과 정확도 그래프로 확인\n",
    "plt.plot(history.history[\"loss\"])\n",
    "plt.plot(history.history[\"accuracy\"])\n",
    "plt.legend([\"loss\", \"accuracy\"])\n",
    "plt.show()\n"
   ]
  },
  {
   "cell_type": "code",
   "execution_count": 48,
   "id": "e5546de4",
   "metadata": {},
   "outputs": [
    {
     "name": "stdout",
     "output_type": "stream",
     "text": [
      "313/313 - 0s - loss: 0.3494 - accuracy: 0.8896\n",
      "\n",
      "테스트 정확도: 0.8895999789237976\n"
     ]
    }
   ],
   "source": [
    "# 정확도 평가\n",
    "test_loss, test_acc = model.evaluate(test_images, test_labels, verbose=2)\n",
    "print(f'\\n테스트 정확도: {test_acc}')"
   ]
  },
  {
   "cell_type": "code",
   "execution_count": 49,
   "id": "91b6f1da",
   "metadata": {},
   "outputs": [],
   "source": [
    "# 예측 만들기\n",
    "predictions = model.predict(test_images)"
   ]
  },
  {
   "cell_type": "code",
   "execution_count": 50,
   "id": "f36ad614",
   "metadata": {},
   "outputs": [
    {
     "data": {
      "text/plain": [
       "array([3.0020768e-08, 2.8203441e-13, 1.1099962e-12, 1.8967536e-09,\n",
       "       4.4470023e-14, 1.2597511e-06, 6.9218548e-10, 3.8743133e-03,\n",
       "       8.6881515e-09, 9.9612445e-01], dtype=float32)"
      ]
     },
     "execution_count": 50,
     "metadata": {},
     "output_type": "execute_result"
    }
   ],
   "source": [
    "# 첫 번째 예측 확인\n",
    "# 이 값은 10개의 옷 품목에 상응하는 모델의 신뢰도(confidence)를 나타낸다.\n",
    "predictions[0]\n"
   ]
  },
  {
   "cell_type": "code",
   "execution_count": 51,
   "id": "325aeb68",
   "metadata": {},
   "outputs": [
    {
     "data": {
      "text/plain": [
       "9"
      ]
     },
     "execution_count": 51,
     "metadata": {},
     "output_type": "execute_result"
    }
   ],
   "source": [
    "# 가장 높은 신뢰도를 가진 레이블\n",
    "np.argmax(predictions[0])\n"
   ]
  },
  {
   "cell_type": "code",
   "execution_count": 52,
   "id": "4c21525d",
   "metadata": {},
   "outputs": [],
   "source": [
    "# 10개 클래스에 대핚 예측을 모두 그래프로 표현\n",
    "def plot_image(i, predictions_array, true_label, img):\n",
    "    predictions_array, true_label, img = predictions_array[i], true_label[i], img[i]\n",
    "    plt.grid(False)\n",
    "    plt.xticks([])\n",
    "    plt.yticks([])\n",
    "    plt.imshow(img, cmap=plt.cm.binary)\n",
    "    predicted_label = np.argmax(predictions_array)\n",
    "    if predicted_label == true_label:\n",
    "        color = 'blue'\n",
    "    else:\n",
    "        color = 'red'\n",
    "    #plt.xlabel(\"{} {:2.0f}% ({})\".format(class_names[predicted_label], 100*np.max(predictions_array), class_names[true_label]), color=color)\n",
    "    plt.xlabel(f\"{class_names[predicted_label]} {100*np.max(predictions_array):2.0f}% ({class_names[true_label]})\", color=color)\n",
    "    \n",
    "def plot_value_array(i, predictions_array, true_label):\n",
    "    predictions_array, true_label = predictions_array[i], true_label[i]\n",
    "    plt.grid(False)\n",
    "    plt.xticks([])\n",
    "    plt.yticks([])\n",
    "    thisplot = plt.bar(range(10), predictions_array, color=\"#777777\")\n",
    "    plt.ylim([0, 1])\n",
    "    predicted_label = np.argmax(predictions_array)\n",
    "    thisplot[predicted_label].set_color('red')\n",
    "    thisplot[true_label].set_color('blue')\n"
   ]
  },
  {
   "cell_type": "code",
   "execution_count": 53,
   "id": "e658ec1a",
   "metadata": {},
   "outputs": [
    {
     "data": {
      "image/png": "[encoded data removed]",
      "text/plain": [
       "<Figure size 432x216 with 2 Axes>"
      ]
     },
     "metadata": {},
     "output_type": "display_data"
    }
   ],
   "source": [
    "# 0번째 원소의 이미지, 예측, 신뢰도 점수 배열 확인\n",
    "i = 0\n",
    "plt.figure(figsize=(6,3))\n",
    "plt.subplot(1,2,1)\n",
    "plot_image(i, predictions, test_labels, test_images)\n",
    "plt.subplot(1,2,2)\n",
    "plot_value_array(i, predictions, test_labels)\n",
    "plt.show()\n"
   ]
  },
  {
   "cell_type": "code",
   "execution_count": 54,
   "id": "fa3e4cfe",
   "metadata": {},
   "outputs": [
    {
     "data": {
      "image/png": "[encoded data removed]",
      "text/plain": [
       "<Figure size 432x216 with 2 Axes>"
      ]
     },
     "metadata": {},
     "output_type": "display_data"
    }
   ],
   "source": [
    "# 12번째 원소의 이미지, 예측, 신뢰도 점수 배열 확인\n",
    "# 올바르게 예측된 레이블은 파란색이고 잘못 예측된 레이블은 빨강색\n",
    "i = 12\n",
    "plt.figure(figsize=(6,3))\n",
    "plt.subplot(1,2,1)\n",
    "plot_image(i, predictions, test_labels, test_images)\n",
    "plt.subplot(1,2,2)\n",
    "plot_value_array(i, predictions, test_labels)\n",
    "plt.show()\n"
   ]
  },
  {
   "cell_type": "code",
   "execution_count": 55,
   "id": "9dc25452",
   "metadata": {},
   "outputs": [
    {
     "data": {
      "image/png": "[encoded data removed]",
      "text/plain": [
       "<Figure size 864x720 with 30 Axes>"
      ]
     },
     "metadata": {},
     "output_type": "display_data"
    }
   ],
   "source": [
    "# 처음 X 개의 테스트 이미지와 예측 레이블, 진짜 레이블을 출력핚다.\n",
    "# 올바른 예측은 파랑색으로 잘못된 예측은 빨강색으로 나타낸다\n",
    "num_rows = 5\n",
    "num_cols = 3\n",
    "num_images = num_rows*num_cols\n",
    "plt.figure(figsize=(2*2*num_cols, 2*num_rows))\n",
    "for i in range(num_images):\n",
    "    plt.subplot(num_rows, 2*num_cols, 2*i+1)\n",
    "    plot_image(i, predictions, test_labels, test_images)\n",
    "    plt.subplot(num_rows, 2*num_cols, 2*i+2)\n",
    "    plot_value_array(i, predictions, test_labels)\n",
    "plt.show()"
   ]
  },
  {
   "cell_type": "code",
   "execution_count": 56,
   "id": "a922a669",
   "metadata": {},
   "outputs": [
    {
     "name": "stdout",
     "output_type": "stream",
     "text": [
      "(28, 28)\n",
      "(1, 28, 28)\n"
     ]
    }
   ],
   "source": [
    "# 테스트 세트에서 이미지 하나를 선택핚다\n",
    "img = test_images[0]\n",
    "print(img.shape)\n",
    "\n",
    "img = (np.expand_dims(img,0))\n",
    "print(img.shape)\n"
   ]
  },
  {
   "cell_type": "code",
   "execution_count": 57,
   "id": "200091c1",
   "metadata": {},
   "outputs": [
    {
     "name": "stdout",
     "output_type": "stream",
     "text": [
      "[[3.0020711e-08 2.8203386e-13 1.1099984e-12 1.8967465e-09 4.4469938e-14\n",
      "  1.2597536e-06 6.9218548e-10 3.8743152e-03 8.6881675e-09 9.9612445e-01]]\n"
     ]
    }
   ],
   "source": [
    "# 이 이미지의 예측 생성\n",
    "predictions_single = model.predict(img)\n",
    "print(predictions_single)"
   ]
  },
  {
   "cell_type": "code",
   "execution_count": 58,
   "id": "40a8d532",
   "metadata": {},
   "outputs": [
    {
     "data": {
      "image/png": "[encoded data removed]",
      "text/plain": [
       "<Figure size 432x288 with 1 Axes>"
      ]
     },
     "metadata": {
      "needs_background": "light"
     },
     "output_type": "display_data"
    }
   ],
   "source": [
    "plot_value_array(0, predictions_single, test_labels)\n",
    "_ = plt.xticks(range(10), class_names, rotation=45)"
   ]
  },
  {
   "cell_type": "code",
   "execution_count": 59,
   "id": "e9976b5a",
   "metadata": {},
   "outputs": [
    {
     "data": {
      "text/plain": [
       "9"
      ]
     },
     "execution_count": 59,
     "metadata": {},
     "output_type": "execute_result"
    }
   ],
   "source": [
    "# model.predict는 2차원 넘파이 배열을 반홖하므로 첫 번째 이미지의 예측 선택\n",
    "np.argmax(predictions_single[0])"
   ]
  },
  {
   "cell_type": "code",
   "execution_count": null,
   "id": "deffa79c",
   "metadata": {},
   "outputs": [],
   "source": []
  }
 ],
 "metadata": {
  "kernelspec": {
   "display_name": "Python 3 (ipykernel)",
   "language": "python",
   "name": "python3"
  },
  "language_info": {
   "codemirror_mode": {
    "name": "ipython",
    "version": 3
   },
   "file_extension": ".py",
   "mimetype": "text/x-python",
   "name": "python",
   "nbconvert_exporter": "python",
   "pygments_lexer": "ipython3",
   "version": "3.7.9"
  }
 },
 "nbformat": 4,
 "nbformat_minor": 5
}
