{
 "cells": [
  {
   "cell_type": "markdown",
   "id": "a9897ce2",
   "metadata": {},
   "source": [
    "# 처리 순서\n",
    "1. 데이터를 읽어온다\n",
    "2. 데이터 분석, NaN체크, 필요없는 feature 삭제\n",
    "3. 데이터 분리, model_selection. train_test_split\n",
    "4. 정규화 preprocessing. MinMaxScaler, StandardScaler, RobustScaler\n",
    "5. 학습 linear_model. LinearRegression, Ridge, Lasso, ElasticNet. fit()\n",
    "6. 결과 검증 model.coef_, intercept_\n",
    "7. 결정계수 matrics r2_score\n",
    "8. 예측 predict()"
   ]
  },
  {
   "cell_type": "code",
   "execution_count": 1,
   "id": "f0ea3285",
   "metadata": {
    "scrolled": true
   },
   "outputs": [],
   "source": [
    "import matplotlib.pyplot as plt\n",
    "import seaborn as sns\n",
    "import pandas as pd\n",
    "import numpy as np\n",
    "\n",
    "# 다른 종목 sse: 삼성전자 lge:LG 전자\n",
    "data = pd.read_csv('sse.csv') #, encoding='cp949') # cp949 가 더 최신\n",
    "#data = s_data.tail(500)"
   ]
  },
  {
   "cell_type": "code",
   "execution_count": 2,
   "id": "ec0a04cb",
   "metadata": {},
   "outputs": [],
   "source": [
    "data.drop('Adj Close', axis=1, inplace=True) "
   ]
  },
  {
   "cell_type": "code",
   "execution_count": 3,
   "id": "27b5eef6",
   "metadata": {},
   "outputs": [
    {
     "name": "stdout",
     "output_type": "stream",
     "text": [
      "<class 'pandas.core.frame.DataFrame'>\n",
      "Int64Index: 5538 entries, 0 to 5537\n",
      "Data columns (total 6 columns):\n",
      " #   Column  Non-Null Count  Dtype  \n",
      "---  ------  --------------  -----  \n",
      " 0   Date    5538 non-null   object \n",
      " 1   Open    5538 non-null   float64\n",
      " 2   High    5538 non-null   float64\n",
      " 3   Low     5538 non-null   float64\n",
      " 4   Close   5538 non-null   float64\n",
      " 5   Volume  5538 non-null   int64  \n",
      "dtypes: float64(4), int64(1), object(1)\n",
      "memory usage: 302.9+ KB\n"
     ]
    }
   ],
   "source": [
    "data = data.dropna()\n",
    "data.info()"
   ]
  },
  {
   "cell_type": "code",
   "execution_count": 4,
   "id": "ee983169",
   "metadata": {},
   "outputs": [
    {
     "data": {
      "text/html": [
       "<div>\n",
       "<style scoped>\n",
       "    .dataframe tbody tr th:only-of-type {\n",
       "        vertical-align: middle;\n",
       "    }\n",
       "\n",
       "    .dataframe tbody tr th {\n",
       "        vertical-align: top;\n",
       "    }\n",
       "\n",
       "    .dataframe thead th {\n",
       "        text-align: right;\n",
       "    }\n",
       "</style>\n",
       "<table border=\"1\" class=\"dataframe\">\n",
       "  <thead>\n",
       "    <tr style=\"text-align: right;\">\n",
       "      <th></th>\n",
       "      <th>Date</th>\n",
       "      <th>Open</th>\n",
       "      <th>High</th>\n",
       "      <th>Low</th>\n",
       "      <th>Close</th>\n",
       "      <th>Volume</th>\n",
       "    </tr>\n",
       "  </thead>\n",
       "  <tbody>\n",
       "    <tr>\n",
       "      <th>0</th>\n",
       "      <td>2000-01-04</td>\n",
       "      <td>6000.0</td>\n",
       "      <td>6110.0</td>\n",
       "      <td>5660.0</td>\n",
       "      <td>6110.0</td>\n",
       "      <td>74195000</td>\n",
       "    </tr>\n",
       "    <tr>\n",
       "      <th>1</th>\n",
       "      <td>2000-01-05</td>\n",
       "      <td>5800.0</td>\n",
       "      <td>6060.0</td>\n",
       "      <td>5520.0</td>\n",
       "      <td>5580.0</td>\n",
       "      <td>74680000</td>\n",
       "    </tr>\n",
       "    <tr>\n",
       "      <th>2</th>\n",
       "      <td>2000-01-06</td>\n",
       "      <td>5750.0</td>\n",
       "      <td>5780.0</td>\n",
       "      <td>5580.0</td>\n",
       "      <td>5620.0</td>\n",
       "      <td>54390000</td>\n",
       "    </tr>\n",
       "    <tr>\n",
       "      <th>3</th>\n",
       "      <td>2000-01-07</td>\n",
       "      <td>5560.0</td>\n",
       "      <td>5670.0</td>\n",
       "      <td>5360.0</td>\n",
       "      <td>5540.0</td>\n",
       "      <td>40305000</td>\n",
       "    </tr>\n",
       "    <tr>\n",
       "      <th>4</th>\n",
       "      <td>2000-01-10</td>\n",
       "      <td>5600.0</td>\n",
       "      <td>5770.0</td>\n",
       "      <td>5580.0</td>\n",
       "      <td>5770.0</td>\n",
       "      <td>46880000</td>\n",
       "    </tr>\n",
       "  </tbody>\n",
       "</table>\n",
       "</div>"
      ],
      "text/plain": [
       "         Date    Open    High     Low   Close    Volume\n",
       "0  2000-01-04  6000.0  6110.0  5660.0  6110.0  74195000\n",
       "1  2000-01-05  5800.0  6060.0  5520.0  5580.0  74680000\n",
       "2  2000-01-06  5750.0  5780.0  5580.0  5620.0  54390000\n",
       "3  2000-01-07  5560.0  5670.0  5360.0  5540.0  40305000\n",
       "4  2000-01-10  5600.0  5770.0  5580.0  5770.0  46880000"
      ]
     },
     "execution_count": 4,
     "metadata": {},
     "output_type": "execute_result"
    }
   ],
   "source": [
    "data.head()"
   ]
  },
  {
   "cell_type": "code",
   "execution_count": 5,
   "id": "cdee6f8c",
   "metadata": {
    "scrolled": true
   },
   "outputs": [],
   "source": [
    "X_data = data[:-1][:]\n",
    "y_data = pd.DataFrame(data['Close'][1:])"
   ]
  },
  {
   "cell_type": "code",
   "execution_count": 6,
   "id": "f4961114",
   "metadata": {},
   "outputs": [
    {
     "name": "stdout",
     "output_type": "stream",
     "text": [
      "(5537, 6)\n"
     ]
    },
    {
     "data": {
      "text/html": [
       "<div>\n",
       "<style scoped>\n",
       "    .dataframe tbody tr th:only-of-type {\n",
       "        vertical-align: middle;\n",
       "    }\n",
       "\n",
       "    .dataframe tbody tr th {\n",
       "        vertical-align: top;\n",
       "    }\n",
       "\n",
       "    .dataframe thead th {\n",
       "        text-align: right;\n",
       "    }\n",
       "</style>\n",
       "<table border=\"1\" class=\"dataframe\">\n",
       "  <thead>\n",
       "    <tr style=\"text-align: right;\">\n",
       "      <th></th>\n",
       "      <th>Date</th>\n",
       "      <th>Open</th>\n",
       "      <th>High</th>\n",
       "      <th>Low</th>\n",
       "      <th>Close</th>\n",
       "      <th>Volume</th>\n",
       "    </tr>\n",
       "  </thead>\n",
       "  <tbody>\n",
       "    <tr>\n",
       "      <th>0</th>\n",
       "      <td>2000-01-04</td>\n",
       "      <td>6000.0</td>\n",
       "      <td>6110.0</td>\n",
       "      <td>5660.0</td>\n",
       "      <td>6110.0</td>\n",
       "      <td>74195000</td>\n",
       "    </tr>\n",
       "    <tr>\n",
       "      <th>1</th>\n",
       "      <td>2000-01-05</td>\n",
       "      <td>5800.0</td>\n",
       "      <td>6060.0</td>\n",
       "      <td>5520.0</td>\n",
       "      <td>5580.0</td>\n",
       "      <td>74680000</td>\n",
       "    </tr>\n",
       "    <tr>\n",
       "      <th>2</th>\n",
       "      <td>2000-01-06</td>\n",
       "      <td>5750.0</td>\n",
       "      <td>5780.0</td>\n",
       "      <td>5580.0</td>\n",
       "      <td>5620.0</td>\n",
       "      <td>54390000</td>\n",
       "    </tr>\n",
       "    <tr>\n",
       "      <th>3</th>\n",
       "      <td>2000-01-07</td>\n",
       "      <td>5560.0</td>\n",
       "      <td>5670.0</td>\n",
       "      <td>5360.0</td>\n",
       "      <td>5540.0</td>\n",
       "      <td>40305000</td>\n",
       "    </tr>\n",
       "    <tr>\n",
       "      <th>4</th>\n",
       "      <td>2000-01-10</td>\n",
       "      <td>5600.0</td>\n",
       "      <td>5770.0</td>\n",
       "      <td>5580.0</td>\n",
       "      <td>5770.0</td>\n",
       "      <td>46880000</td>\n",
       "    </tr>\n",
       "    <tr>\n",
       "      <th>...</th>\n",
       "      <td>...</td>\n",
       "      <td>...</td>\n",
       "      <td>...</td>\n",
       "      <td>...</td>\n",
       "      <td>...</td>\n",
       "      <td>...</td>\n",
       "    </tr>\n",
       "    <tr>\n",
       "      <th>5532</th>\n",
       "      <td>2022-01-10</td>\n",
       "      <td>78100.0</td>\n",
       "      <td>78100.0</td>\n",
       "      <td>77100.0</td>\n",
       "      <td>78000.0</td>\n",
       "      <td>9947422</td>\n",
       "    </tr>\n",
       "    <tr>\n",
       "      <th>5533</th>\n",
       "      <td>2022-01-11</td>\n",
       "      <td>78400.0</td>\n",
       "      <td>79000.0</td>\n",
       "      <td>78000.0</td>\n",
       "      <td>78900.0</td>\n",
       "      <td>13221123</td>\n",
       "    </tr>\n",
       "    <tr>\n",
       "      <th>5534</th>\n",
       "      <td>2022-01-12</td>\n",
       "      <td>79500.0</td>\n",
       "      <td>79600.0</td>\n",
       "      <td>78600.0</td>\n",
       "      <td>78900.0</td>\n",
       "      <td>11000502</td>\n",
       "    </tr>\n",
       "    <tr>\n",
       "      <th>5535</th>\n",
       "      <td>2022-01-13</td>\n",
       "      <td>79300.0</td>\n",
       "      <td>79300.0</td>\n",
       "      <td>77900.0</td>\n",
       "      <td>77900.0</td>\n",
       "      <td>13889401</td>\n",
       "    </tr>\n",
       "    <tr>\n",
       "      <th>5536</th>\n",
       "      <td>2022-01-14</td>\n",
       "      <td>77700.0</td>\n",
       "      <td>78100.0</td>\n",
       "      <td>77100.0</td>\n",
       "      <td>77300.0</td>\n",
       "      <td>10096725</td>\n",
       "    </tr>\n",
       "  </tbody>\n",
       "</table>\n",
       "<p>5537 rows × 6 columns</p>\n",
       "</div>"
      ],
      "text/plain": [
       "            Date     Open     High      Low    Close    Volume\n",
       "0     2000-01-04   6000.0   6110.0   5660.0   6110.0  74195000\n",
       "1     2000-01-05   5800.0   6060.0   5520.0   5580.0  74680000\n",
       "2     2000-01-06   5750.0   5780.0   5580.0   5620.0  54390000\n",
       "3     2000-01-07   5560.0   5670.0   5360.0   5540.0  40305000\n",
       "4     2000-01-10   5600.0   5770.0   5580.0   5770.0  46880000\n",
       "...          ...      ...      ...      ...      ...       ...\n",
       "5532  2022-01-10  78100.0  78100.0  77100.0  78000.0   9947422\n",
       "5533  2022-01-11  78400.0  79000.0  78000.0  78900.0  13221123\n",
       "5534  2022-01-12  79500.0  79600.0  78600.0  78900.0  11000502\n",
       "5535  2022-01-13  79300.0  79300.0  77900.0  77900.0  13889401\n",
       "5536  2022-01-14  77700.0  78100.0  77100.0  77300.0  10096725\n",
       "\n",
       "[5537 rows x 6 columns]"
      ]
     },
     "execution_count": 6,
     "metadata": {},
     "output_type": "execute_result"
    }
   ],
   "source": [
    "print(X_data.shape)\n",
    "X_data"
   ]
  },
  {
   "cell_type": "code",
   "execution_count": 7,
   "id": "e1a9ead3",
   "metadata": {},
   "outputs": [
    {
     "name": "stdout",
     "output_type": "stream",
     "text": [
      "(5537, 1)\n"
     ]
    },
    {
     "data": {
      "text/html": [
       "<div>\n",
       "<style scoped>\n",
       "    .dataframe tbody tr th:only-of-type {\n",
       "        vertical-align: middle;\n",
       "    }\n",
       "\n",
       "    .dataframe tbody tr th {\n",
       "        vertical-align: top;\n",
       "    }\n",
       "\n",
       "    .dataframe thead th {\n",
       "        text-align: right;\n",
       "    }\n",
       "</style>\n",
       "<table border=\"1\" class=\"dataframe\">\n",
       "  <thead>\n",
       "    <tr style=\"text-align: right;\">\n",
       "      <th></th>\n",
       "      <th>Close</th>\n",
       "    </tr>\n",
       "  </thead>\n",
       "  <tbody>\n",
       "    <tr>\n",
       "      <th>0</th>\n",
       "      <td>5580.0</td>\n",
       "    </tr>\n",
       "    <tr>\n",
       "      <th>1</th>\n",
       "      <td>5620.0</td>\n",
       "    </tr>\n",
       "    <tr>\n",
       "      <th>2</th>\n",
       "      <td>5540.0</td>\n",
       "    </tr>\n",
       "    <tr>\n",
       "      <th>3</th>\n",
       "      <td>5770.0</td>\n",
       "    </tr>\n",
       "    <tr>\n",
       "      <th>4</th>\n",
       "      <td>5770.0</td>\n",
       "    </tr>\n",
       "    <tr>\n",
       "      <th>...</th>\n",
       "      <td>...</td>\n",
       "    </tr>\n",
       "    <tr>\n",
       "      <th>5532</th>\n",
       "      <td>78900.0</td>\n",
       "    </tr>\n",
       "    <tr>\n",
       "      <th>5533</th>\n",
       "      <td>78900.0</td>\n",
       "    </tr>\n",
       "    <tr>\n",
       "      <th>5534</th>\n",
       "      <td>77900.0</td>\n",
       "    </tr>\n",
       "    <tr>\n",
       "      <th>5535</th>\n",
       "      <td>77300.0</td>\n",
       "    </tr>\n",
       "    <tr>\n",
       "      <th>5536</th>\n",
       "      <td>77500.0</td>\n",
       "    </tr>\n",
       "  </tbody>\n",
       "</table>\n",
       "<p>5537 rows × 1 columns</p>\n",
       "</div>"
      ],
      "text/plain": [
       "        Close\n",
       "0      5580.0\n",
       "1      5620.0\n",
       "2      5540.0\n",
       "3      5770.0\n",
       "4      5770.0\n",
       "...       ...\n",
       "5532  78900.0\n",
       "5533  78900.0\n",
       "5534  77900.0\n",
       "5535  77300.0\n",
       "5536  77500.0\n",
       "\n",
       "[5537 rows x 1 columns]"
      ]
     },
     "execution_count": 7,
     "metadata": {},
     "output_type": "execute_result"
    }
   ],
   "source": [
    "print(y_data.shape)\n",
    "y_data.index = y_data.index-1 # index 조정\n",
    "y_data"
   ]
  },
  {
   "cell_type": "markdown",
   "id": "605d12d7",
   "metadata": {},
   "source": [
    "#plt.figure(figsize=(16, 9))\n",
    "#sns.lineplot(x=X_data.Date, y=X_data['Close'])\n",
    "#plt.xlabel('time')\n",
    "#plt.ylabel('price')\n",
    "#plt.xticks([2000, 2005, 2010, 2015, 2020])\n",
    "#plt.tick_params(axis='x', length=6, width=2, colors='r', grid_color='r', grid_alpha=0.5)\n",
    "#plt.show()\n"
   ]
  },
  {
   "cell_type": "code",
   "execution_count": 8,
   "id": "354e5492",
   "metadata": {},
   "outputs": [],
   "source": [
    "# Train, Test 데이터 분리\n",
    "from sklearn.model_selection import train_test_split\n",
    "\n",
    "# shuffle=True가 default\n",
    "X_train, X_test, y_train, y_test = train_test_split(X_data, y_data, random_state=0, test_size=0.2, shuffle=False)"
   ]
  },
  {
   "cell_type": "markdown",
   "id": "1286c242",
   "metadata": {},
   "source": [
    "# 정규화 "
   ]
  },
  {
   "cell_type": "code",
   "execution_count": 9,
   "id": "3d5b8e6d",
   "metadata": {},
   "outputs": [
    {
     "name": "stdout",
     "output_type": "stream",
     "text": [
      "StandardScaler()\n"
     ]
    }
   ],
   "source": [
    "# 하기전에 정규화 선택 0: 안한다, 1: MinMax, 2: StandardScaler 3: RobustScale\n",
    "from sklearn.preprocessing import MinMaxScaler, StandardScaler, RobustScaler\n",
    "\n",
    "scaler = StandardScaler()\n",
    "#scaler = MinMaxScaler()\n",
    "#scaler = RobustScaler()\n",
    "\n",
    "# X_train 의 값을 기준으로 x_test 값도 조정 ?? 맞나??\n",
    "fit_cols = ['Open', 'High', 'Low', 'Close', 'Volume']\n",
    "\n",
    "print(scaler.fit(X_train[fit_cols]))\n",
    "X_train_scaled = scaler.transform(X_train[fit_cols])\n",
    "X_test_scaled = scaler.transform(X_test[fit_cols])\n"
   ]
  },
  {
   "cell_type": "code",
   "execution_count": 10,
   "id": "72c1aba5",
   "metadata": {
    "scrolled": true
   },
   "outputs": [
    {
     "data": {
      "text/plain": [
       "(array([[-1.06094515, -1.05914657, -1.08657854, -1.04868813,  3.09119449],\n",
       "        [-1.08222056, -1.06442221, -1.1015802 , -1.10501655,  3.12077178],\n",
       "        [-1.08753941, -1.09396582, -1.09515092, -1.10076535,  1.88340403],\n",
       "        ...,\n",
       "        [ 3.40689062,  3.37134021,  3.42034766,  3.4097596 , -0.76738959],\n",
       "        [ 3.37923259,  3.37345046,  3.40963219,  3.38850359, -0.93760541],\n",
       "        [ 3.46007914,  3.45575053,  3.48464047,  3.47352762, -0.77533582]]),\n",
       " array([[ 3.47497193,  3.46630182,  3.48035428,  3.50966284, -0.8408907 ],\n",
       "        [ 3.51326767,  3.57181472,  3.54036091,  3.60318928, -0.85501767],\n",
       "        [ 3.62815487,  3.67099685,  3.66894654,  3.6754597 , -0.45569366],\n",
       "        ...,\n",
       "        [ 6.75776745,  6.69499663,  6.72928444,  6.68743607, -0.76266625],\n",
       "        [ 6.73649205,  6.66334276,  6.65427616,  6.58115603, -0.58648929],\n",
       "        [ 6.56628878,  6.53672728,  6.56855241,  6.51738801, -0.81778229]]))"
      ]
     },
     "execution_count": 10,
     "metadata": {},
     "output_type": "execute_result"
    }
   ],
   "source": [
    "X_train_scaled, X_test_scaled"
   ]
  },
  {
   "cell_type": "markdown",
   "id": "3ed02251",
   "metadata": {},
   "source": [
    "# LinearRegression"
   ]
  },
  {
   "cell_type": "code",
   "execution_count": 11,
   "id": "cd68f154",
   "metadata": {},
   "outputs": [],
   "source": [
    "from sklearn.linear_model import LinearRegression"
   ]
  },
  {
   "cell_type": "code",
   "execution_count": 12,
   "id": "a92fba0b",
   "metadata": {
    "scrolled": true
   },
   "outputs": [
    {
     "name": "stdout",
     "output_type": "stream",
     "text": [
      "model.coef_ 가중치(w): [[-2.56467578e+03  2.76688673e+03  2.30382246e+03  6.90809499e+03\n",
      "  -2.13007597e+00]] \n",
      " model.intercept_ 상수항(b): [15986.89997742]\n",
      "model.score(X_train_scaled, y_train) : 0.998831369810105\n",
      "\n",
      "r2: [0.98165645 0.98955658 0.9829028  0.99414775 0.99458312], \n",
      "r2.mean(): 0.9885693407032417\n",
      "0.99523372514538\n"
     ]
    }
   ],
   "source": [
    "# 정규화 후\n",
    "fit_cols = ['Open', 'High', 'Low', 'Close', 'Volume']\n",
    "model = LinearRegression().fit(X_train_scaled, y_train)\n",
    "\n",
    "# model train 결과, w, b 출력,\n",
    "print(f\"model.coef_ 가중치(w): {model.coef_} \\n model.intercept_ 상수항(b): {model.intercept_}\")\n",
    "print(f\"model.score(X_train_scaled, y_train) : {model.score(X_train_scaled, y_train)}\")\n",
    "\n",
    "# KFold 한 결과\n",
    "from sklearn.model_selection import cross_val_score\n",
    "\n",
    "r2 = cross_val_score(model, X_train_scaled, y_train, cv=5)\n",
    "print(f\"\\nr2: {r2}, \\nr2.mean(): {r2.mean()}\")\n",
    "\n",
    "# 예측.\n",
    "y_pred = model.predict(X_test_scaled)\n",
    "#print(y_pred)\n",
    "\n",
    "# 결정 계수 구하기.\n",
    "from sklearn.metrics import r2_score\n",
    "\n",
    "print(r2_score(y_test, y_pred))\n"
   ]
  },
  {
   "cell_type": "code",
   "execution_count": 13,
   "id": "4384d9c9",
   "metadata": {
    "scrolled": true
   },
   "outputs": [
    {
     "name": "stdout",
     "output_type": "stream",
     "text": [
      "model.coef_ 가중치(w): [[-2.72822624e-01  2.91942249e-01  2.46865378e-01  7.34192621e-01\n",
      "  -1.29900804e-07]] \n",
      " model.intercept_ 상수항(b): [2.66761447]\n",
      "model.score(X_train, y_train) : 0.998831369810105\n",
      "\n",
      "r2: [0.98165645 0.98955658 0.9829028  0.99414775 0.99458312], \n",
      "r2.mean(): 0.9885693407032505\n",
      "0.9952337251453829\n"
     ]
    }
   ],
   "source": [
    "# 정규화 없이\n",
    "fit_cols = ['Open', 'High', 'Low', 'Close', 'Volume']\n",
    "model = LinearRegression().fit(X_train[fit_cols], y_train)\n",
    "\n",
    "# model train 결과, w, b 출력,\n",
    "print(f\"model.coef_ 가중치(w): {model.coef_} \\n model.intercept_ 상수항(b): {model.intercept_}\")\n",
    "print(f\"model.score(X_train, y_train) : {model.score(X_train[fit_cols], y_train)}\")\n",
    "\n",
    "# KFold 한 결과\n",
    "from sklearn.model_selection import cross_val_score\n",
    "\n",
    "r2 = cross_val_score(model, X_train[fit_cols], y_train, cv=5)\n",
    "print(f\"\\nr2: {r2}, \\nr2.mean(): {r2.mean()}\")\n",
    "\n",
    "# 예측.\n",
    "y_pred = model.predict(X_test[fit_cols])\n",
    "#print(f\"y_pred: {y_pred}, {y_pred.shape}\")\n",
    "\n",
    "# 결정 계수 구하기.\n",
    "from sklearn.metrics import r2_score\n",
    "\n",
    "print(r2_score(y_test, y_pred))\n"
   ]
  },
  {
   "cell_type": "code",
   "execution_count": 14,
   "id": "f03c92ae",
   "metadata": {},
   "outputs": [],
   "source": [
    "test_conf = X_test\n",
    "#test_conf.drop('Volume', axis=1, inplace=True)\n",
    "test_conf['nClose'] = y_pred"
   ]
  },
  {
   "cell_type": "code",
   "execution_count": 15,
   "id": "0d85a4a9",
   "metadata": {},
   "outputs": [
    {
     "data": {
      "text/html": [
       "<div>\n",
       "<style scoped>\n",
       "    .dataframe tbody tr th:only-of-type {\n",
       "        vertical-align: middle;\n",
       "    }\n",
       "\n",
       "    .dataframe tbody tr th {\n",
       "        vertical-align: top;\n",
       "    }\n",
       "\n",
       "    .dataframe thead th {\n",
       "        text-align: right;\n",
       "    }\n",
       "</style>\n",
       "<table border=\"1\" class=\"dataframe\">\n",
       "  <thead>\n",
       "    <tr style=\"text-align: right;\">\n",
       "      <th></th>\n",
       "      <th>Date</th>\n",
       "      <th>Open</th>\n",
       "      <th>High</th>\n",
       "      <th>Low</th>\n",
       "      <th>Close</th>\n",
       "      <th>Volume</th>\n",
       "      <th>nClose</th>\n",
       "    </tr>\n",
       "  </thead>\n",
       "  <tbody>\n",
       "    <tr>\n",
       "      <th>4429</th>\n",
       "      <td>2017-07-11</td>\n",
       "      <td>48640.0</td>\n",
       "      <td>49000.0</td>\n",
       "      <td>48280.0</td>\n",
       "      <td>49000.0</td>\n",
       "      <td>9717800</td>\n",
       "      <td>48930.581909</td>\n",
       "    </tr>\n",
       "    <tr>\n",
       "      <th>4430</th>\n",
       "      <td>2017-07-12</td>\n",
       "      <td>49000.0</td>\n",
       "      <td>50000.0</td>\n",
       "      <td>48840.0</td>\n",
       "      <td>49880.0</td>\n",
       "      <td>9486150</td>\n",
       "      <td>49908.672223</td>\n",
       "    </tr>\n",
       "    <tr>\n",
       "      <th>4431</th>\n",
       "      <td>2017-07-13</td>\n",
       "      <td>50080.0</td>\n",
       "      <td>50940.0</td>\n",
       "      <td>50040.0</td>\n",
       "      <td>50560.0</td>\n",
       "      <td>16034150</td>\n",
       "      <td>50683.088349</td>\n",
       "    </tr>\n",
       "    <tr>\n",
       "      <th>4432</th>\n",
       "      <td>2017-07-14</td>\n",
       "      <td>51000.0</td>\n",
       "      <td>51080.0</td>\n",
       "      <td>50420.0</td>\n",
       "      <td>50480.0</td>\n",
       "      <td>8239000</td>\n",
       "      <td>50509.049480</td>\n",
       "    </tr>\n",
       "    <tr>\n",
       "      <th>4433</th>\n",
       "      <td>2017-07-17</td>\n",
       "      <td>50900.0</td>\n",
       "      <td>51020.0</td>\n",
       "      <td>50520.0</td>\n",
       "      <td>50640.0</td>\n",
       "      <td>8976100</td>\n",
       "      <td>50660.876814</td>\n",
       "    </tr>\n",
       "    <tr>\n",
       "      <th>...</th>\n",
       "      <td>...</td>\n",
       "      <td>...</td>\n",
       "      <td>...</td>\n",
       "      <td>...</td>\n",
       "      <td>...</td>\n",
       "      <td>...</td>\n",
       "      <td>...</td>\n",
       "    </tr>\n",
       "    <tr>\n",
       "      <th>5532</th>\n",
       "      <td>2022-01-10</td>\n",
       "      <td>78100.0</td>\n",
       "      <td>78100.0</td>\n",
       "      <td>77100.0</td>\n",
       "      <td>78000.0</td>\n",
       "      <td>9947422</td>\n",
       "      <td>77794.963225</td>\n",
       "    </tr>\n",
       "    <tr>\n",
       "      <th>5533</th>\n",
       "      <td>2022-01-11</td>\n",
       "      <td>78400.0</td>\n",
       "      <td>79000.0</td>\n",
       "      <td>78000.0</td>\n",
       "      <td>78900.0</td>\n",
       "      <td>13221123</td>\n",
       "      <td>78858.391404</td>\n",
       "    </tr>\n",
       "    <tr>\n",
       "      <th>5534</th>\n",
       "      <td>2022-01-12</td>\n",
       "      <td>79500.0</td>\n",
       "      <td>79600.0</td>\n",
       "      <td>78600.0</td>\n",
       "      <td>78900.0</td>\n",
       "      <td>11000502</td>\n",
       "      <td>78881.859555</td>\n",
       "    </tr>\n",
       "    <tr>\n",
       "      <th>5535</th>\n",
       "      <td>2022-01-13</td>\n",
       "      <td>79300.0</td>\n",
       "      <td>79300.0</td>\n",
       "      <td>77900.0</td>\n",
       "      <td>77900.0</td>\n",
       "      <td>13889401</td>\n",
       "      <td>77941.467749</td>\n",
       "    </tr>\n",
       "    <tr>\n",
       "      <th>5536</th>\n",
       "      <td>2022-01-14</td>\n",
       "      <td>77700.0</td>\n",
       "      <td>78100.0</td>\n",
       "      <td>77100.0</td>\n",
       "      <td>77300.0</td>\n",
       "      <td>10096725</td>\n",
       "      <td>77390.138045</td>\n",
       "    </tr>\n",
       "  </tbody>\n",
       "</table>\n",
       "<p>1108 rows × 7 columns</p>\n",
       "</div>"
      ],
      "text/plain": [
       "            Date     Open     High      Low    Close    Volume        nClose\n",
       "4429  2017-07-11  48640.0  49000.0  48280.0  49000.0   9717800  48930.581909\n",
       "4430  2017-07-12  49000.0  50000.0  48840.0  49880.0   9486150  49908.672223\n",
       "4431  2017-07-13  50080.0  50940.0  50040.0  50560.0  16034150  50683.088349\n",
       "4432  2017-07-14  51000.0  51080.0  50420.0  50480.0   8239000  50509.049480\n",
       "4433  2017-07-17  50900.0  51020.0  50520.0  50640.0   8976100  50660.876814\n",
       "...          ...      ...      ...      ...      ...       ...           ...\n",
       "5532  2022-01-10  78100.0  78100.0  77100.0  78000.0   9947422  77794.963225\n",
       "5533  2022-01-11  78400.0  79000.0  78000.0  78900.0  13221123  78858.391404\n",
       "5534  2022-01-12  79500.0  79600.0  78600.0  78900.0  11000502  78881.859555\n",
       "5535  2022-01-13  79300.0  79300.0  77900.0  77900.0  13889401  77941.467749\n",
       "5536  2022-01-14  77700.0  78100.0  77100.0  77300.0  10096725  77390.138045\n",
       "\n",
       "[1108 rows x 7 columns]"
      ]
     },
     "execution_count": 15,
     "metadata": {},
     "output_type": "execute_result"
    }
   ],
   "source": [
    "test_conf"
   ]
  },
  {
   "cell_type": "code",
   "execution_count": 16,
   "id": "4f34e5be",
   "metadata": {},
   "outputs": [
    {
     "data": {
      "image/png": "[encoded data removed]",
      "text/plain": [
       "<Figure size 720x360 with 1 Axes>"
      ]
     },
     "metadata": {
      "needs_background": "light"
     },
     "output_type": "display_data"
    }
   ],
   "source": [
    "plt.figure(figsize=(10, 5))\n",
    "#sns.lineplot(x=test_conf.Date, y=[test_conf['Close'], test_conf['nClose']])\n",
    "#sns.lineplot(x='Date', y='Close', data=test_conf[-10:])\n",
    "#sns.lineplot(x='Date', y='nClose', data=test_conf[-10:], alpha=0.6)\n",
    "\n",
    "plt.plot(test_conf.Date[-50:], test_conf.Close[-50:], label='close')\n",
    "plt.plot(test_conf.Date[-50:], test_conf.nClose[-50:], label='nClose')\n",
    "plt.xlabel('time')\n",
    "plt.ylabel('price')\n",
    "plt.legend() #loc='best', ncol=2)\n",
    "plt.show()\n"
   ]
  },
  {
   "cell_type": "markdown",
   "id": "fef791d0",
   "metadata": {},
   "source": [
    "# VIF 확인"
   ]
  },
  {
   "cell_type": "code",
   "execution_count": 17,
   "id": "5bb67760",
   "metadata": {},
   "outputs": [
    {
     "data": {
      "text/html": [
       "<table class=\"simpletable\">\n",
       "<caption>OLS Regression Results</caption>\n",
       "<tr>\n",
       "  <th>Dep. Variable:</th>         <td>nClose</td>      <th>  R-squared:         </th>  <td>   1.000</td> \n",
       "</tr>\n",
       "<tr>\n",
       "  <th>Model:</th>                   <td>OLS</td>       <th>  Adj. R-squared:    </th>  <td>   1.000</td> \n",
       "</tr>\n",
       "<tr>\n",
       "  <th>Method:</th>             <td>Least Squares</td>  <th>  F-statistic:       </th>  <td>6.044e+28</td>\n",
       "</tr>\n",
       "<tr>\n",
       "  <th>Date:</th>             <td>Wed, 19 Jan 2022</td> <th>  Prob (F-statistic):</th>   <td>  0.00</td>  \n",
       "</tr>\n",
       "<tr>\n",
       "  <th>Time:</th>                 <td>16:34:45</td>     <th>  Log-Likelihood:    </th>  <td>  21600.</td> \n",
       "</tr>\n",
       "<tr>\n",
       "  <th>No. Observations:</th>      <td>  1108</td>      <th>  AIC:               </th> <td>-4.319e+04</td>\n",
       "</tr>\n",
       "<tr>\n",
       "  <th>Df Residuals:</th>          <td>  1102</td>      <th>  BIC:               </th> <td>-4.316e+04</td>\n",
       "</tr>\n",
       "<tr>\n",
       "  <th>Df Model:</th>              <td>     5</td>      <th>                     </th>      <td> </td>    \n",
       "</tr>\n",
       "<tr>\n",
       "  <th>Covariance Type:</th>      <td>nonrobust</td>    <th>                     </th>      <td> </td>    \n",
       "</tr>\n",
       "</table>\n",
       "<table class=\"simpletable\">\n",
       "<tr>\n",
       "      <td></td>         <th>coef</th>     <th>std err</th>      <th>t</th>      <th>P>|t|</th>  <th>[0.025</th>    <th>0.975]</th>  \n",
       "</tr>\n",
       "<tr>\n",
       "  <th>Intercept</th> <td>    2.6676</td> <td> 1.08e-10</td> <td> 2.46e+10</td> <td> 0.000</td> <td>    2.668</td> <td>    2.668</td>\n",
       "</tr>\n",
       "<tr>\n",
       "  <th>Open</th>      <td>   -0.2728</td> <td> 6.77e-14</td> <td>-4.03e+12</td> <td> 0.000</td> <td>   -0.273</td> <td>   -0.273</td>\n",
       "</tr>\n",
       "<tr>\n",
       "  <th>High</th>      <td>    0.2919</td> <td> 7.82e-14</td> <td> 3.73e+12</td> <td> 0.000</td> <td>    0.292</td> <td>    0.292</td>\n",
       "</tr>\n",
       "<tr>\n",
       "  <th>Low</th>       <td>    0.2469</td> <td> 8.76e-14</td> <td> 2.82e+12</td> <td> 0.000</td> <td>    0.247</td> <td>    0.247</td>\n",
       "</tr>\n",
       "<tr>\n",
       "  <th>Close</th>     <td>    0.7342</td> <td> 6.81e-14</td> <td> 1.08e+13</td> <td> 0.000</td> <td>    0.734</td> <td>    0.734</td>\n",
       "</tr>\n",
       "<tr>\n",
       "  <th>Volume</th>    <td>-1.299e-07</td> <td> 4.28e-18</td> <td>-3.03e+10</td> <td> 0.000</td> <td> -1.3e-07</td> <td> -1.3e-07</td>\n",
       "</tr>\n",
       "</table>\n",
       "<table class=\"simpletable\">\n",
       "<tr>\n",
       "  <th>Omnibus:</th>       <td>632.241</td> <th>  Durbin-Watson:     </th> <td>   0.257</td>\n",
       "</tr>\n",
       "<tr>\n",
       "  <th>Prob(Omnibus):</th> <td> 0.000</td>  <th>  Jarque-Bera (JB):  </th> <td>6103.802</td>\n",
       "</tr>\n",
       "<tr>\n",
       "  <th>Skew:</th>          <td>-2.486</td>  <th>  Prob(JB):          </th> <td>    0.00</td>\n",
       "</tr>\n",
       "<tr>\n",
       "  <th>Kurtosis:</th>      <td>13.368</td>  <th>  Cond. No.          </th> <td>7.73e+07</td>\n",
       "</tr>\n",
       "</table><br/><br/>Notes:<br/>[1] Standard Errors assume that the covariance matrix of the errors is correctly specified.<br/>[2] The condition number is large, 7.73e+07. This might indicate that there are<br/>strong multicollinearity or other numerical problems."
      ],
      "text/plain": [
       "<class 'statsmodels.iolib.summary.Summary'>\n",
       "\"\"\"\n",
       "                            OLS Regression Results                            \n",
       "==============================================================================\n",
       "Dep. Variable:                 nClose   R-squared:                       1.000\n",
       "Model:                            OLS   Adj. R-squared:                  1.000\n",
       "Method:                 Least Squares   F-statistic:                 6.044e+28\n",
       "Date:                Wed, 19 Jan 2022   Prob (F-statistic):               0.00\n",
       "Time:                        16:34:45   Log-Likelihood:                 21600.\n",
       "No. Observations:                1108   AIC:                        -4.319e+04\n",
       "Df Residuals:                    1102   BIC:                        -4.316e+04\n",
       "Df Model:                           5                                         \n",
       "Covariance Type:            nonrobust                                         \n",
       "==============================================================================\n",
       "                 coef    std err          t      P>|t|      [0.025      0.975]\n",
       "------------------------------------------------------------------------------\n",
       "Intercept      2.6676   1.08e-10   2.46e+10      0.000       2.668       2.668\n",
       "Open          -0.2728   6.77e-14  -4.03e+12      0.000      -0.273      -0.273\n",
       "High           0.2919   7.82e-14   3.73e+12      0.000       0.292       0.292\n",
       "Low            0.2469   8.76e-14   2.82e+12      0.000       0.247       0.247\n",
       "Close          0.7342   6.81e-14   1.08e+13      0.000       0.734       0.734\n",
       "Volume     -1.299e-07   4.28e-18  -3.03e+10      0.000    -1.3e-07    -1.3e-07\n",
       "==============================================================================\n",
       "Omnibus:                      632.241   Durbin-Watson:                   0.257\n",
       "Prob(Omnibus):                  0.000   Jarque-Bera (JB):             6103.802\n",
       "Skew:                          -2.486   Prob(JB):                         0.00\n",
       "Kurtosis:                      13.368   Cond. No.                     7.73e+07\n",
       "==============================================================================\n",
       "\n",
       "Notes:\n",
       "[1] Standard Errors assume that the covariance matrix of the errors is correctly specified.\n",
       "[2] The condition number is large, 7.73e+07. This might indicate that there are\n",
       "strong multicollinearity or other numerical problems.\n",
       "\"\"\""
      ]
     },
     "execution_count": 17,
     "metadata": {},
     "output_type": "execute_result"
    }
   ],
   "source": [
    "from statsmodels.formula.api import ols\n",
    "\n",
    "formula = 'nClose ~ Open + High + Low + Close + Volume'\n",
    "r_model = ols(formula, test_conf)\n",
    "\n",
    "res = r_model.fit()\n",
    "\n",
    "res.summary()\n"
   ]
  },
  {
   "cell_type": "code",
   "execution_count": 18,
   "id": "b776fb16",
   "metadata": {},
   "outputs": [
    {
     "data": {
      "text/html": [
       "<div>\n",
       "<style scoped>\n",
       "    .dataframe tbody tr th:only-of-type {\n",
       "        vertical-align: middle;\n",
       "    }\n",
       "\n",
       "    .dataframe tbody tr th {\n",
       "        vertical-align: top;\n",
       "    }\n",
       "\n",
       "    .dataframe thead th {\n",
       "        text-align: right;\n",
       "    }\n",
       "</style>\n",
       "<table border=\"1\" class=\"dataframe\">\n",
       "  <thead>\n",
       "    <tr style=\"text-align: right;\">\n",
       "      <th></th>\n",
       "      <th>VIF Factor</th>\n",
       "      <th>features</th>\n",
       "    </tr>\n",
       "  </thead>\n",
       "  <tbody>\n",
       "    <tr>\n",
       "      <th>0</th>\n",
       "      <td>18.948440</td>\n",
       "      <td>Intercept</td>\n",
       "    </tr>\n",
       "    <tr>\n",
       "      <th>1</th>\n",
       "      <td>1386.856370</td>\n",
       "      <td>Open</td>\n",
       "    </tr>\n",
       "    <tr>\n",
       "      <th>2</th>\n",
       "      <td>1874.553039</td>\n",
       "      <td>High</td>\n",
       "    </tr>\n",
       "    <tr>\n",
       "      <th>3</th>\n",
       "      <td>2290.851304</td>\n",
       "      <td>Low</td>\n",
       "    </tr>\n",
       "    <tr>\n",
       "      <th>4</th>\n",
       "      <td>1399.278911</td>\n",
       "      <td>Close</td>\n",
       "    </tr>\n",
       "    <tr>\n",
       "      <th>5</th>\n",
       "      <td>2.225351</td>\n",
       "      <td>Volume</td>\n",
       "    </tr>\n",
       "  </tbody>\n",
       "</table>\n",
       "</div>"
      ],
      "text/plain": [
       "    VIF Factor   features\n",
       "0    18.948440  Intercept\n",
       "1  1386.856370       Open\n",
       "2  1874.553039       High\n",
       "3  2290.851304        Low\n",
       "4  1399.278911      Close\n",
       "5     2.225351     Volume"
      ]
     },
     "execution_count": 18,
     "metadata": {},
     "output_type": "execute_result"
    }
   ],
   "source": [
    "from patsy import dmatrices\n",
    "y, X = dmatrices(formula, test_conf, return_type=\"dataframe\")\n",
    "vif = pd.DataFrame()\n",
    "\n",
    "from statsmodels.stats.outliers_influence import variance_inflation_factor\n",
    "vif['VIF Factor'] = [variance_inflation_factor(X.values, i) for i in range(X.shape[1])]\n",
    "vif['features'] = X.columns\n",
    "\n",
    "vif"
   ]
  },
  {
   "cell_type": "markdown",
   "id": "b76741ef",
   "metadata": {},
   "source": [
    "# 정규화 선형회귀 (Ridge, Lasso, Elastic-net)\n",
    "- w, b에 제약(정규화)을 주어 과적, 과소 적합을 줄이기 위한 방법"
   ]
  },
  {
   "cell_type": "code",
   "execution_count": 19,
   "id": "33e7c75f",
   "metadata": {
    "scrolled": false
   },
   "outputs": [
    {
     "name": "stdout",
     "output_type": "stream",
     "text": [
      "0.9952337251452181\n",
      "0.9940884007115441\n",
      "0.9940884183538544\n",
      "정규화 선형회귀 모댈별 가중치(계수) 비교\n"
     ]
    },
    {
     "name": "stderr",
     "output_type": "stream",
     "text": [
      "c:\\ai_source\\machinelearning\\venv\\lib\\site-packages\\sklearn\\linear_model\\_coordinate_descent.py:648: ConvergenceWarning: Objective did not converge. You might want to increase the number of iterations, check the scale of the features or consider increasing regularisation. Duality gap: 2.802e+08, tolerance: 3.931e+07\n",
      "  coef_, l1_reg, l2_reg, X, y, max_iter, tol, rng, random, positive\n",
      "c:\\ai_source\\machinelearning\\venv\\lib\\site-packages\\sklearn\\linear_model\\_coordinate_descent.py:648: ConvergenceWarning: Objective did not converge. You might want to increase the number of iterations, check the scale of the features or consider increasing regularisation. Duality gap: 2.802e+08, tolerance: 3.931e+07\n",
      "  coef_, l1_reg, l2_reg, X, y, max_iter, tol, rng, random, positive\n"
     ]
    },
    {
     "data": {
      "text/html": [
       "<div>\n",
       "<style scoped>\n",
       "    .dataframe tbody tr th:only-of-type {\n",
       "        vertical-align: middle;\n",
       "    }\n",
       "\n",
       "    .dataframe tbody tr th {\n",
       "        vertical-align: top;\n",
       "    }\n",
       "\n",
       "    .dataframe thead th {\n",
       "        text-align: right;\n",
       "    }\n",
       "</style>\n",
       "<table border=\"1\" class=\"dataframe\">\n",
       "  <thead>\n",
       "    <tr style=\"text-align: right;\">\n",
       "      <th></th>\n",
       "      <th>Open</th>\n",
       "      <th>High</th>\n",
       "      <th>Low</th>\n",
       "      <th>Close</th>\n",
       "      <th>Volume</th>\n",
       "    </tr>\n",
       "  </thead>\n",
       "  <tbody>\n",
       "    <tr>\n",
       "      <th>linear</th>\n",
       "      <td>-0.272823</td>\n",
       "      <td>0.291942</td>\n",
       "      <td>0.246865</td>\n",
       "      <td>0.734193</td>\n",
       "      <td>-1.299008e-07</td>\n",
       "    </tr>\n",
       "    <tr>\n",
       "      <th>ridge</th>\n",
       "      <td>-0.272823</td>\n",
       "      <td>0.291942</td>\n",
       "      <td>0.246865</td>\n",
       "      <td>0.734193</td>\n",
       "      <td>-1.299008e-07</td>\n",
       "    </tr>\n",
       "    <tr>\n",
       "      <th>lasso</th>\n",
       "      <td>0.405039</td>\n",
       "      <td>0.318162</td>\n",
       "      <td>0.002191</td>\n",
       "      <td>0.273129</td>\n",
       "      <td>-4.773671e-07</td>\n",
       "    </tr>\n",
       "    <tr>\n",
       "      <th>elastic</th>\n",
       "      <td>0.405038</td>\n",
       "      <td>0.318163</td>\n",
       "      <td>0.002183</td>\n",
       "      <td>0.273136</td>\n",
       "      <td>-4.773908e-07</td>\n",
       "    </tr>\n",
       "  </tbody>\n",
       "</table>\n",
       "</div>"
      ],
      "text/plain": [
       "             Open      High       Low     Close        Volume\n",
       "linear  -0.272823  0.291942  0.246865  0.734193 -1.299008e-07\n",
       "ridge   -0.272823  0.291942  0.246865  0.734193 -1.299008e-07\n",
       "lasso    0.405039  0.318162  0.002191  0.273129 -4.773671e-07\n",
       "elastic  0.405038  0.318163  0.002183  0.273136 -4.773908e-07"
      ]
     },
     "execution_count": 19,
     "metadata": {},
     "output_type": "execute_result"
    }
   ],
   "source": [
    "# Ridge Regression 모델\n",
    "fit_cols = ['Open', 'High', 'Low', 'Close', 'Volume']\n",
    "\n",
    "from sklearn.linear_model import Ridge\n",
    "ridge = Ridge(alpha=1.0) # Hyper parameter\n",
    "ridge.fit(X_train[fit_cols], y_train)\n",
    "print(ridge.score(X_test[fit_cols], y_test))\n",
    "\n",
    "# Lasso Regression 모델\n",
    "from sklearn.linear_model import Lasso\n",
    "lasso = Lasso(alpha=1.0) # Hyper param\n",
    "lasso.fit(X_train[fit_cols], y_train)\n",
    "print(lasso.score(X_test[fit_cols], y_test))\n",
    "\n",
    "# Elastic-net Regression 모델\n",
    "from sklearn.linear_model import ElasticNet\n",
    "elastic = ElasticNet(alpha=1.0, l1_ratio=0.5) # Hyper param  l1, l2 : l1에 값 주면 l2도 같은값, l2만 주면 l2만 쓰는것\n",
    "elastic.fit(X_train[fit_cols], y_train)\n",
    "print(elastic.score(X_test[fit_cols], y_test))\n",
    "\n",
    "from sklearn.linear_model import LinearRegression\n",
    "model = LinearRegression().fit(X_train[fit_cols], y_train)\n",
    "model.fit(X_train[fit_cols], y_train)\n",
    "\n",
    "import numpy as np\n",
    "# 계수를 한 눈에 비교하기위한 DataFrame\n",
    "coefs = np.vstack((model.coef_, ridge.coef_, lasso.coef_, elastic.coef_))\n",
    "index = ['linear', 'ridge', 'lasso', 'elastic']\n",
    "coefs_df = pd.DataFrame(coefs, columns=['Open', 'High', 'Low', 'Close', 'Volume'], index=index)\n",
    "print(\"정규화 선형회귀 모댈별 가중치(계수) 비교\")\n",
    "coefs_df"
   ]
  },
  {
   "cell_type": "code",
   "execution_count": 20,
   "id": "5bd35158",
   "metadata": {},
   "outputs": [
    {
     "data": {
      "text/plain": [
       "{'alpha': 0, 'max_iter': 10}"
      ]
     },
     "execution_count": 20,
     "metadata": {},
     "output_type": "execute_result"
    }
   ],
   "source": [
    "from sklearn.model_selection import GridSearchCV\n",
    "params = {\"alpha\":[0.0001, 0.001, 0.01, 0, 1], \"max_iter\":[10, 50, 100, 150, 200]}\n",
    "\n",
    "#  ridge, lasso, elastic\n",
    "hyper_param_tune = GridSearchCV(ridge, params, cv=5)\n",
    "hyper_param_tune.fit(X_train[fit_cols], y_train)\n",
    "hyper_param_tune.best_params_"
   ]
  },
  {
   "cell_type": "code",
   "execution_count": null,
   "id": "286e3752",
   "metadata": {},
   "outputs": [],
   "source": []
  },
  {
   "cell_type": "markdown",
   "id": "130aa5c1",
   "metadata": {},
   "source": [
    "\n",
    "# SVC: linear, poly, rbf"
   ]
  },
  {
   "cell_type": "code",
   "execution_count": 21,
   "id": "e835da27",
   "metadata": {},
   "outputs": [],
   "source": [
    "from sklearn.svm import SVC\n",
    "from sklearn.ensemble import BaggingClassifier\n"
   ]
  },
  {
   "cell_type": "code",
   "execution_count": 22,
   "id": "caeb3096",
   "metadata": {
    "scrolled": false
   },
   "outputs": [
    {
     "name": "stderr",
     "output_type": "stream",
     "text": [
      "c:\\ai_source\\machinelearning\\venv\\lib\\site-packages\\sklearn\\ensemble\\_bagging.py:719: DataConversionWarning: A column-vector y was passed when a 1d array was expected. Please change the shape of y to (n_samples, ), for example using ravel().\n",
      "  y = column_or_1d(y, warn=True)\n"
     ]
    },
    {
     "name": "stdout",
     "output_type": "stream",
     "text": [
      "y_pred: [4550. 4550. 4100. ... 4550. 4790. 4550.]\n",
      "y_test: ['Close']\n",
      "정확도 : 0.0\n"
     ]
    }
   ],
   "source": [
    "estimator = SVC(kernel='rbf')  # rbf', 'poly', 'linear=너무 오래걸림'\n",
    "#model2 = SVC(kernel='poly', random_state=0, gamma=10, C=1.0).fit(X_test[fit_cols], y_test)\n",
    "#model3 = SVC(kernel='rbf', random_state=0, gamma=1, C=1.0).fit(X_test[fit_cols], y_test)\n",
    "\n",
    "n_estimators = 10\n",
    "n_jobs = -1\n",
    "\n",
    "model = BaggingClassifier(base_estimator=estimator,\n",
    "                          n_estimators=n_estimators,\n",
    "                          max_samples=1./n_estimators,\n",
    "                          n_jobs=n_jobs)\n",
    "model.fit(X_train[fit_cols], y_train)\n",
    "y_pred = model.predict(X_test[fit_cols])\n",
    "model.predict_proba(X_test[fit_cols])\n",
    "\n",
    "from sklearn.metrics import confusion_matrix, accuracy_score\n",
    "\n",
    "confusion_matrix(y_pred, y_test)\n",
    "\n",
    "print(f\"y_pred: {y_pred}\")\n",
    "print(f\"y_test: {list(y_test)}\")\n",
    "print(f\"정확도 : {accuracy_score(y_test, y_pred)}\")\n"
   ]
  },
  {
   "cell_type": "code",
   "execution_count": 23,
   "id": "f1f9367e",
   "metadata": {},
   "outputs": [
    {
     "data": {
      "image/png": "[encoded data removed]",
      "text/plain": [
       "<Figure size 720x360 with 1 Axes>"
      ]
     },
     "metadata": {
      "needs_background": "light"
     },
     "output_type": "display_data"
    }
   ],
   "source": [
    "test_conf = X_test\n",
    "#test_conf.drop('Volume', axis=1, inplace=True)\n",
    "test_conf['nClose'] = y_pred\n",
    "\n",
    "plt.figure(figsize=(10, 5))\n",
    "#sns.lineplot(x=test_conf.Date, y=[test_conf['Close'], test_conf['nClose']])\n",
    "#sns.lineplot(x='Date', y='Close', data=test_conf[-10:])\n",
    "#sns.lineplot(x='Date', y='nClose', data=test_conf[-10:], alpha=0.6)\n",
    "\n",
    "plt.plot(test_conf.Date[-100:], test_conf.Close[-100:], label='close')\n",
    "plt.plot(test_conf.Date[-100:], test_conf.nClose[-100:], label='nClose')\n",
    "# plt.plot(test_conf.Date, test_conf.Close, label='close')\n",
    "# plt.plot(test_conf.Date, test_conf.nClose, label='nClose')\n",
    "plt.xlabel('time')\n",
    "plt.ylabel('price')\n",
    "plt.legend() #loc='best', ncol=2)\n",
    "plt.show()\n"
   ]
  },
  {
   "cell_type": "code",
   "execution_count": null,
   "id": "105f95ad",
   "metadata": {},
   "outputs": [],
   "source": []
  },
  {
   "cell_type": "markdown",
   "id": "91def290",
   "metadata": {},
   "source": [
    "# Logistic Regression\n",
    "\n",
    "- 금일 종가와 익일 종가를 비교 상승, 하락, =(0, 1, 2) label(target)을 만든다."
   ]
  },
  {
   "cell_type": "code",
   "execution_count": 24,
   "id": "8d64e4e5",
   "metadata": {},
   "outputs": [
    {
     "data": {
      "text/html": [
       "<div>\n",
       "<style scoped>\n",
       "    .dataframe tbody tr th:only-of-type {\n",
       "        vertical-align: middle;\n",
       "    }\n",
       "\n",
       "    .dataframe tbody tr th {\n",
       "        vertical-align: top;\n",
       "    }\n",
       "\n",
       "    .dataframe thead th {\n",
       "        text-align: right;\n",
       "    }\n",
       "</style>\n",
       "<table border=\"1\" class=\"dataframe\">\n",
       "  <thead>\n",
       "    <tr style=\"text-align: right;\">\n",
       "      <th></th>\n",
       "      <th>Date</th>\n",
       "      <th>Open</th>\n",
       "      <th>High</th>\n",
       "      <th>Low</th>\n",
       "      <th>Close</th>\n",
       "      <th>Volume</th>\n",
       "    </tr>\n",
       "  </thead>\n",
       "  <tbody>\n",
       "    <tr>\n",
       "      <th>0</th>\n",
       "      <td>2000-01-04</td>\n",
       "      <td>6000.0</td>\n",
       "      <td>6110.0</td>\n",
       "      <td>5660.0</td>\n",
       "      <td>6110.0</td>\n",
       "      <td>74195000</td>\n",
       "    </tr>\n",
       "    <tr>\n",
       "      <th>1</th>\n",
       "      <td>2000-01-05</td>\n",
       "      <td>5800.0</td>\n",
       "      <td>6060.0</td>\n",
       "      <td>5520.0</td>\n",
       "      <td>5580.0</td>\n",
       "      <td>74680000</td>\n",
       "    </tr>\n",
       "    <tr>\n",
       "      <th>2</th>\n",
       "      <td>2000-01-06</td>\n",
       "      <td>5750.0</td>\n",
       "      <td>5780.0</td>\n",
       "      <td>5580.0</td>\n",
       "      <td>5620.0</td>\n",
       "      <td>54390000</td>\n",
       "    </tr>\n",
       "    <tr>\n",
       "      <th>3</th>\n",
       "      <td>2000-01-07</td>\n",
       "      <td>5560.0</td>\n",
       "      <td>5670.0</td>\n",
       "      <td>5360.0</td>\n",
       "      <td>5540.0</td>\n",
       "      <td>40305000</td>\n",
       "    </tr>\n",
       "    <tr>\n",
       "      <th>4</th>\n",
       "      <td>2000-01-10</td>\n",
       "      <td>5600.0</td>\n",
       "      <td>5770.0</td>\n",
       "      <td>5580.0</td>\n",
       "      <td>5770.0</td>\n",
       "      <td>46880000</td>\n",
       "    </tr>\n",
       "  </tbody>\n",
       "</table>\n",
       "</div>"
      ],
      "text/plain": [
       "         Date    Open    High     Low   Close    Volume\n",
       "0  2000-01-04  6000.0  6110.0  5660.0  6110.0  74195000\n",
       "1  2000-01-05  5800.0  6060.0  5520.0  5580.0  74680000\n",
       "2  2000-01-06  5750.0  5780.0  5580.0  5620.0  54390000\n",
       "3  2000-01-07  5560.0  5670.0  5360.0  5540.0  40305000\n",
       "4  2000-01-10  5600.0  5770.0  5580.0  5770.0  46880000"
      ]
     },
     "execution_count": 24,
     "metadata": {},
     "output_type": "execute_result"
    }
   ],
   "source": [
    "data.head()"
   ]
  },
  {
   "cell_type": "code",
   "execution_count": 25,
   "id": "a2f230d0",
   "metadata": {},
   "outputs": [],
   "source": [
    "X_data = data[:-1][:]\n",
    "y_data = pd.DataFrame(data['Close'][1:])\n",
    "y_data.index = y_data.index-1\n"
   ]
  },
  {
   "cell_type": "code",
   "execution_count": 26,
   "id": "4bdbd642",
   "metadata": {},
   "outputs": [
    {
     "data": {
      "text/html": [
       "<div>\n",
       "<style scoped>\n",
       "    .dataframe tbody tr th:only-of-type {\n",
       "        vertical-align: middle;\n",
       "    }\n",
       "\n",
       "    .dataframe tbody tr th {\n",
       "        vertical-align: top;\n",
       "    }\n",
       "\n",
       "    .dataframe thead th {\n",
       "        text-align: right;\n",
       "    }\n",
       "</style>\n",
       "<table border=\"1\" class=\"dataframe\">\n",
       "  <thead>\n",
       "    <tr style=\"text-align: right;\">\n",
       "      <th></th>\n",
       "      <th>Close</th>\n",
       "    </tr>\n",
       "  </thead>\n",
       "  <tbody>\n",
       "    <tr>\n",
       "      <th>0</th>\n",
       "      <td>5580.0</td>\n",
       "    </tr>\n",
       "    <tr>\n",
       "      <th>1</th>\n",
       "      <td>5620.0</td>\n",
       "    </tr>\n",
       "    <tr>\n",
       "      <th>2</th>\n",
       "      <td>5540.0</td>\n",
       "    </tr>\n",
       "    <tr>\n",
       "      <th>3</th>\n",
       "      <td>5770.0</td>\n",
       "    </tr>\n",
       "    <tr>\n",
       "      <th>4</th>\n",
       "      <td>5770.0</td>\n",
       "    </tr>\n",
       "    <tr>\n",
       "      <th>...</th>\n",
       "      <td>...</td>\n",
       "    </tr>\n",
       "    <tr>\n",
       "      <th>5532</th>\n",
       "      <td>78900.0</td>\n",
       "    </tr>\n",
       "    <tr>\n",
       "      <th>5533</th>\n",
       "      <td>78900.0</td>\n",
       "    </tr>\n",
       "    <tr>\n",
       "      <th>5534</th>\n",
       "      <td>77900.0</td>\n",
       "    </tr>\n",
       "    <tr>\n",
       "      <th>5535</th>\n",
       "      <td>77300.0</td>\n",
       "    </tr>\n",
       "    <tr>\n",
       "      <th>5536</th>\n",
       "      <td>77500.0</td>\n",
       "    </tr>\n",
       "  </tbody>\n",
       "</table>\n",
       "<p>5537 rows × 1 columns</p>\n",
       "</div>"
      ],
      "text/plain": [
       "        Close\n",
       "0      5580.0\n",
       "1      5620.0\n",
       "2      5540.0\n",
       "3      5770.0\n",
       "4      5770.0\n",
       "...       ...\n",
       "5532  78900.0\n",
       "5533  78900.0\n",
       "5534  77900.0\n",
       "5535  77300.0\n",
       "5536  77500.0\n",
       "\n",
       "[5537 rows x 1 columns]"
      ]
     },
     "execution_count": 26,
     "metadata": {},
     "output_type": "execute_result"
    }
   ],
   "source": [
    "y_data"
   ]
  },
  {
   "cell_type": "code",
   "execution_count": 27,
   "id": "3827f400",
   "metadata": {},
   "outputs": [
    {
     "data": {
      "text/html": [
       "<div>\n",
       "<style scoped>\n",
       "    .dataframe tbody tr th:only-of-type {\n",
       "        vertical-align: middle;\n",
       "    }\n",
       "\n",
       "    .dataframe tbody tr th {\n",
       "        vertical-align: top;\n",
       "    }\n",
       "\n",
       "    .dataframe thead th {\n",
       "        text-align: right;\n",
       "    }\n",
       "</style>\n",
       "<table border=\"1\" class=\"dataframe\">\n",
       "  <thead>\n",
       "    <tr style=\"text-align: right;\">\n",
       "      <th></th>\n",
       "      <th>Date</th>\n",
       "      <th>Open</th>\n",
       "      <th>High</th>\n",
       "      <th>Low</th>\n",
       "      <th>Close</th>\n",
       "      <th>Volume</th>\n",
       "    </tr>\n",
       "  </thead>\n",
       "  <tbody>\n",
       "    <tr>\n",
       "      <th>0</th>\n",
       "      <td>2000-01-04</td>\n",
       "      <td>6000.0</td>\n",
       "      <td>6110.0</td>\n",
       "      <td>5660.0</td>\n",
       "      <td>6110.0</td>\n",
       "      <td>74195000</td>\n",
       "    </tr>\n",
       "    <tr>\n",
       "      <th>1</th>\n",
       "      <td>2000-01-05</td>\n",
       "      <td>5800.0</td>\n",
       "      <td>6060.0</td>\n",
       "      <td>5520.0</td>\n",
       "      <td>5580.0</td>\n",
       "      <td>74680000</td>\n",
       "    </tr>\n",
       "    <tr>\n",
       "      <th>2</th>\n",
       "      <td>2000-01-06</td>\n",
       "      <td>5750.0</td>\n",
       "      <td>5780.0</td>\n",
       "      <td>5580.0</td>\n",
       "      <td>5620.0</td>\n",
       "      <td>54390000</td>\n",
       "    </tr>\n",
       "    <tr>\n",
       "      <th>3</th>\n",
       "      <td>2000-01-07</td>\n",
       "      <td>5560.0</td>\n",
       "      <td>5670.0</td>\n",
       "      <td>5360.0</td>\n",
       "      <td>5540.0</td>\n",
       "      <td>40305000</td>\n",
       "    </tr>\n",
       "    <tr>\n",
       "      <th>4</th>\n",
       "      <td>2000-01-10</td>\n",
       "      <td>5600.0</td>\n",
       "      <td>5770.0</td>\n",
       "      <td>5580.0</td>\n",
       "      <td>5770.0</td>\n",
       "      <td>46880000</td>\n",
       "    </tr>\n",
       "    <tr>\n",
       "      <th>...</th>\n",
       "      <td>...</td>\n",
       "      <td>...</td>\n",
       "      <td>...</td>\n",
       "      <td>...</td>\n",
       "      <td>...</td>\n",
       "      <td>...</td>\n",
       "    </tr>\n",
       "    <tr>\n",
       "      <th>5532</th>\n",
       "      <td>2022-01-10</td>\n",
       "      <td>78100.0</td>\n",
       "      <td>78100.0</td>\n",
       "      <td>77100.0</td>\n",
       "      <td>78000.0</td>\n",
       "      <td>9947422</td>\n",
       "    </tr>\n",
       "    <tr>\n",
       "      <th>5533</th>\n",
       "      <td>2022-01-11</td>\n",
       "      <td>78400.0</td>\n",
       "      <td>79000.0</td>\n",
       "      <td>78000.0</td>\n",
       "      <td>78900.0</td>\n",
       "      <td>13221123</td>\n",
       "    </tr>\n",
       "    <tr>\n",
       "      <th>5534</th>\n",
       "      <td>2022-01-12</td>\n",
       "      <td>79500.0</td>\n",
       "      <td>79600.0</td>\n",
       "      <td>78600.0</td>\n",
       "      <td>78900.0</td>\n",
       "      <td>11000502</td>\n",
       "    </tr>\n",
       "    <tr>\n",
       "      <th>5535</th>\n",
       "      <td>2022-01-13</td>\n",
       "      <td>79300.0</td>\n",
       "      <td>79300.0</td>\n",
       "      <td>77900.0</td>\n",
       "      <td>77900.0</td>\n",
       "      <td>13889401</td>\n",
       "    </tr>\n",
       "    <tr>\n",
       "      <th>5536</th>\n",
       "      <td>2022-01-14</td>\n",
       "      <td>77700.0</td>\n",
       "      <td>78100.0</td>\n",
       "      <td>77100.0</td>\n",
       "      <td>77300.0</td>\n",
       "      <td>10096725</td>\n",
       "    </tr>\n",
       "  </tbody>\n",
       "</table>\n",
       "<p>5537 rows × 6 columns</p>\n",
       "</div>"
      ],
      "text/plain": [
       "            Date     Open     High      Low    Close    Volume\n",
       "0     2000-01-04   6000.0   6110.0   5660.0   6110.0  74195000\n",
       "1     2000-01-05   5800.0   6060.0   5520.0   5580.0  74680000\n",
       "2     2000-01-06   5750.0   5780.0   5580.0   5620.0  54390000\n",
       "3     2000-01-07   5560.0   5670.0   5360.0   5540.0  40305000\n",
       "4     2000-01-10   5600.0   5770.0   5580.0   5770.0  46880000\n",
       "...          ...      ...      ...      ...      ...       ...\n",
       "5532  2022-01-10  78100.0  78100.0  77100.0  78000.0   9947422\n",
       "5533  2022-01-11  78400.0  79000.0  78000.0  78900.0  13221123\n",
       "5534  2022-01-12  79500.0  79600.0  78600.0  78900.0  11000502\n",
       "5535  2022-01-13  79300.0  79300.0  77900.0  77900.0  13889401\n",
       "5536  2022-01-14  77700.0  78100.0  77100.0  77300.0  10096725\n",
       "\n",
       "[5537 rows x 6 columns]"
      ]
     },
     "execution_count": 27,
     "metadata": {},
     "output_type": "execute_result"
    }
   ],
   "source": [
    "X_data"
   ]
  },
  {
   "cell_type": "code",
   "execution_count": 28,
   "id": "6dca6054",
   "metadata": {},
   "outputs": [
    {
     "data": {
      "text/html": [
       "<div>\n",
       "<style scoped>\n",
       "    .dataframe tbody tr th:only-of-type {\n",
       "        vertical-align: middle;\n",
       "    }\n",
       "\n",
       "    .dataframe tbody tr th {\n",
       "        vertical-align: top;\n",
       "    }\n",
       "\n",
       "    .dataframe thead th {\n",
       "        text-align: right;\n",
       "    }\n",
       "</style>\n",
       "<table border=\"1\" class=\"dataframe\">\n",
       "  <thead>\n",
       "    <tr style=\"text-align: right;\">\n",
       "      <th></th>\n",
       "      <th>Close</th>\n",
       "    </tr>\n",
       "  </thead>\n",
       "  <tbody>\n",
       "    <tr>\n",
       "      <th>0</th>\n",
       "      <td>6110.0</td>\n",
       "    </tr>\n",
       "    <tr>\n",
       "      <th>1</th>\n",
       "      <td>5580.0</td>\n",
       "    </tr>\n",
       "    <tr>\n",
       "      <th>2</th>\n",
       "      <td>5620.0</td>\n",
       "    </tr>\n",
       "    <tr>\n",
       "      <th>3</th>\n",
       "      <td>5540.0</td>\n",
       "    </tr>\n",
       "    <tr>\n",
       "      <th>4</th>\n",
       "      <td>5770.0</td>\n",
       "    </tr>\n",
       "    <tr>\n",
       "      <th>...</th>\n",
       "      <td>...</td>\n",
       "    </tr>\n",
       "    <tr>\n",
       "      <th>5532</th>\n",
       "      <td>78000.0</td>\n",
       "    </tr>\n",
       "    <tr>\n",
       "      <th>5533</th>\n",
       "      <td>78900.0</td>\n",
       "    </tr>\n",
       "    <tr>\n",
       "      <th>5534</th>\n",
       "      <td>78900.0</td>\n",
       "    </tr>\n",
       "    <tr>\n",
       "      <th>5535</th>\n",
       "      <td>77900.0</td>\n",
       "    </tr>\n",
       "    <tr>\n",
       "      <th>5536</th>\n",
       "      <td>77300.0</td>\n",
       "    </tr>\n",
       "  </tbody>\n",
       "</table>\n",
       "<p>5537 rows × 1 columns</p>\n",
       "</div>"
      ],
      "text/plain": [
       "        Close\n",
       "0      6110.0\n",
       "1      5580.0\n",
       "2      5620.0\n",
       "3      5540.0\n",
       "4      5770.0\n",
       "...       ...\n",
       "5532  78000.0\n",
       "5533  78900.0\n",
       "5534  78900.0\n",
       "5535  77900.0\n",
       "5536  77300.0\n",
       "\n",
       "[5537 rows x 1 columns]"
      ]
     },
     "execution_count": 28,
     "metadata": {},
     "output_type": "execute_result"
    }
   ],
   "source": [
    "t_data = pd.DataFrame(X_data.Close)\n",
    "t_data"
   ]
  },
  {
   "cell_type": "code",
   "execution_count": 29,
   "id": "1ed670e6",
   "metadata": {},
   "outputs": [
    {
     "data": {
      "text/html": [
       "<div>\n",
       "<style scoped>\n",
       "    .dataframe tbody tr th:only-of-type {\n",
       "        vertical-align: middle;\n",
       "    }\n",
       "\n",
       "    .dataframe tbody tr th {\n",
       "        vertical-align: top;\n",
       "    }\n",
       "\n",
       "    .dataframe thead th {\n",
       "        text-align: right;\n",
       "    }\n",
       "</style>\n",
       "<table border=\"1\" class=\"dataframe\">\n",
       "  <thead>\n",
       "    <tr style=\"text-align: right;\">\n",
       "      <th></th>\n",
       "      <th>Close</th>\n",
       "      <th>n_close</th>\n",
       "      <th>upDown</th>\n",
       "    </tr>\n",
       "  </thead>\n",
       "  <tbody>\n",
       "    <tr>\n",
       "      <th>0</th>\n",
       "      <td>6110.0</td>\n",
       "      <td>5580.0</td>\n",
       "      <td></td>\n",
       "    </tr>\n",
       "    <tr>\n",
       "      <th>1</th>\n",
       "      <td>5580.0</td>\n",
       "      <td>5620.0</td>\n",
       "      <td></td>\n",
       "    </tr>\n",
       "    <tr>\n",
       "      <th>2</th>\n",
       "      <td>5620.0</td>\n",
       "      <td>5540.0</td>\n",
       "      <td></td>\n",
       "    </tr>\n",
       "    <tr>\n",
       "      <th>3</th>\n",
       "      <td>5540.0</td>\n",
       "      <td>5770.0</td>\n",
       "      <td></td>\n",
       "    </tr>\n",
       "    <tr>\n",
       "      <th>4</th>\n",
       "      <td>5770.0</td>\n",
       "      <td>5770.0</td>\n",
       "      <td></td>\n",
       "    </tr>\n",
       "    <tr>\n",
       "      <th>...</th>\n",
       "      <td>...</td>\n",
       "      <td>...</td>\n",
       "      <td>...</td>\n",
       "    </tr>\n",
       "    <tr>\n",
       "      <th>5532</th>\n",
       "      <td>78000.0</td>\n",
       "      <td>78900.0</td>\n",
       "      <td></td>\n",
       "    </tr>\n",
       "    <tr>\n",
       "      <th>5533</th>\n",
       "      <td>78900.0</td>\n",
       "      <td>78900.0</td>\n",
       "      <td></td>\n",
       "    </tr>\n",
       "    <tr>\n",
       "      <th>5534</th>\n",
       "      <td>78900.0</td>\n",
       "      <td>77900.0</td>\n",
       "      <td></td>\n",
       "    </tr>\n",
       "    <tr>\n",
       "      <th>5535</th>\n",
       "      <td>77900.0</td>\n",
       "      <td>77300.0</td>\n",
       "      <td></td>\n",
       "    </tr>\n",
       "    <tr>\n",
       "      <th>5536</th>\n",
       "      <td>77300.0</td>\n",
       "      <td>77500.0</td>\n",
       "      <td></td>\n",
       "    </tr>\n",
       "  </tbody>\n",
       "</table>\n",
       "<p>5537 rows × 3 columns</p>\n",
       "</div>"
      ],
      "text/plain": [
       "        Close  n_close upDown\n",
       "0      6110.0   5580.0       \n",
       "1      5580.0   5620.0       \n",
       "2      5620.0   5540.0       \n",
       "3      5540.0   5770.0       \n",
       "4      5770.0   5770.0       \n",
       "...       ...      ...    ...\n",
       "5532  78000.0  78900.0       \n",
       "5533  78900.0  78900.0       \n",
       "5534  78900.0  77900.0       \n",
       "5535  77900.0  77300.0       \n",
       "5536  77300.0  77500.0       \n",
       "\n",
       "[5537 rows x 3 columns]"
      ]
     },
     "execution_count": 29,
     "metadata": {},
     "output_type": "execute_result"
    }
   ],
   "source": [
    "t_data['n_close'] = y_data\n",
    "t_data['upDown'] = \"\"\n",
    "t_data"
   ]
  },
  {
   "cell_type": "code",
   "execution_count": 30,
   "id": "11bded5f",
   "metadata": {},
   "outputs": [],
   "source": [
    "# 0: 하락, 1:=, 2: 상승\n",
    "t_data.loc[t_data[\"Close\"] > t_data[\"n_close\"], \"upDown\"] = 0\n",
    "t_data.loc[t_data[\"Close\"] == t_data[\"n_close\"], \"upDown\"] = 1\n",
    "t_data.loc[t_data[\"Close\"] < t_data[\"n_close\"], \"upDown\"] = 2\n",
    "t_data.drop([\"Close\", \"n_close\"], axis=1, inplace=True)\n",
    "t_data = t_data.astype('int')"
   ]
  },
  {
   "cell_type": "code",
   "execution_count": 31,
   "id": "86e95bbc",
   "metadata": {},
   "outputs": [],
   "source": [
    "#X_data.set_index(\"Date\")"
   ]
  },
  {
   "cell_type": "code",
   "execution_count": 32,
   "id": "c9bc68eb",
   "metadata": {
    "scrolled": true
   },
   "outputs": [
    {
     "name": "stdout",
     "output_type": "stream",
     "text": [
      "<class 'pandas.core.frame.DataFrame'>\n",
      "Int64Index: 5537 entries, 0 to 5536\n",
      "Data columns (total 1 columns):\n",
      " #   Column  Non-Null Count  Dtype\n",
      "---  ------  --------------  -----\n",
      " 0   upDown  5537 non-null   int32\n",
      "dtypes: int32(1)\n",
      "memory usage: 64.9 KB\n"
     ]
    }
   ],
   "source": [
    "t_data.info()"
   ]
  },
  {
   "cell_type": "code",
   "execution_count": 33,
   "id": "a34f3e9a",
   "metadata": {},
   "outputs": [],
   "source": [
    "# 데이터 분리\n",
    "from sklearn.model_selection import train_test_split\n",
    "\n",
    "fit_cols = ['Open', 'High', 'Low', 'Close', 'Volume']\n",
    "\n",
    "X_train, X_test, y_train, y_test = train_test_split(X_data[fit_cols], t_data.astype(int), shuffle=False, random_state=55)\n"
   ]
  },
  {
   "cell_type": "markdown",
   "id": "f1f87bf1",
   "metadata": {},
   "source": [
    "# 정규화"
   ]
  },
  {
   "cell_type": "code",
   "execution_count": 34,
   "id": "bc1ad525",
   "metadata": {},
   "outputs": [
    {
     "name": "stdout",
     "output_type": "stream",
     "text": [
      "StandardScaler()\n"
     ]
    }
   ],
   "source": [
    "# 정규화\n",
    "from sklearn.preprocessing import MinMaxScaler, StandardScaler, RobustScaler\n",
    "\n",
    "scaler = StandardScaler()\n",
    "#scaler = MinMaxScaler()\n",
    "#scaler = RobustScaler()\n",
    "\n",
    "# X_train 의 값을 기준으로 x_test 값도 조정 ?? 맞나??\n",
    "fit_cols = ['Open', 'High', 'Low', 'Close', 'Volume']\n",
    "\n",
    "print(scaler.fit(X_train[fit_cols]))\n",
    "X_train_scaled = scaler.transform(X_train[fit_cols])\n",
    "X_test_scaled = scaler.transform(X_test[fit_cols])\n"
   ]
  },
  {
   "cell_type": "code",
   "execution_count": 35,
   "id": "aae5717f",
   "metadata": {
    "scrolled": false
   },
   "outputs": [
    {
     "name": "stderr",
     "output_type": "stream",
     "text": [
      "c:\\ai_source\\machinelearning\\venv\\lib\\site-packages\\sklearn\\utils\\validation.py:993: DataConversionWarning: A column-vector y was passed when a 1d array was expected. Please change the shape of y to (n_samples, ), for example using ravel().\n",
      "  y = column_or_1d(y, warn=True)\n"
     ]
    },
    {
     "data": {
      "text/plain": [
       "LogisticRegression()"
      ]
     },
     "execution_count": 35,
     "metadata": {},
     "output_type": "execute_result"
    }
   ],
   "source": [
    "# 학습 Model 생성 및 학습\n",
    "from sklearn.linear_model import LogisticRegression\n",
    "\n",
    "mdoel_reg = LogisticRegression() #solver=\"liblinear\") \n",
    "mdoel_reg.fit(X_train_scaled, y_train) #[fit_cols] \n"
   ]
  },
  {
   "cell_type": "code",
   "execution_count": 36,
   "id": "d0e8c6dd",
   "metadata": {},
   "outputs": [
    {
     "name": "stdout",
     "output_type": "stream",
     "text": [
      "예측 결과: [0 0 0 ... 0 0 0]\n"
     ]
    },
    {
     "data": {
      "text/plain": [
       "0.4483754512635379"
      ]
     },
     "execution_count": 36,
     "metadata": {},
     "output_type": "execute_result"
    }
   ],
   "source": [
    "# 결과\n",
    "from sklearn.metrics import accuracy_score\n",
    "\n",
    "predict = mdoel_reg.predict(X_test_scaled) #[fit_cols]\n",
    "print(f\"예측 결과: {predict}\")\n",
    "accuracy_score(y_test, predict)"
   ]
  },
  {
   "cell_type": "code",
   "execution_count": 37,
   "id": "2040187d",
   "metadata": {},
   "outputs": [
    {
     "data": {
      "text/html": [
       "<div>\n",
       "<style scoped>\n",
       "    .dataframe tbody tr th:only-of-type {\n",
       "        vertical-align: middle;\n",
       "    }\n",
       "\n",
       "    .dataframe tbody tr th {\n",
       "        vertical-align: top;\n",
       "    }\n",
       "\n",
       "    .dataframe thead th {\n",
       "        text-align: right;\n",
       "    }\n",
       "</style>\n",
       "<table border=\"1\" class=\"dataframe\">\n",
       "  <thead>\n",
       "    <tr style=\"text-align: right;\">\n",
       "      <th></th>\n",
       "      <th>Date</th>\n",
       "      <th>Open</th>\n",
       "      <th>High</th>\n",
       "      <th>Low</th>\n",
       "      <th>Close</th>\n",
       "      <th>Volume</th>\n",
       "      <th>upDown</th>\n",
       "    </tr>\n",
       "  </thead>\n",
       "  <tbody>\n",
       "    <tr>\n",
       "      <th>0</th>\n",
       "      <td>2000-01-04</td>\n",
       "      <td>6000.0</td>\n",
       "      <td>6110.0</td>\n",
       "      <td>5660.0</td>\n",
       "      <td>6110.0</td>\n",
       "      <td>74195000</td>\n",
       "      <td>0</td>\n",
       "    </tr>\n",
       "    <tr>\n",
       "      <th>1</th>\n",
       "      <td>2000-01-05</td>\n",
       "      <td>5800.0</td>\n",
       "      <td>6060.0</td>\n",
       "      <td>5520.0</td>\n",
       "      <td>5580.0</td>\n",
       "      <td>74680000</td>\n",
       "      <td>2</td>\n",
       "    </tr>\n",
       "    <tr>\n",
       "      <th>2</th>\n",
       "      <td>2000-01-06</td>\n",
       "      <td>5750.0</td>\n",
       "      <td>5780.0</td>\n",
       "      <td>5580.0</td>\n",
       "      <td>5620.0</td>\n",
       "      <td>54390000</td>\n",
       "      <td>0</td>\n",
       "    </tr>\n",
       "    <tr>\n",
       "      <th>3</th>\n",
       "      <td>2000-01-07</td>\n",
       "      <td>5560.0</td>\n",
       "      <td>5670.0</td>\n",
       "      <td>5360.0</td>\n",
       "      <td>5540.0</td>\n",
       "      <td>40305000</td>\n",
       "      <td>2</td>\n",
       "    </tr>\n",
       "    <tr>\n",
       "      <th>4</th>\n",
       "      <td>2000-01-10</td>\n",
       "      <td>5600.0</td>\n",
       "      <td>5770.0</td>\n",
       "      <td>5580.0</td>\n",
       "      <td>5770.0</td>\n",
       "      <td>46880000</td>\n",
       "      <td>1</td>\n",
       "    </tr>\n",
       "    <tr>\n",
       "      <th>...</th>\n",
       "      <td>...</td>\n",
       "      <td>...</td>\n",
       "      <td>...</td>\n",
       "      <td>...</td>\n",
       "      <td>...</td>\n",
       "      <td>...</td>\n",
       "      <td>...</td>\n",
       "    </tr>\n",
       "    <tr>\n",
       "      <th>5532</th>\n",
       "      <td>2022-01-10</td>\n",
       "      <td>78100.0</td>\n",
       "      <td>78100.0</td>\n",
       "      <td>77100.0</td>\n",
       "      <td>78000.0</td>\n",
       "      <td>9947422</td>\n",
       "      <td>2</td>\n",
       "    </tr>\n",
       "    <tr>\n",
       "      <th>5533</th>\n",
       "      <td>2022-01-11</td>\n",
       "      <td>78400.0</td>\n",
       "      <td>79000.0</td>\n",
       "      <td>78000.0</td>\n",
       "      <td>78900.0</td>\n",
       "      <td>13221123</td>\n",
       "      <td>1</td>\n",
       "    </tr>\n",
       "    <tr>\n",
       "      <th>5534</th>\n",
       "      <td>2022-01-12</td>\n",
       "      <td>79500.0</td>\n",
       "      <td>79600.0</td>\n",
       "      <td>78600.0</td>\n",
       "      <td>78900.0</td>\n",
       "      <td>11000502</td>\n",
       "      <td>0</td>\n",
       "    </tr>\n",
       "    <tr>\n",
       "      <th>5535</th>\n",
       "      <td>2022-01-13</td>\n",
       "      <td>79300.0</td>\n",
       "      <td>79300.0</td>\n",
       "      <td>77900.0</td>\n",
       "      <td>77900.0</td>\n",
       "      <td>13889401</td>\n",
       "      <td>0</td>\n",
       "    </tr>\n",
       "    <tr>\n",
       "      <th>5536</th>\n",
       "      <td>2022-01-14</td>\n",
       "      <td>77700.0</td>\n",
       "      <td>78100.0</td>\n",
       "      <td>77100.0</td>\n",
       "      <td>77300.0</td>\n",
       "      <td>10096725</td>\n",
       "      <td>2</td>\n",
       "    </tr>\n",
       "  </tbody>\n",
       "</table>\n",
       "<p>5537 rows × 7 columns</p>\n",
       "</div>"
      ],
      "text/plain": [
       "            Date     Open     High      Low    Close    Volume  upDown\n",
       "0     2000-01-04   6000.0   6110.0   5660.0   6110.0  74195000       0\n",
       "1     2000-01-05   5800.0   6060.0   5520.0   5580.0  74680000       2\n",
       "2     2000-01-06   5750.0   5780.0   5580.0   5620.0  54390000       0\n",
       "3     2000-01-07   5560.0   5670.0   5360.0   5540.0  40305000       2\n",
       "4     2000-01-10   5600.0   5770.0   5580.0   5770.0  46880000       1\n",
       "...          ...      ...      ...      ...      ...       ...     ...\n",
       "5532  2022-01-10  78100.0  78100.0  77100.0  78000.0   9947422       2\n",
       "5533  2022-01-11  78400.0  79000.0  78000.0  78900.0  13221123       1\n",
       "5534  2022-01-12  79500.0  79600.0  78600.0  78900.0  11000502       0\n",
       "5535  2022-01-13  79300.0  79300.0  77900.0  77900.0  13889401       0\n",
       "5536  2022-01-14  77700.0  78100.0  77100.0  77300.0  10096725       2\n",
       "\n",
       "[5537 rows x 7 columns]"
      ]
     },
     "execution_count": 37,
     "metadata": {},
     "output_type": "execute_result"
    }
   ],
   "source": [
    "show_data = X_data\n",
    "show_data['upDown'] = t_data\n",
    "show_data"
   ]
  },
  {
   "cell_type": "code",
   "execution_count": 38,
   "id": "f8ab566d",
   "metadata": {},
   "outputs": [
    {
     "data": {
      "image/png": "[encoded data removed]",
      "text/plain": [
       "<Figure size 360x360 with 1 Axes>"
      ]
     },
     "metadata": {
      "needs_background": "light"
     },
     "output_type": "display_data"
    }
   ],
   "source": [
    "from seaborn import lmplot\n",
    "\n",
    "lmplot(x=\"Close\", y=\"upDown\", data=show_data)\n",
    "plt.show()"
   ]
  },
  {
   "cell_type": "code",
   "execution_count": null,
   "id": "bcfb0140",
   "metadata": {},
   "outputs": [],
   "source": []
  },
  {
   "cell_type": "markdown",
   "id": "a968c930",
   "metadata": {},
   "source": [
    "# 정규화 없이"
   ]
  },
  {
   "cell_type": "code",
   "execution_count": 39,
   "id": "7ac745bb",
   "metadata": {},
   "outputs": [],
   "source": [
    "# 데이터 분리\n",
    "from sklearn.model_selection import train_test_split\n",
    "\n",
    "fit_cols = ['Open', 'High', 'Low', 'Close', 'Volume']\n",
    "\n",
    "X_train, X_test, y_train, y_test = train_test_split(X_data[fit_cols], t_data, shuffle=False, random_state=55) #[fit_cols]\n"
   ]
  },
  {
   "cell_type": "code",
   "execution_count": 40,
   "id": "ec2b53b7",
   "metadata": {},
   "outputs": [
    {
     "name": "stderr",
     "output_type": "stream",
     "text": [
      "c:\\ai_source\\machinelearning\\venv\\lib\\site-packages\\sklearn\\utils\\validation.py:993: DataConversionWarning: A column-vector y was passed when a 1d array was expected. Please change the shape of y to (n_samples, ), for example using ravel().\n",
      "  y = column_or_1d(y, warn=True)\n"
     ]
    },
    {
     "data": {
      "text/plain": [
       "LogisticRegression()"
      ]
     },
     "execution_count": 40,
     "metadata": {},
     "output_type": "execute_result"
    }
   ],
   "source": [
    "# 학습 model 생성 및 학습\n",
    "mdoel_reg = LogisticRegression() #solver=\"liblinear\") \n",
    "mdoel_reg.fit(X_train[fit_cols], y_train) #[fit_cols]\n"
   ]
  },
  {
   "cell_type": "code",
   "execution_count": 41,
   "id": "4f82dc1f",
   "metadata": {},
   "outputs": [
    {
     "name": "stdout",
     "output_type": "stream",
     "text": [
      "예측 결과: [2 2 2 ... 2 2 2]\n"
     ]
    },
    {
     "data": {
      "text/plain": [
       "0.5068592057761733"
      ]
     },
     "execution_count": 41,
     "metadata": {},
     "output_type": "execute_result"
    }
   ],
   "source": [
    "predict = mdoel_reg.predict(X_test[fit_cols])\n",
    "print(f\"예측 결과: {predict}\")\n",
    "accuracy_score(y_test, predict)"
   ]
  },
  {
   "cell_type": "code",
   "execution_count": null,
   "id": "ec9305ce",
   "metadata": {},
   "outputs": [],
   "source": []
  },
  {
   "cell_type": "markdown",
   "id": "59b8a138",
   "metadata": {},
   "source": [
    "# KNeighborsClassifier"
   ]
  },
  {
   "cell_type": "code",
   "execution_count": 42,
   "id": "aebf7295",
   "metadata": {},
   "outputs": [],
   "source": [
    "# X_data: 전체 데이터에서 마지막 행(최근)을 제외한 전체 데이터를 저장\n",
    "# y_data: 다음날 종가 계산을 위해 1번째 행 부터 끝행 까지의 종가 저장\n",
    "# t_data: 당일 종가 와 익일 종가를 하나의 df로 만들어 비교후 upDown(0:하락, 1:=, 2:상승) 만 남긴다\n",
    "# \n",
    "X_data = data[:-1][:]\n",
    "y_data = pd.DataFrame(data['Close'][1:])\n",
    "y_data.index = y_data.index-1\n",
    "\n",
    "t_data = pd.DataFrame(X_data.Close)\n",
    "\n",
    "t_data['n_close'] = y_data\n",
    "t_data['upDown'] = \"\"\n",
    "\n",
    "# 0: 하락, 1:=, 2: 상승\n",
    "t_data.loc[t_data[\"Close\"] > t_data[\"n_close\"], \"upDown\"] = 0\n",
    "t_data.loc[t_data[\"Close\"] == t_data[\"n_close\"], \"upDown\"] = 1\n",
    "t_data.loc[t_data[\"Close\"] < t_data[\"n_close\"], \"upDown\"] = 2\n",
    "t_data.drop([\"Close\", \"n_close\"], axis=1, inplace=True)\n",
    "t_data = t_data.astype('int')"
   ]
  },
  {
   "cell_type": "code",
   "execution_count": 43,
   "id": "e75675ea",
   "metadata": {},
   "outputs": [],
   "source": [
    "X_data.drop('Date', axis=1, inplace=True)"
   ]
  },
  {
   "cell_type": "code",
   "execution_count": 44,
   "id": "891390ae",
   "metadata": {},
   "outputs": [],
   "source": [
    "# 데이터 분리\n",
    "from sklearn.model_selection import train_test_split\n",
    "\n",
    "X_train, X_test, y_train, y_test = train_test_split(X_data, t_data, shuffle=False, random_state=55)"
   ]
  },
  {
   "cell_type": "code",
   "execution_count": 45,
   "id": "70644f06",
   "metadata": {
    "scrolled": true
   },
   "outputs": [
    {
     "data": {
      "image/png": "[encoded data removed]",
      "text/plain": [
       "<Figure size 432x288 with 1 Axes>"
      ]
     },
     "metadata": {
      "needs_background": "light"
     },
     "output_type": "display_data"
    },
    {
     "data": {
      "image/png": "[encoded data removed]",
      "text/plain": [
       "<Figure size 432x288 with 1 Axes>"
      ]
     },
     "metadata": {
      "needs_background": "light"
     },
     "output_type": "display_data"
    }
   ],
   "source": [
    "import matplotlib.pyplot as plt\n",
    "X_train.plot(kind=\"box\")\n",
    "plt.title(\"X_train\")\n",
    "plt.show()\n",
    "X_test.plot(kind=\"box\")\n",
    "plt.title(\"X_test\")\n",
    "plt.show()\n"
   ]
  },
  {
   "cell_type": "code",
   "execution_count": 46,
   "id": "c2ba5a67",
   "metadata": {},
   "outputs": [],
   "source": [
    "# 정규화\n",
    "from sklearn.preprocessing import MinMaxScaler\n",
    "\n",
    "scaler = MinMaxScaler()\n",
    "\n",
    "X_train_scaled = scaler.fit_transform(X_train)\n",
    "X_test_scaled = scaler.transform(X_test)\n"
   ]
  },
  {
   "cell_type": "code",
   "execution_count": 47,
   "id": "8a538986",
   "metadata": {
    "scrolled": true
   },
   "outputs": [
    {
     "data": {
      "text/plain": [
       "array([[0.80618557, 0.80428769, 0.80728802, 0.79576242, 0.08369851],\n",
       "       [0.80412371, 0.80152144, 0.80798879, 0.79437305, 0.06281613],\n",
       "       [0.79243986, 0.80359613, 0.80378416, 0.80270927, 0.38076729],\n",
       "       ...,\n",
       "       [2.64467354, 2.65698479, 2.66923616, 2.64571032, 0.06698841],\n",
       "       [2.63780069, 2.64661134, 2.64470918, 2.61097603, 0.08458059],\n",
       "       [2.58281787, 2.60511757, 2.61667835, 2.59013546, 0.06148479]])"
      ]
     },
     "execution_count": 47,
     "metadata": {},
     "output_type": "execute_result"
    }
   ],
   "source": [
    "X_test_scaled"
   ]
  },
  {
   "cell_type": "code",
   "execution_count": 48,
   "id": "f91bfa65",
   "metadata": {},
   "outputs": [
    {
     "name": "stderr",
     "output_type": "stream",
     "text": [
      "c:\\ai_source\\machinelearning\\venv\\lib\\site-packages\\sklearn\\neighbors\\_classification.py:198: DataConversionWarning: A column-vector y was passed when a 1d array was expected. Please change the shape of y to (n_samples,), for example using ravel().\n",
      "  return self._fit(X, y)\n"
     ]
    },
    {
     "data": {
      "text/plain": [
       "KNeighborsClassifier(n_neighbors=10)"
      ]
     },
     "execution_count": 48,
     "metadata": {},
     "output_type": "execute_result"
    }
   ],
   "source": [
    "# Model 생성 및 학습\n",
    "from sklearn.neighbors import KNeighborsClassifier\n",
    "\n",
    "model_KNN = KNeighborsClassifier(n_neighbors=10)\n",
    "model_KNN.fit(X_train_scaled, y_train)\n"
   ]
  },
  {
   "cell_type": "code",
   "execution_count": 49,
   "id": "d8f53e40",
   "metadata": {},
   "outputs": [
    {
     "data": {
      "text/plain": [
       "0.45126353790613716"
      ]
     },
     "execution_count": 49,
     "metadata": {},
     "output_type": "execute_result"
    }
   ],
   "source": [
    "# 예측 및 평가\n",
    "\n",
    "from sklearn.metrics import accuracy_score\n",
    "\n",
    "predict = model_KNN.predict(X_test_scaled)\n",
    "accuracy_score(y_test, predict)"
   ]
  },
  {
   "cell_type": "code",
   "execution_count": null,
   "id": "085204c6",
   "metadata": {},
   "outputs": [],
   "source": []
  },
  {
   "cell_type": "markdown",
   "id": "7aeae14b",
   "metadata": {},
   "source": [
    "# Decision Tree"
   ]
  },
  {
   "cell_type": "code",
   "execution_count": 96,
   "id": "b6ca7183",
   "metadata": {},
   "outputs": [],
   "source": [
    "# X_data: 전체 데이터에서 마지막 행(최근)을 제외한 전체 데이터를 저장\n",
    "# y_data: 다음날 종가 계산을 위해 1번째 행 부터 끝행 까지의 종가 저장\n",
    "# t_data: 당일 종가 와 익일 종가를 하나의 df로 만들어 비교후 upDown(0:하락, 1:=, 2:상승) 만 남긴다\n",
    "# \n",
    "\n",
    "X_data = data[:-1][:]\n",
    "y_data = pd.DataFrame(data['Close'][1:])\n",
    "y_data.index = y_data.index - 1\n",
    "\n",
    "t_data = pd.DataFrame(X_data['Close'])\n",
    "t_data['n_close'] = y_data\n",
    "t_data['up_down'] = \"\"\n",
    "\n",
    "t_data.loc[t_data[\"Close\"] > t_data[\"n_close\"], \"up_down\"] = 0\n",
    "t_data.loc[t_data[\"Close\"] == t_data[\"n_close\"], \"up_down\"] = 1\n",
    "t_data.loc[t_data[\"Close\"] < t_data[\"n_close\"], \"up_down\"] = 2\n",
    "t_data.drop([\"Close\", \"n_close\"], axis=1, inplace=True)\n",
    "t_data = t_data.astype(\"int\")\n",
    "\n",
    "X_data.drop(\"Date\", axis=1, inplace=True)"
   ]
  },
  {
   "cell_type": "code",
   "execution_count": 97,
   "id": "09ce9058",
   "metadata": {},
   "outputs": [],
   "source": [
    "# 데이터 분리\n",
    "from sklearn.model_selection import train_test_split\n",
    "\n",
    "X_train_scaled, X_test_scaled, y_train, y_test = train_test_split(X_data, t_data, shuffle=False, random_state=55)\n"
   ]
  },
  {
   "cell_type": "code",
   "execution_count": 98,
   "id": "3835e75e",
   "metadata": {},
   "outputs": [],
   "source": [
    "# 정규화\n",
    "from sklearn.preprocessing import StandardScaler\n",
    "\n",
    "ss = StandardScaler()\n",
    "\n",
    "X_train_scaled = ss.fit_transform(X_train)\n",
    "X_test_scaled = ss.transform(X_test)\n"
   ]
  },
  {
   "cell_type": "code",
   "execution_count": 99,
   "id": "cd63fc7f",
   "metadata": {
    "scrolled": true
   },
   "outputs": [
    {
     "name": "stdout",
     "output_type": "stream",
     "text": [
      "정확도: 0.4433212996389892\n"
     ]
    }
   ],
   "source": [
    "# Model 생성 및 학습\n",
    "from sklearn.tree import DecisionTreeClassifier\n",
    "\n",
    "model_dtree = DecisionTreeClassifier(max_depth=10)\n",
    "model_dtree.fit(X_train_scaled, y_train)\n",
    "\n",
    "print(f\"정확도: {model_dtree.score(X_test_scaled, y_test)}\")\n"
   ]
  },
  {
   "cell_type": "code",
   "execution_count": 100,
   "id": "cbc5fb95",
   "metadata": {
    "scrolled": false
   },
   "outputs": [
    {
     "name": "stdout",
     "output_type": "stream",
     "text": [
      "feature 중요도: [0.12760455 0.14171673 0.14549191 0.18461514 0.40057166]\n"
     ]
    },
    {
     "data": {
      "text/plain": [
       "(-1.0, 5.0)"
      ]
     },
     "execution_count": 100,
     "metadata": {},
     "output_type": "execute_result"
    },
    {
     "data": {
      "image/png": "[encoded data removed]",
      "text/plain": [
       "<Figure size 432x288 with 1 Axes>"
      ]
     },
     "metadata": {
      "needs_background": "light"
     },
     "output_type": "display_data"
    }
   ],
   "source": [
    "import matplotlib.pyplot as plt\n",
    "\n",
    "print(f\"feature 중요도: {model_dtree.feature_importances_}\")\n",
    "plt.rcParams['font.family'] = \"Malgun Gothic\"\n",
    "\n",
    "n_features = X_train_scaled.shape[1]\n",
    "plt.barh(np.arange(n_features), model_dtree.feature_importances_, align=\"center\")\n",
    "plt.yticks(np.arange(n_features), X_train.columns)\n",
    "plt.xlabel(\"피처 중요도\")\n",
    "plt.ylabel(\"피처\")\n",
    "plt.ylim(-1, n_features)\n"
   ]
  },
  {
   "cell_type": "code",
   "execution_count": 101,
   "id": "0c114978",
   "metadata": {
    "scrolled": true
   },
   "outputs": [
    {
     "data": {
      "image/png": "[encoded data removed]",
      "text/plain": [
       "<Figure size 720x360 with 1 Axes>"
      ]
     },
     "metadata": {
      "needs_background": "light"
     },
     "output_type": "display_data"
    }
   ],
   "source": [
    "from sklearn.tree import plot_tree\n",
    "\n",
    "plt.figure(figsize=(10, 5))\n",
    "plot_tree(model_dtree.fit(X_train_scaled, y_train))\n",
    "plt.show()"
   ]
  },
  {
   "cell_type": "code",
   "execution_count": null,
   "id": "66d65cab",
   "metadata": {},
   "outputs": [],
   "source": []
  },
  {
   "cell_type": "markdown",
   "id": "257a85e4",
   "metadata": {},
   "source": [
    "# RandomForest"
   ]
  },
  {
   "cell_type": "code",
   "execution_count": 102,
   "id": "93f5e36e",
   "metadata": {},
   "outputs": [],
   "source": [
    "X_data = data[:-1][:]\n",
    "y_data = pd.DataFrame(data['Close'][1:])\n",
    "y_data.index = y_data.index - 1\n",
    "\n",
    "t_data = pd.DataFrame(X_data['Close'])\n",
    "t_data['n_close'] = y_data\n",
    "t_data['up_down'] = \"\"\n",
    "\n",
    "t_data.loc[t_data[\"Close\"] > t_data[\"n_close\"], \"up_down\"] = 0\n",
    "t_data.loc[t_data[\"Close\"] == t_data[\"n_close\"], \"up_down\"] = 1\n",
    "t_data.loc[t_data[\"Close\"] < t_data[\"n_close\"], \"up_down\"] = 2\n",
    "t_data.drop([\"Close\", \"n_close\"], axis=1, inplace=True)\n",
    "t_data = t_data.astype(\"int\")\n",
    "\n",
    "X_data.drop(\"Date\", axis=1, inplace=True)\n"
   ]
  },
  {
   "cell_type": "code",
   "execution_count": 103,
   "id": "452a3872",
   "metadata": {},
   "outputs": [],
   "source": [
    "# 정규화\n",
    "from sklearn.preprocessing import StandardScaler\n",
    "\n",
    "scaler = StandardScaler()\n",
    "\n",
    "X_data_scaled = scaler.fit_transform(X_data)\n"
   ]
  },
  {
   "cell_type": "code",
   "execution_count": 104,
   "id": "309ad48c",
   "metadata": {},
   "outputs": [],
   "source": [
    "# 데이터 분리\n",
    "from sklearn.model_selection import train_test_split\n",
    "\n",
    "X_train_scaled, X_test_scaled, y_train, y_test = train_test_split(X_data_scaled, t_data, shuffle=False, random_state=55)\n"
   ]
  },
  {
   "cell_type": "markdown",
   "id": "d59bb4f6",
   "metadata": {},
   "source": [
    "# 정규화 않은 데이터\n",
    "X_train, X_test, y_train, y_test = train_test_split(X_data, t_data)"
   ]
  },
  {
   "cell_type": "code",
   "execution_count": 105,
   "id": "ba2b656f",
   "metadata": {},
   "outputs": [
    {
     "name": "stderr",
     "output_type": "stream",
     "text": [
      "c:\\ai_source\\machinelearning\\venv\\lib\\site-packages\\ipykernel_launcher.py:4: DataConversionWarning: A column-vector y was passed when a 1d array was expected. Please change the shape of y to (n_samples,), for example using ravel().\n",
      "  after removing the cwd from sys.path.\n"
     ]
    },
    {
     "data": {
      "text/plain": [
       "RandomForestClassifier()"
      ]
     },
     "execution_count": 105,
     "metadata": {},
     "output_type": "execute_result"
    }
   ],
   "source": [
    "from sklearn.ensemble import RandomForestClassifier\n",
    "\n",
    "model_rf = RandomForestClassifier(n_estimators=100)\n",
    "model_rf.fit(X_train, y_train)"
   ]
  },
  {
   "cell_type": "code",
   "execution_count": 106,
   "id": "7aa816a9",
   "metadata": {},
   "outputs": [
    {
     "name": "stdout",
     "output_type": "stream",
     "text": [
      "[0 0 2 ... 0 0 0]\n",
      "['up_down']\n"
     ]
    }
   ],
   "source": [
    "predict = model_rf.predict(X_test)\n",
    "print(predict)\n",
    "print(list(y_test))"
   ]
  },
  {
   "cell_type": "code",
   "execution_count": 107,
   "id": "b0836187",
   "metadata": {
    "scrolled": false
   },
   "outputs": [
    {
     "name": "stdout",
     "output_type": "stream",
     "text": [
      "              precision    recall  f1-score   support\n",
      "\n",
      "           0       0.45      0.99      0.62       621\n",
      "           1       0.00      0.00      0.00        62\n",
      "           2       0.70      0.02      0.04       702\n",
      "\n",
      "    accuracy                           0.45      1385\n",
      "   macro avg       0.38      0.34      0.22      1385\n",
      "weighted avg       0.56      0.45      0.30      1385\n",
      "\n"
     ]
    },
    {
     "name": "stderr",
     "output_type": "stream",
     "text": [
      "c:\\ai_source\\machinelearning\\venv\\lib\\site-packages\\sklearn\\metrics\\_classification.py:1318: UndefinedMetricWarning: Precision and F-score are ill-defined and being set to 0.0 in labels with no predicted samples. Use `zero_division` parameter to control this behavior.\n",
      "  _warn_prf(average, modifier, msg_start, len(result))\n",
      "c:\\ai_source\\machinelearning\\venv\\lib\\site-packages\\sklearn\\metrics\\_classification.py:1318: UndefinedMetricWarning: Precision and F-score are ill-defined and being set to 0.0 in labels with no predicted samples. Use `zero_division` parameter to control this behavior.\n",
      "  _warn_prf(average, modifier, msg_start, len(result))\n",
      "c:\\ai_source\\machinelearning\\venv\\lib\\site-packages\\sklearn\\metrics\\_classification.py:1318: UndefinedMetricWarning: Precision and F-score are ill-defined and being set to 0.0 in labels with no predicted samples. Use `zero_division` parameter to control this behavior.\n",
      "  _warn_prf(average, modifier, msg_start, len(result))\n"
     ]
    }
   ],
   "source": [
    "from sklearn.metrics import classification_report\n",
    "\n",
    "print(classification_report(y_test, predict))"
   ]
  },
  {
   "cell_type": "code",
   "execution_count": 108,
   "id": "bc2258d3",
   "metadata": {},
   "outputs": [
    {
     "name": "stdout",
     "output_type": "stream",
     "text": [
      "feature 중요도: [0.15047631 0.13210701 0.16554519 0.16554878 0.38632271]\n"
     ]
    },
    {
     "data": {
      "text/plain": [
       "(-1.0, 5.0)"
      ]
     },
     "execution_count": 108,
     "metadata": {},
     "output_type": "execute_result"
    },
    {
     "data": {
      "image/png": "[encoded data removed]",
      "text/plain": [
       "<Figure size 432x288 with 1 Axes>"
      ]
     },
     "metadata": {
      "needs_background": "light"
     },
     "output_type": "display_data"
    }
   ],
   "source": [
    "import matplotlib.pyplot as plt\n",
    "\n",
    "print(f\"feature 중요도: {model_dtree.feature_importances_}\")\n",
    "plt.rcParams['font.family'] = \"Malgun Gothic\"\n",
    "\n",
    "n_features = X_train_scaled.shape[1]\n",
    "plt.barh(np.arange(n_features), model_dtree.feature_importances_, align=\"center\")\n",
    "plt.yticks(np.arange(n_features), X_train.columns)\n",
    "plt.xlabel(\"피처 중요도\")\n",
    "plt.ylabel(\"피처\")\n",
    "plt.ylim(-1, n_features)"
   ]
  },
  {
   "cell_type": "code",
   "execution_count": null,
   "id": "c468bd2f",
   "metadata": {},
   "outputs": [],
   "source": []
  },
  {
   "cell_type": "markdown",
   "id": "3e4de342",
   "metadata": {},
   "source": [
    "# Naive Bayesian Classifier"
   ]
  },
  {
   "cell_type": "code",
   "execution_count": null,
   "id": "80577a12",
   "metadata": {},
   "outputs": [],
   "source": []
  },
  {
   "cell_type": "code",
   "execution_count": null,
   "id": "b417e25f",
   "metadata": {},
   "outputs": [],
   "source": []
  },
  {
   "cell_type": "code",
   "execution_count": null,
   "id": "17f2d3e3",
   "metadata": {},
   "outputs": [],
   "source": []
  },
  {
   "cell_type": "code",
   "execution_count": null,
   "id": "e5e15912",
   "metadata": {},
   "outputs": [],
   "source": []
  },
  {
   "cell_type": "code",
   "execution_count": null,
   "id": "69745c5f",
   "metadata": {},
   "outputs": [],
   "source": []
  },
  {
   "cell_type": "code",
   "execution_count": null,
   "id": "ce0a105b",
   "metadata": {},
   "outputs": [],
   "source": []
  },
  {
   "cell_type": "code",
   "execution_count": null,
   "id": "a01f100e",
   "metadata": {},
   "outputs": [],
   "source": []
  },
  {
   "cell_type": "code",
   "execution_count": null,
   "id": "482dcc93",
   "metadata": {},
   "outputs": [],
   "source": []
  }
 ],
 "metadata": {
  "kernelspec": {
   "display_name": "Python 3 (ipykernel)",
   "language": "python",
   "name": "python3"
  },
  "language_info": {
   "codemirror_mode": {
    "name": "ipython",
    "version": 3
   },
   "file_extension": ".py",
   "mimetype": "text/x-python",
   "name": "python",
   "nbconvert_exporter": "python",
   "pygments_lexer": "ipython3",
   "version": "3.7.9"
  }
 },
 "nbformat": 4,
 "nbformat_minor": 5
}
