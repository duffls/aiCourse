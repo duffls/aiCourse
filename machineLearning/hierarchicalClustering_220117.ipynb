{
 "cells": [
  {
   "cell_type": "code",
   "execution_count": 5,
   "id": "56c7e660",
   "metadata": {},
   "outputs": [],
   "source": [
    "import pandas as pd\n",
    "import numpy as np\n",
    "import matplotlib.pyplot as plt"
   ]
  },
  {
   "cell_type": "code",
   "execution_count": 3,
   "id": "514b3647",
   "metadata": {},
   "outputs": [
    {
     "name": "stdout",
     "output_type": "stream",
     "text": [
      "           X         Y\n",
      "점0  6.121702  1.690698\n",
      "점1  4.360590  7.692625\n",
      "점2  2.953253  1.491630\n",
      "점3  0.224783  4.202245\n",
      "점4  2.386821  3.376562\n"
     ]
    }
   ],
   "source": [
    "np.random.seed(111)\n",
    "var = ['X', 'Y']\n",
    "labels = ['점0','점1','점2','점3','점4']\n",
    "X = np.random.random_sample([5, 2]) * 10\n",
    "df = pd.DataFrame(X, columns=var, index=labels)\n",
    "print(df)"
   ]
  },
  {
   "cell_type": "code",
   "execution_count": 6,
   "id": "2bd78b75",
   "metadata": {},
   "outputs": [
    {
     "data": {
      "image/png": "[encoded data removed]",
      "text/plain": [
       "<Figure size 432x288 with 1 Axes>"
      ]
     },
     "metadata": {
      "needs_background": "light"
     },
     "output_type": "display_data"
    }
   ],
   "source": [
    "plt.rcParams[\"font.family\"] = 'Malgun Gothic'\n",
    "plt.scatter(X[:, 0], X[:, 1], c='blue', marker='o', s=50)\n",
    "plt.grid(True)\n",
    "plt.show()\n"
   ]
  },
  {
   "cell_type": "code",
   "execution_count": 10,
   "id": "2aa16541",
   "metadata": {
    "scrolled": true
   },
   "outputs": [
    {
     "name": "stdout",
     "output_type": "stream",
     "text": [
      "          점0        점1        점2        점3        점4\n",
      "점0  0.000000  6.254970  3.174696  6.409487  4.097740\n",
      "점1  6.254970  0.000000  6.358690  5.411807  4.745963\n",
      "점2  3.174696  6.358690  0.000000  3.846035  1.968201\n",
      "점3  6.409487  5.411807  3.846035  0.000000  2.314338\n",
      "점4  4.097740  4.745963  1.968201  2.314338  0.000000\n"
     ]
    },
    {
     "data": {
      "text/html": [
       "<div>\n",
       "<style scoped>\n",
       "    .dataframe tbody tr th:only-of-type {\n",
       "        vertical-align: middle;\n",
       "    }\n",
       "\n",
       "    .dataframe tbody tr th {\n",
       "        vertical-align: top;\n",
       "    }\n",
       "\n",
       "    .dataframe thead th {\n",
       "        text-align: right;\n",
       "    }\n",
       "</style>\n",
       "<table border=\"1\" class=\"dataframe\">\n",
       "  <thead>\n",
       "    <tr style=\"text-align: right;\">\n",
       "      <th></th>\n",
       "      <th>점0</th>\n",
       "      <th>점1</th>\n",
       "      <th>점2</th>\n",
       "      <th>점3</th>\n",
       "      <th>점4</th>\n",
       "    </tr>\n",
       "  </thead>\n",
       "  <tbody>\n",
       "    <tr>\n",
       "      <th>점0</th>\n",
       "      <td>0.000000</td>\n",
       "      <td>6.254970</td>\n",
       "      <td>3.174696</td>\n",
       "      <td>6.409487</td>\n",
       "      <td>4.097740</td>\n",
       "    </tr>\n",
       "    <tr>\n",
       "      <th>점1</th>\n",
       "      <td>6.254970</td>\n",
       "      <td>0.000000</td>\n",
       "      <td>6.358690</td>\n",
       "      <td>5.411807</td>\n",
       "      <td>4.745963</td>\n",
       "    </tr>\n",
       "    <tr>\n",
       "      <th>점2</th>\n",
       "      <td>3.174696</td>\n",
       "      <td>6.358690</td>\n",
       "      <td>0.000000</td>\n",
       "      <td>3.846035</td>\n",
       "      <td>1.968201</td>\n",
       "    </tr>\n",
       "    <tr>\n",
       "      <th>점3</th>\n",
       "      <td>6.409487</td>\n",
       "      <td>5.411807</td>\n",
       "      <td>3.846035</td>\n",
       "      <td>0.000000</td>\n",
       "      <td>2.314338</td>\n",
       "    </tr>\n",
       "    <tr>\n",
       "      <th>점4</th>\n",
       "      <td>4.097740</td>\n",
       "      <td>4.745963</td>\n",
       "      <td>1.968201</td>\n",
       "      <td>2.314338</td>\n",
       "      <td>0.000000</td>\n",
       "    </tr>\n",
       "  </tbody>\n",
       "</table>\n",
       "</div>"
      ],
      "text/plain": [
       "          점0        점1        점2        점3        점4\n",
       "점0  0.000000  6.254970  3.174696  6.409487  4.097740\n",
       "점1  6.254970  0.000000  6.358690  5.411807  4.745963\n",
       "점2  3.174696  6.358690  0.000000  3.846035  1.968201\n",
       "점3  6.409487  5.411807  3.846035  0.000000  2.314338\n",
       "점4  4.097740  4.745963  1.968201  2.314338  0.000000"
      ]
     },
     "execution_count": 10,
     "metadata": {},
     "output_type": "execute_result"
    }
   ],
   "source": [
    "from scipy.spatial.distance import pdist, squareform\n",
    "distmatrix = pdist(df, metric='euclidean') # 두 점 사이의 거리 계산\n",
    "row_dist = pd.DataFrame(squareform(distmatrix), columns=labels, index=labels)\n",
    "print(row_dist) # 두점 사이 거리 계산값 출력\n",
    "row_dist"
   ]
  },
  {
   "cell_type": "markdown",
   "id": "aaea8416",
   "metadata": {},
   "source": [
    "# Complete"
   ]
  },
  {
   "cell_type": "code",
   "execution_count": 8,
   "id": "a2e296fe",
   "metadata": {},
   "outputs": [
    {
     "data": {
      "text/plain": [
       "array([[2.        , 4.        , 1.96820089, 2.        ],\n",
       "       [3.        , 5.        , 3.84603471, 3.        ],\n",
       "       [0.        , 1.        , 6.25496953, 2.        ],\n",
       "       [6.        , 7.        , 6.40948658, 5.        ]])"
      ]
     },
     "execution_count": 8,
     "metadata": {},
     "output_type": "execute_result"
    }
   ],
   "source": [
    "from scipy.cluster.hierarchy import linkage # linkage() : 응집형 계층적 클러스터링 수행\n",
    "row_clusters = linkage(distmatrix, method='complete')\n",
    "row_clusters"
   ]
  },
  {
   "cell_type": "code",
   "execution_count": 9,
   "id": "4de929c2",
   "metadata": {},
   "outputs": [
    {
     "data": {
      "text/html": [
       "<div>\n",
       "<style scoped>\n",
       "    .dataframe tbody tr th:only-of-type {\n",
       "        vertical-align: middle;\n",
       "    }\n",
       "\n",
       "    .dataframe tbody tr th {\n",
       "        vertical-align: top;\n",
       "    }\n",
       "\n",
       "    .dataframe thead th {\n",
       "        text-align: right;\n",
       "    }\n",
       "</style>\n",
       "<table border=\"1\" class=\"dataframe\">\n",
       "  <thead>\n",
       "    <tr style=\"text-align: right;\">\n",
       "      <th></th>\n",
       "      <th>클러스터ID_1</th>\n",
       "      <th>클러스터ID_2</th>\n",
       "      <th>거리</th>\n",
       "      <th>클러스터 멤버수</th>\n",
       "    </tr>\n",
       "  </thead>\n",
       "  <tbody>\n",
       "    <tr>\n",
       "      <th>클러스터 1</th>\n",
       "      <td>2.0</td>\n",
       "      <td>4.0</td>\n",
       "      <td>1.968201</td>\n",
       "      <td>2.0</td>\n",
       "    </tr>\n",
       "    <tr>\n",
       "      <th>클러스터 2</th>\n",
       "      <td>3.0</td>\n",
       "      <td>5.0</td>\n",
       "      <td>3.846035</td>\n",
       "      <td>3.0</td>\n",
       "    </tr>\n",
       "    <tr>\n",
       "      <th>클러스터 3</th>\n",
       "      <td>0.0</td>\n",
       "      <td>1.0</td>\n",
       "      <td>6.254970</td>\n",
       "      <td>2.0</td>\n",
       "    </tr>\n",
       "    <tr>\n",
       "      <th>클러스터 4</th>\n",
       "      <td>6.0</td>\n",
       "      <td>7.0</td>\n",
       "      <td>6.409487</td>\n",
       "      <td>5.0</td>\n",
       "    </tr>\n",
       "  </tbody>\n",
       "</table>\n",
       "</div>"
      ],
      "text/plain": [
       "        클러스터ID_1  클러스터ID_2        거리  클러스터 멤버수\n",
       "클러스터 1       2.0       4.0  1.968201       2.0\n",
       "클러스터 2       3.0       5.0  3.846035       3.0\n",
       "클러스터 3       0.0       1.0  6.254970       2.0\n",
       "클러스터 4       6.0       7.0  6.409487       5.0"
      ]
     },
     "execution_count": 9,
     "metadata": {},
     "output_type": "execute_result"
    }
   ],
   "source": [
    "pd.DataFrame(row_clusters, columns=['클러스터ID_1', '클러스터ID_2', '거리', '클러스터 멤버수'],\n",
    " index=['클러스터 %d' % (i+1) for i in range(row_clusters.shape[0])])\n"
   ]
  },
  {
   "cell_type": "code",
   "execution_count": 11,
   "id": "56c141b1",
   "metadata": {},
   "outputs": [
    {
     "data": {
      "image/png": "[encoded data removed]",
      "text/plain": [
       "<Figure size 432x288 with 1 Axes>"
      ]
     },
     "metadata": {
      "needs_background": "light"
     },
     "output_type": "display_data"
    }
   ],
   "source": [
    "from scipy.cluster.hierarchy import dendrogram # dendrogram() : 클러스터의 계층 구조를 표현\n",
    "row_dendrogram = dendrogram(row_clusters, labels=labels)\n",
    "plt.rcParams[\"font.family\"] = 'Malgun Gothic'\n",
    "plt.tight_layout()\n",
    "plt.ylabel('유클리드 거리')\n",
    "plt.show()\n"
   ]
  },
  {
   "cell_type": "code",
   "execution_count": 17,
   "id": "f910b701",
   "metadata": {},
   "outputs": [
    {
     "name": "stdout",
     "output_type": "stream",
     "text": [
      "클러스터 분류 결과 : [2 1 0 0 0]\n"
     ]
    }
   ],
   "source": [
    "# AgglomerativeClustering Parameters\n",
    "# n_clusters: 클러스터 개수\n",
    "# affinity: 거리 함수의 정의\n",
    "# linkage: 연결 기준 옵션\n",
    "\n",
    "from sklearn.cluster import AgglomerativeClustering\n",
    "# n_clusters : 최종 클러스터 개수\n",
    "ac = AgglomerativeClustering(n_clusters=3, affinity='euclidean', linkage='complete')\n",
    "labels = ac.fit_predict(X)\n",
    "print('클러스터 분류 결과 :', labels)\n"
   ]
  },
  {
   "cell_type": "markdown",
   "id": "03f17d47",
   "metadata": {},
   "source": [
    "# Single"
   ]
  },
  {
   "cell_type": "code",
   "execution_count": 13,
   "id": "f3f88e27",
   "metadata": {},
   "outputs": [
    {
     "data": {
      "text/plain": [
       "array([[2.        , 4.        , 1.96820089, 2.        ],\n",
       "       [3.        , 5.        , 2.31433823, 3.        ],\n",
       "       [0.        , 6.        , 3.1746961 , 4.        ],\n",
       "       [1.        , 7.        , 4.74596264, 5.        ]])"
      ]
     },
     "execution_count": 13,
     "metadata": {},
     "output_type": "execute_result"
    }
   ],
   "source": [
    "from scipy.cluster.hierarchy import linkage # linkage() : 응집형 계층적 클러스터링 수행\n",
    "row_clusters2 = linkage(distmatrix, method='single')\n",
    "row_clusters2"
   ]
  },
  {
   "cell_type": "code",
   "execution_count": 14,
   "id": "6d302e94",
   "metadata": {},
   "outputs": [
    {
     "data": {
      "text/html": [
       "<div>\n",
       "<style scoped>\n",
       "    .dataframe tbody tr th:only-of-type {\n",
       "        vertical-align: middle;\n",
       "    }\n",
       "\n",
       "    .dataframe tbody tr th {\n",
       "        vertical-align: top;\n",
       "    }\n",
       "\n",
       "    .dataframe thead th {\n",
       "        text-align: right;\n",
       "    }\n",
       "</style>\n",
       "<table border=\"1\" class=\"dataframe\">\n",
       "  <thead>\n",
       "    <tr style=\"text-align: right;\">\n",
       "      <th></th>\n",
       "      <th>클러스터ID_1</th>\n",
       "      <th>클러스터ID_2</th>\n",
       "      <th>거리</th>\n",
       "      <th>클러스터 멤버수</th>\n",
       "    </tr>\n",
       "  </thead>\n",
       "  <tbody>\n",
       "    <tr>\n",
       "      <th>클러스터 1</th>\n",
       "      <td>2.0</td>\n",
       "      <td>4.0</td>\n",
       "      <td>1.968201</td>\n",
       "      <td>2.0</td>\n",
       "    </tr>\n",
       "    <tr>\n",
       "      <th>클러스터 2</th>\n",
       "      <td>3.0</td>\n",
       "      <td>5.0</td>\n",
       "      <td>2.314338</td>\n",
       "      <td>3.0</td>\n",
       "    </tr>\n",
       "    <tr>\n",
       "      <th>클러스터 3</th>\n",
       "      <td>0.0</td>\n",
       "      <td>6.0</td>\n",
       "      <td>3.174696</td>\n",
       "      <td>4.0</td>\n",
       "    </tr>\n",
       "    <tr>\n",
       "      <th>클러스터 4</th>\n",
       "      <td>1.0</td>\n",
       "      <td>7.0</td>\n",
       "      <td>4.745963</td>\n",
       "      <td>5.0</td>\n",
       "    </tr>\n",
       "  </tbody>\n",
       "</table>\n",
       "</div>"
      ],
      "text/plain": [
       "        클러스터ID_1  클러스터ID_2        거리  클러스터 멤버수\n",
       "클러스터 1       2.0       4.0  1.968201       2.0\n",
       "클러스터 2       3.0       5.0  2.314338       3.0\n",
       "클러스터 3       0.0       6.0  3.174696       4.0\n",
       "클러스터 4       1.0       7.0  4.745963       5.0"
      ]
     },
     "execution_count": 14,
     "metadata": {},
     "output_type": "execute_result"
    }
   ],
   "source": [
    "pd.DataFrame(row_clusters2, columns=['클러스터ID_1', '클러스터ID_2', '거리', '클러스터 멤버수'],\n",
    " index=['클러스터 %d' % (i+1) for i in range(row_clusters.shape[0])])\n"
   ]
  },
  {
   "cell_type": "code",
   "execution_count": 15,
   "id": "94e911ae",
   "metadata": {},
   "outputs": [
    {
     "data": {
      "image/png": "[encoded data removed]",
      "text/plain": [
       "<Figure size 432x288 with 1 Axes>"
      ]
     },
     "metadata": {
      "needs_background": "light"
     },
     "output_type": "display_data"
    }
   ],
   "source": [
    "from scipy.cluster.hierarchy import dendrogram # dendrogram() : 클러스터의 계층 구조를 표현\n",
    "row_dendrogram = dendrogram(row_clusters2, labels=labels)\n",
    "plt.rcParams[\"font.family\"] = 'Malgun Gothic'\n",
    "plt.tight_layout()\n",
    "plt.ylabel('유클리드 거리')\n",
    "plt.show()\n"
   ]
  },
  {
   "cell_type": "code",
   "execution_count": 19,
   "id": "6a972e00",
   "metadata": {},
   "outputs": [
    {
     "name": "stdout",
     "output_type": "stream",
     "text": [
      "클러스터 분류 결과 : [0 1 0 0 0]\n"
     ]
    }
   ],
   "source": [
    "from sklearn.cluster import AgglomerativeClustering\n",
    "# n_clusters : 최종 클러스터 개수\n",
    "ac = AgglomerativeClustering(n_clusters=2, affinity='euclidean', linkage='single')\n",
    "labels = ac.fit_predict(X)\n",
    "print('클러스터 분류 결과 :', labels)\n"
   ]
  },
  {
   "cell_type": "markdown",
   "id": "094fe027",
   "metadata": {},
   "source": [
    "# iris data"
   ]
  },
  {
   "cell_type": "code",
   "execution_count": 20,
   "id": "c1507f42",
   "metadata": {},
   "outputs": [
    {
     "data": {
      "text/html": [
       "<div>\n",
       "<style scoped>\n",
       "    .dataframe tbody tr th:only-of-type {\n",
       "        vertical-align: middle;\n",
       "    }\n",
       "\n",
       "    .dataframe tbody tr th {\n",
       "        vertical-align: top;\n",
       "    }\n",
       "\n",
       "    .dataframe thead th {\n",
       "        text-align: right;\n",
       "    }\n",
       "</style>\n",
       "<table border=\"1\" class=\"dataframe\">\n",
       "  <thead>\n",
       "    <tr style=\"text-align: right;\">\n",
       "      <th></th>\n",
       "      <th>Sepal.Length</th>\n",
       "      <th>Sepal.Width</th>\n",
       "      <th>Petal.Length</th>\n",
       "      <th>Petal.Width</th>\n",
       "      <th>Species</th>\n",
       "    </tr>\n",
       "  </thead>\n",
       "  <tbody>\n",
       "    <tr>\n",
       "      <th>0</th>\n",
       "      <td>5.1</td>\n",
       "      <td>3.5</td>\n",
       "      <td>1.4</td>\n",
       "      <td>0.2</td>\n",
       "      <td>setosa</td>\n",
       "    </tr>\n",
       "    <tr>\n",
       "      <th>1</th>\n",
       "      <td>4.9</td>\n",
       "      <td>3.0</td>\n",
       "      <td>1.4</td>\n",
       "      <td>0.2</td>\n",
       "      <td>setosa</td>\n",
       "    </tr>\n",
       "    <tr>\n",
       "      <th>2</th>\n",
       "      <td>4.7</td>\n",
       "      <td>3.2</td>\n",
       "      <td>1.3</td>\n",
       "      <td>0.2</td>\n",
       "      <td>setosa</td>\n",
       "    </tr>\n",
       "    <tr>\n",
       "      <th>3</th>\n",
       "      <td>4.6</td>\n",
       "      <td>3.1</td>\n",
       "      <td>1.5</td>\n",
       "      <td>0.2</td>\n",
       "      <td>setosa</td>\n",
       "    </tr>\n",
       "    <tr>\n",
       "      <th>4</th>\n",
       "      <td>5.0</td>\n",
       "      <td>3.6</td>\n",
       "      <td>1.4</td>\n",
       "      <td>0.2</td>\n",
       "      <td>setosa</td>\n",
       "    </tr>\n",
       "    <tr>\n",
       "      <th>...</th>\n",
       "      <td>...</td>\n",
       "      <td>...</td>\n",
       "      <td>...</td>\n",
       "      <td>...</td>\n",
       "      <td>...</td>\n",
       "    </tr>\n",
       "    <tr>\n",
       "      <th>145</th>\n",
       "      <td>6.7</td>\n",
       "      <td>3.0</td>\n",
       "      <td>5.2</td>\n",
       "      <td>2.3</td>\n",
       "      <td>virginica</td>\n",
       "    </tr>\n",
       "    <tr>\n",
       "      <th>146</th>\n",
       "      <td>6.3</td>\n",
       "      <td>2.5</td>\n",
       "      <td>5.0</td>\n",
       "      <td>1.9</td>\n",
       "      <td>virginica</td>\n",
       "    </tr>\n",
       "    <tr>\n",
       "      <th>147</th>\n",
       "      <td>6.5</td>\n",
       "      <td>3.0</td>\n",
       "      <td>5.2</td>\n",
       "      <td>2.0</td>\n",
       "      <td>virginica</td>\n",
       "    </tr>\n",
       "    <tr>\n",
       "      <th>148</th>\n",
       "      <td>6.2</td>\n",
       "      <td>3.4</td>\n",
       "      <td>5.4</td>\n",
       "      <td>2.3</td>\n",
       "      <td>virginica</td>\n",
       "    </tr>\n",
       "    <tr>\n",
       "      <th>149</th>\n",
       "      <td>5.9</td>\n",
       "      <td>3.0</td>\n",
       "      <td>5.1</td>\n",
       "      <td>1.8</td>\n",
       "      <td>virginica</td>\n",
       "    </tr>\n",
       "  </tbody>\n",
       "</table>\n",
       "<p>150 rows × 5 columns</p>\n",
       "</div>"
      ],
      "text/plain": [
       "     Sepal.Length  Sepal.Width  Petal.Length  Petal.Width    Species\n",
       "0             5.1          3.5           1.4          0.2     setosa\n",
       "1             4.9          3.0           1.4          0.2     setosa\n",
       "2             4.7          3.2           1.3          0.2     setosa\n",
       "3             4.6          3.1           1.5          0.2     setosa\n",
       "4             5.0          3.6           1.4          0.2     setosa\n",
       "..            ...          ...           ...          ...        ...\n",
       "145           6.7          3.0           5.2          2.3  virginica\n",
       "146           6.3          2.5           5.0          1.9  virginica\n",
       "147           6.5          3.0           5.2          2.0  virginica\n",
       "148           6.2          3.4           5.4          2.3  virginica\n",
       "149           5.9          3.0           5.1          1.8  virginica\n",
       "\n",
       "[150 rows x 5 columns]"
      ]
     },
     "execution_count": 20,
     "metadata": {},
     "output_type": "execute_result"
    }
   ],
   "source": [
    "# iris 데이터 로드\n",
    "import statsmodels.api as sm\n",
    "iris = sm.datasets.get_rdataset(\"iris\", package=\"datasets\")\n",
    "iris_df = iris.data\n",
    "iris_df"
   ]
  },
  {
   "cell_type": "code",
   "execution_count": 21,
   "id": "95cc7567",
   "metadata": {},
   "outputs": [
    {
     "data": {
      "text/plain": [
       "0      0\n",
       "1      0\n",
       "2      0\n",
       "3      0\n",
       "4      0\n",
       "      ..\n",
       "145    2\n",
       "146    2\n",
       "147    2\n",
       "148    2\n",
       "149    2\n",
       "Name: Species, Length: 150, dtype: int32"
      ]
     },
     "execution_count": 21,
     "metadata": {},
     "output_type": "execute_result"
    }
   ],
   "source": [
    "# 레이블 인코딩(setosa:0 ~ virginica:2)\n",
    "from sklearn.preprocessing import LabelEncoder\n",
    "le = LabelEncoder()\n",
    "le.fit(iris_df.Species)\n",
    "iris_df.Species = le.transform(iris_df.Species)\n",
    "iris_df.Species\n"
   ]
  },
  {
   "cell_type": "code",
   "execution_count": 22,
   "id": "5d5e3c0e",
   "metadata": {},
   "outputs": [
    {
     "data": {
      "image/png": "[encoded data removed]",
      "text/plain": [
       "<Figure size 432x288 with 1 Axes>"
      ]
     },
     "metadata": {
      "needs_background": "light"
     },
     "output_type": "display_data"
    },
    {
     "data": {
      "image/png": "[encoded data removed]",
      "text/plain": [
       "<Figure size 432x288 with 1 Axes>"
      ]
     },
     "metadata": {
      "needs_background": "light"
     },
     "output_type": "display_data"
    }
   ],
   "source": [
    "# Scikit-learn 패키지 사용\n",
    "from sklearn.cluster import AgglomerativeClustering\n",
    "#linkage = ['complete', 'average', 'ward'] # Centroid, Median은 오류 발생\n",
    "linkage = ['single', 'complete']\n",
    "for idx, i in enumerate(linkage):\n",
    "    plt.figure(idx)\n",
    "    hier = AgglomerativeClustering(n_clusters=3, affinity='euclidean', linkage=i)\n",
    "    # 'petal length'와 'petal width' column을 사용\n",
    "    hier.fit(iris_df.iloc[:, 2:4])\n",
    "    plt.scatter(iris_df.iloc[:, 2], iris_df.iloc[:, 3], c=hier.labels_)\n",
    "    plt.title('Clustering : ' + i)\n",
    "    plt.xlabel('petal length')\n",
    "    plt.ylabel('petal width')\n",
    "plt.show()\n"
   ]
  },
  {
   "cell_type": "code",
   "execution_count": 24,
   "id": "c9c5886c",
   "metadata": {},
   "outputs": [
    {
     "data": {
      "text/plain": [
       "<matplotlib.collections.PathCollection at 0x16dbdd1e908>"
      ]
     },
     "execution_count": 24,
     "metadata": {},
     "output_type": "execute_result"
    },
    {
     "data": {
      "image/png": "[encoded data removed]",
      "text/plain": [
       "<Figure size 432x288 with 1 Axes>"
      ]
     },
     "metadata": {
      "needs_background": "light"
     },
     "output_type": "display_data"
    }
   ],
   "source": [
    "plt.scatter(iris_df.iloc[:, 2], iris_df.iloc[:, 3], c=iris_df.iloc[:, 4])\n"
   ]
  },
  {
   "cell_type": "code",
   "execution_count": 23,
   "id": "eff2045c",
   "metadata": {},
   "outputs": [
    {
     "data": {
      "image/png": "[encoded data removed]",
      "text/plain": [
       "<Figure size 2880x1440 with 1 Axes>"
      ]
     },
     "metadata": {
      "needs_background": "light"
     },
     "output_type": "display_data"
    }
   ],
   "source": [
    "# 계층적 군집 실행\n",
    "from scipy.cluster.hierarchy import linkage\n",
    "from scipy.cluster.hierarchy import dendrogram\n",
    "import matplotlib.pyplot as plt\n",
    "clustering = linkage(iris_df, method='complete')\n",
    "plt.figure(figsize=(40,20))\n",
    "dendrogram(clustering)# 덴드로그램으로 표현\n",
    "plt.show()\n"
   ]
  },
  {
   "cell_type": "code",
   "execution_count": 26,
   "id": "2af9aaa4",
   "metadata": {},
   "outputs": [
    {
     "data": {
      "text/plain": [
       "array([1, 1, 1, 1, 1, 1, 1, 1, 1, 1, 1, 1, 1, 1, 1, 1, 1, 1, 1, 1, 1, 1,\n",
       "       1, 1, 1, 1, 1, 1, 1, 1, 1, 1, 1, 1, 1, 1, 1, 1, 1, 1, 1, 1, 1, 1,\n",
       "       1, 1, 1, 1, 1, 1, 3, 3, 3, 3, 3, 3, 3, 3, 3, 3, 3, 3, 3, 3, 3, 3,\n",
       "       3, 3, 3, 3, 3, 3, 3, 3, 3, 3, 3, 3, 3, 3, 3, 3, 3, 3, 3, 3, 3, 3,\n",
       "       3, 3, 3, 3, 3, 3, 3, 3, 3, 3, 3, 3, 2, 3, 2, 2, 2, 2, 3, 2, 2, 2,\n",
       "       2, 3, 2, 3, 3, 2, 2, 2, 2, 3, 2, 3, 2, 3, 2, 2, 3, 3, 2, 2, 2, 2,\n",
       "       2, 3, 3, 2, 2, 2, 3, 2, 2, 2, 3, 2, 2, 2, 3, 2, 2, 3], dtype=int32)"
      ]
     },
     "execution_count": 26,
     "metadata": {},
     "output_type": "execute_result"
    }
   ],
   "source": [
    "from scipy.cluster.hierarchy import fcluster\n",
    "# clustering : linkage()명령을 수행한 데이터. \n",
    "predict = fcluster(clustering, 3, criterion='distance') \n",
    "predict\n"
   ]
  },
  {
   "cell_type": "code",
   "execution_count": 29,
   "id": "55f32c94",
   "metadata": {},
   "outputs": [
    {
     "data": {
      "text/plain": [
       "array([0, 0, 0, 0, 0, 0, 0, 0, 0, 0, 0, 0, 0, 0, 0, 0, 0, 0, 0, 0, 0, 0,\n",
       "       0, 0, 0, 0, 0, 0, 0, 0, 0, 0, 0, 0, 0, 0, 0, 0, 0, 0, 0, 0, 0, 0,\n",
       "       0, 0, 0, 0, 0, 0, 1, 1, 1, 1, 1, 1, 1, 1, 1, 1, 1, 1, 1, 1, 1, 1,\n",
       "       1, 1, 1, 1, 1, 1, 1, 1, 1, 1, 1, 1, 1, 1, 1, 1, 1, 1, 1, 1, 1, 1,\n",
       "       1, 1, 1, 1, 1, 1, 1, 1, 1, 1, 1, 1, 2, 1, 2, 2, 2, 2, 1, 2, 2, 2,\n",
       "       2, 1, 2, 1, 1, 2, 2, 2, 2, 1, 2, 1, 2, 1, 2, 2, 1, 1, 2, 2, 2, 2,\n",
       "       2, 1, 1, 2, 2, 2, 1, 2, 2, 2, 1, 2, 2, 2, 1, 2, 2, 1], dtype=int64)"
      ]
     },
     "execution_count": 29,
     "metadata": {},
     "output_type": "execute_result"
    }
   ],
   "source": [
    "# 클러스터링 할당 번호 재조정([1,3,2] -> [2,0,1])\n",
    "import numpy as np\n",
    "adjusted_pred = np.choose((predict-1), [0, 2, 1]).astype(np.int64)\n",
    "adjusted_pred\n"
   ]
  },
  {
   "cell_type": "code",
   "execution_count": 30,
   "id": "4758990b",
   "metadata": {},
   "outputs": [
    {
     "name": "stdout",
     "output_type": "stream",
     "text": [
      "Predicted   setosa  versicolor  virginica  All\n",
      "True                                          \n",
      "setosa          50           0          0   50\n",
      "versicolor       0          50          0   50\n",
      "virginica        0          16         34   50\n",
      "All             50          66         34  150\n"
     ]
    }
   ],
   "source": [
    "# 교차분류표 출력\n",
    "import pandas as pd\n",
    "# 0 -> 'setosa', 1 -> 'versicolor', 2 -> 'virginica'로 변환\n",
    "pred_name = le.inverse_transform(adjusted_pred) \n",
    "origin_name = le.inverse_transform(iris_df.Species.values)\n",
    "ct = pd.crosstab(origin_name, pred_name, rownames=[\"True\"], colnames=[\"Predicted\"], margins=True)\n",
    "print(ct)\n"
   ]
  },
  {
   "cell_type": "code",
   "execution_count": 31,
   "id": "f522439f",
   "metadata": {
    "scrolled": true
   },
   "outputs": [
    {
     "data": {
      "image/png": "[encoded data removed]",
      "text/plain": [
       "<Figure size 432x288 with 1 Axes>"
      ]
     },
     "metadata": {
      "needs_background": "light"
     },
     "output_type": "display_data"
    }
   ],
   "source": [
    "import seaborn as sns\n",
    "ax = sns.scatterplot(x=\"Petal.Length\", y=\"Petal.Width\", hue=le.inverse_transform(adjusted_pred), \n",
    "                     style=le.inverse_transform(adjusted_pred), data=iris_df)\n"
   ]
  },
  {
   "cell_type": "markdown",
   "id": "3e01998d",
   "metadata": {},
   "source": [
    "# BMI 사용 예"
   ]
  },
  {
   "cell_type": "code",
   "execution_count": 59,
   "id": "4d3af325",
   "metadata": {},
   "outputs": [
    {
     "data": {
      "text/plain": [
       "array(['fat', 'normal', 'thin'], dtype=object)"
      ]
     },
     "execution_count": 59,
     "metadata": {},
     "output_type": "execute_result"
    }
   ],
   "source": [
    "import pandas as pd\n",
    "\n",
    "df = pd.read_csv('bmi.csv')\n",
    "df = df.head(100)\n",
    "\n",
    "data = df.iloc[:100, :]\n",
    "l_data = data\n",
    "\n",
    "# 레이블 인코딩(fat:0 ~ thin:2)\n",
    "from sklearn.preprocessing import LabelEncoder\n",
    "\n",
    "le = LabelEncoder()\n",
    "\n",
    "le.fit(data.label)\n",
    "data.label = le.transform(data.label)\n",
    "data\n",
    "le.classes_"
   ]
  },
  {
   "cell_type": "code",
   "execution_count": 60,
   "id": "627c6b99",
   "metadata": {},
   "outputs": [
    {
     "data": {
      "text/plain": [
       "(100, 2)"
      ]
     },
     "execution_count": 60,
     "metadata": {},
     "output_type": "execute_result"
    }
   ],
   "source": [
    "target = data['label']\n",
    "data = data.drop(['label'], axis = 1)\n",
    "print(data.shape)"
   ]
  },
  {
   "cell_type": "code",
   "execution_count": 61,
   "id": "74080276",
   "metadata": {},
   "outputs": [
    {
     "data": {
      "image/png": "[encoded data removed]",
      "text/plain": [
       "<Figure size 432x288 with 1 Axes>"
      ]
     },
     "metadata": {
      "needs_background": "light"
     },
     "output_type": "display_data"
    }
   ],
   "source": [
    "import seaborn as sns\n",
    "\n",
    "ax = sns.scatterplot(x='height', y='weight', hue=le.inverse_transform(target),\n",
    "                     style=le.inverse_transform(target), data=data)"
   ]
  },
  {
   "cell_type": "code",
   "execution_count": 69,
   "id": "aa82e671",
   "metadata": {},
   "outputs": [
    {
     "data": {
      "image/png": "[encoded data removed]",
      "text/plain": [
       "<Figure size 1152x648 with 1 Axes>"
      ]
     },
     "metadata": {
      "needs_background": "light"
     },
     "output_type": "display_data"
    }
   ],
   "source": [
    "# 계층적 군집 실행\n",
    "from scipy.cluster.hierarchy import linkage, dendrogram\n",
    "import matplotlib.pyplot as plt\n",
    "\n",
    "cluster_complete = linkage(data, method='complete', metric='euclidean')\n",
    "plt.figure(figsize=(16, 9))\n",
    "dg = dendrogram(cluster_complete)\n",
    "#plt.show()\n"
   ]
  },
  {
   "cell_type": "code",
   "execution_count": 72,
   "id": "57342bae",
   "metadata": {},
   "outputs": [
    {
     "data": {
      "text/plain": [
       "array([1, 1, 2, 3, 2, 3, 2, 3, 3, 3, 1, 1, 3, 3, 1, 2, 1, 1, 2, 1, 1, 3,\n",
       "       2, 2, 3, 1, 3, 1, 1, 3, 2, 2, 1, 2, 3, 1, 2, 1, 1, 1, 2, 3, 1, 1,\n",
       "       3, 2, 2, 3, 2, 2, 2, 3, 3, 2, 3, 2, 2, 2, 1, 1, 3, 1, 2, 1, 1, 2,\n",
       "       1, 3, 2, 1, 1, 3, 2, 1, 3, 1, 2, 2, 2, 1, 1, 2, 1, 3, 1, 1, 1, 2,\n",
       "       1, 2, 1, 3, 2, 2, 3, 1, 1, 3, 3, 1], dtype=int32)"
      ]
     },
     "execution_count": 72,
     "metadata": {},
     "output_type": "execute_result"
    }
   ],
   "source": [
    "from scipy.cluster.hierarchy import fcluster\n",
    "\n",
    "# #########################  ####### 이걸로 조정 This is what it is\n",
    "predict = fcluster(cluster_complete, 55, criterion='distance')\n",
    "predict\n"
   ]
  },
  {
   "cell_type": "code",
   "execution_count": 74,
   "id": "b74b4a41",
   "metadata": {},
   "outputs": [
    {
     "data": {
      "text/plain": [
       "array([0, 0, 1, 2, 1, 2, 1, 2, 2, 2, 0, 0, 2, 2, 0, 1, 0, 0, 1, 0, 0, 2,\n",
       "       1, 1, 2, 0, 2, 0, 0, 2, 1, 1, 0, 1, 2, 0, 1, 0, 0, 0, 1, 2, 0, 0,\n",
       "       2, 1, 1, 2, 1, 1, 1, 2, 2, 1, 2, 1, 1, 1, 0, 0, 2, 0, 1, 0, 0, 1,\n",
       "       0, 2, 1, 0, 0, 2, 1, 0, 2, 0, 1, 1, 1, 0, 0, 1, 0, 2, 0, 0, 0, 1,\n",
       "       0, 1, 0, 2, 1, 1, 2, 0, 0, 2, 2, 0], dtype=int64)"
      ]
     },
     "execution_count": 74,
     "metadata": {},
     "output_type": "execute_result"
    }
   ],
   "source": [
    "# 클러스터링 할당 번호 재조정([1,3,2] -> [2,0,1])\n",
    "import numpy as np\n",
    "adjusted_pred = np.choose((predict-1), [0, 1, 2]).astype(np.int64)\n",
    "adjusted_pred"
   ]
  },
  {
   "cell_type": "code",
   "execution_count": 75,
   "id": "7f1b2046",
   "metadata": {},
   "outputs": [
    {
     "data": {
      "image/png": "[encoded data removed]",
      "text/plain": [
       "<Figure size 432x288 with 1 Axes>"
      ]
     },
     "metadata": {
      "needs_background": "light"
     },
     "output_type": "display_data"
    }
   ],
   "source": [
    "import seaborn as sns\n",
    "ax = sns.scatterplot(x=\"weight\", y=\"height\", hue=le.inverse_transform(adjusted_pred), \n",
    "                     style=le.inverse_transform(adjusted_pred), data=df)\n"
   ]
  },
  {
   "cell_type": "code",
   "execution_count": 77,
   "id": "237df7b2",
   "metadata": {},
   "outputs": [
    {
     "data": {
      "text/plain": [
       "<AxesSubplot:title={'center':'Confusion Matrix'}, xlabel='Predicted label', ylabel='True label'>"
      ]
     },
     "execution_count": 77,
     "metadata": {},
     "output_type": "execute_result"
    },
    {
     "data": {
      "image/png": "[encoded data removed]",
      "text/plain": [
       "<Figure size 432x288 with 2 Axes>"
      ]
     },
     "metadata": {
      "needs_background": "light"
     },
     "output_type": "display_data"
    }
   ],
   "source": [
    "import scikitplot as skplt\n",
    "\n",
    "skplt.metrics.plot_confusion_matrix(target, adjusted_pred)"
   ]
  },
  {
   "cell_type": "code",
   "execution_count": null,
   "id": "8d14fc04",
   "metadata": {},
   "outputs": [],
   "source": [
    "# 계층적 군집 실행\n",
    "# from scipy.cluster.hierarchy import linkage, dendrogram\n",
    "# import matplotlib.pyplot as plt\n",
    "\n",
    "# clustering = linkage(df, method='complete')\n",
    "# plt.figure(figsize=(16, 9))\n",
    "# dendrogram(clustering)\n",
    "# plt.show()"
   ]
  },
  {
   "cell_type": "code",
   "execution_count": null,
   "id": "b7e0cf2e",
   "metadata": {},
   "outputs": [],
   "source": []
  },
  {
   "cell_type": "markdown",
   "id": "3031e0ed",
   "metadata": {},
   "source": [
    "# mine"
   ]
  },
  {
   "cell_type": "code",
   "execution_count": 78,
   "id": "184c9246",
   "metadata": {},
   "outputs": [
    {
     "data": {
      "text/html": [
       "<div>\n",
       "<style scoped>\n",
       "    .dataframe tbody tr th:only-of-type {\n",
       "        vertical-align: middle;\n",
       "    }\n",
       "\n",
       "    .dataframe tbody tr th {\n",
       "        vertical-align: top;\n",
       "    }\n",
       "\n",
       "    .dataframe thead th {\n",
       "        text-align: right;\n",
       "    }\n",
       "</style>\n",
       "<table border=\"1\" class=\"dataframe\">\n",
       "  <thead>\n",
       "    <tr style=\"text-align: right;\">\n",
       "      <th></th>\n",
       "      <th>height</th>\n",
       "      <th>weight</th>\n",
       "      <th>label</th>\n",
       "    </tr>\n",
       "  </thead>\n",
       "  <tbody>\n",
       "    <tr>\n",
       "      <th>0</th>\n",
       "      <td>142</td>\n",
       "      <td>62</td>\n",
       "      <td>fat</td>\n",
       "    </tr>\n",
       "    <tr>\n",
       "      <th>1</th>\n",
       "      <td>142</td>\n",
       "      <td>73</td>\n",
       "      <td>fat</td>\n",
       "    </tr>\n",
       "    <tr>\n",
       "      <th>2</th>\n",
       "      <td>177</td>\n",
       "      <td>61</td>\n",
       "      <td>normal</td>\n",
       "    </tr>\n",
       "    <tr>\n",
       "      <th>3</th>\n",
       "      <td>187</td>\n",
       "      <td>48</td>\n",
       "      <td>thin</td>\n",
       "    </tr>\n",
       "    <tr>\n",
       "      <th>4</th>\n",
       "      <td>153</td>\n",
       "      <td>60</td>\n",
       "      <td>fat</td>\n",
       "    </tr>\n",
       "    <tr>\n",
       "      <th>...</th>\n",
       "      <td>...</td>\n",
       "      <td>...</td>\n",
       "      <td>...</td>\n",
       "    </tr>\n",
       "    <tr>\n",
       "      <th>95</th>\n",
       "      <td>136</td>\n",
       "      <td>51</td>\n",
       "      <td>fat</td>\n",
       "    </tr>\n",
       "    <tr>\n",
       "      <th>96</th>\n",
       "      <td>131</td>\n",
       "      <td>37</td>\n",
       "      <td>normal</td>\n",
       "    </tr>\n",
       "    <tr>\n",
       "      <th>97</th>\n",
       "      <td>180</td>\n",
       "      <td>75</td>\n",
       "      <td>normal</td>\n",
       "    </tr>\n",
       "    <tr>\n",
       "      <th>98</th>\n",
       "      <td>191</td>\n",
       "      <td>60</td>\n",
       "      <td>thin</td>\n",
       "    </tr>\n",
       "    <tr>\n",
       "      <th>99</th>\n",
       "      <td>126</td>\n",
       "      <td>55</td>\n",
       "      <td>fat</td>\n",
       "    </tr>\n",
       "  </tbody>\n",
       "</table>\n",
       "<p>100 rows × 3 columns</p>\n",
       "</div>"
      ],
      "text/plain": [
       "    height  weight   label\n",
       "0      142      62     fat\n",
       "1      142      73     fat\n",
       "2      177      61  normal\n",
       "3      187      48    thin\n",
       "4      153      60     fat\n",
       "..     ...     ...     ...\n",
       "95     136      51     fat\n",
       "96     131      37  normal\n",
       "97     180      75  normal\n",
       "98     191      60    thin\n",
       "99     126      55     fat\n",
       "\n",
       "[100 rows x 3 columns]"
      ]
     },
     "execution_count": 78,
     "metadata": {},
     "output_type": "execute_result"
    }
   ],
   "source": [
    "# iris 데이터 로드\n",
    "import pandas as pd\n",
    "\n",
    "df = pd.read_csv('bmi.csv')\n",
    "df = df.head(100)\n",
    "df"
   ]
  },
  {
   "cell_type": "code",
   "execution_count": 79,
   "id": "dd779ea1",
   "metadata": {},
   "outputs": [
    {
     "data": {
      "text/html": [
       "<div>\n",
       "<style scoped>\n",
       "    .dataframe tbody tr th:only-of-type {\n",
       "        vertical-align: middle;\n",
       "    }\n",
       "\n",
       "    .dataframe tbody tr th {\n",
       "        vertical-align: top;\n",
       "    }\n",
       "\n",
       "    .dataframe thead th {\n",
       "        text-align: right;\n",
       "    }\n",
       "</style>\n",
       "<table border=\"1\" class=\"dataframe\">\n",
       "  <thead>\n",
       "    <tr style=\"text-align: right;\">\n",
       "      <th></th>\n",
       "      <th>height</th>\n",
       "      <th>weight</th>\n",
       "      <th>label</th>\n",
       "    </tr>\n",
       "  </thead>\n",
       "  <tbody>\n",
       "    <tr>\n",
       "      <th>0</th>\n",
       "      <td>142</td>\n",
       "      <td>62</td>\n",
       "      <td>0</td>\n",
       "    </tr>\n",
       "    <tr>\n",
       "      <th>1</th>\n",
       "      <td>142</td>\n",
       "      <td>73</td>\n",
       "      <td>0</td>\n",
       "    </tr>\n",
       "    <tr>\n",
       "      <th>2</th>\n",
       "      <td>177</td>\n",
       "      <td>61</td>\n",
       "      <td>1</td>\n",
       "    </tr>\n",
       "    <tr>\n",
       "      <th>3</th>\n",
       "      <td>187</td>\n",
       "      <td>48</td>\n",
       "      <td>2</td>\n",
       "    </tr>\n",
       "    <tr>\n",
       "      <th>4</th>\n",
       "      <td>153</td>\n",
       "      <td>60</td>\n",
       "      <td>0</td>\n",
       "    </tr>\n",
       "    <tr>\n",
       "      <th>...</th>\n",
       "      <td>...</td>\n",
       "      <td>...</td>\n",
       "      <td>...</td>\n",
       "    </tr>\n",
       "    <tr>\n",
       "      <th>95</th>\n",
       "      <td>136</td>\n",
       "      <td>51</td>\n",
       "      <td>0</td>\n",
       "    </tr>\n",
       "    <tr>\n",
       "      <th>96</th>\n",
       "      <td>131</td>\n",
       "      <td>37</td>\n",
       "      <td>1</td>\n",
       "    </tr>\n",
       "    <tr>\n",
       "      <th>97</th>\n",
       "      <td>180</td>\n",
       "      <td>75</td>\n",
       "      <td>1</td>\n",
       "    </tr>\n",
       "    <tr>\n",
       "      <th>98</th>\n",
       "      <td>191</td>\n",
       "      <td>60</td>\n",
       "      <td>2</td>\n",
       "    </tr>\n",
       "    <tr>\n",
       "      <th>99</th>\n",
       "      <td>126</td>\n",
       "      <td>55</td>\n",
       "      <td>0</td>\n",
       "    </tr>\n",
       "  </tbody>\n",
       "</table>\n",
       "<p>100 rows × 3 columns</p>\n",
       "</div>"
      ],
      "text/plain": [
       "    height  weight  label\n",
       "0      142      62      0\n",
       "1      142      73      0\n",
       "2      177      61      1\n",
       "3      187      48      2\n",
       "4      153      60      0\n",
       "..     ...     ...    ...\n",
       "95     136      51      0\n",
       "96     131      37      1\n",
       "97     180      75      1\n",
       "98     191      60      2\n",
       "99     126      55      0\n",
       "\n",
       "[100 rows x 3 columns]"
      ]
     },
     "execution_count": 79,
     "metadata": {},
     "output_type": "execute_result"
    }
   ],
   "source": [
    "# 레이블 인코딩(fat:0 ~ thin:2)\n",
    "from sklearn.preprocessing import LabelEncoder\n",
    "\n",
    "le = LabelEncoder()\n",
    "\n",
    "le.fit(df.label)\n",
    "df.label = le.transform(df.label)\n",
    "df\n"
   ]
  },
  {
   "cell_type": "markdown",
   "id": "961c106b",
   "metadata": {},
   "source": [
    "# Scikit-Learn"
   ]
  },
  {
   "cell_type": "code",
   "execution_count": 80,
   "id": "e15c8352",
   "metadata": {},
   "outputs": [
    {
     "data": {
      "image/png": "[encoded data removed]",
      "text/plain": [
       "<Figure size 432x288 with 1 Axes>"
      ]
     },
     "metadata": {
      "needs_background": "light"
     },
     "output_type": "display_data"
    },
    {
     "data": {
      "image/png": "[encoded data removed]",
      "text/plain": [
       "<Figure size 432x288 with 1 Axes>"
      ]
     },
     "metadata": {
      "needs_background": "light"
     },
     "output_type": "display_data"
    }
   ],
   "source": [
    "from sklearn.cluster import AgglomerativeClustering\n",
    "\n",
    "#linkage = ['complete', 'average', 'ward'] # Centroid, Median은 오류 발생\n",
    "linkage = ['single', 'complete']\n",
    "\n",
    "for idx, i in enumerate(linkage):\n",
    "    plt.figure(idx)\n",
    "    hier = AgglomerativeClustering(n_clusters=3, affinity='euclidean', linkage=i)\n",
    "    hier.fit(df.iloc[:,0:2])\n",
    "    plt.scatter(df.iloc[:, 1], df.iloc[:, 0], c=hier.labels_)\n",
    "    plt.title('Clustering:' + i)\n",
    "    plt.xlabel('weight')\n",
    "    plt.ylabel('height')\n",
    "plt.show()"
   ]
  },
  {
   "cell_type": "code",
   "execution_count": 81,
   "id": "61579711",
   "metadata": {},
   "outputs": [
    {
     "data": {
      "text/plain": [
       "<matplotlib.collections.PathCollection at 0x16dbd075088>"
      ]
     },
     "execution_count": 81,
     "metadata": {},
     "output_type": "execute_result"
    },
    {
     "data": {
      "image/png": "[encoded data removed]",
      "text/plain": [
       "<Figure size 432x288 with 1 Axes>"
      ]
     },
     "metadata": {
      "needs_background": "light"
     },
     "output_type": "display_data"
    }
   ],
   "source": [
    "plt.scatter(df.iloc[:, 1], df.iloc[:, 0], c=df.iloc[:,2])\n"
   ]
  },
  {
   "cell_type": "markdown",
   "id": "a2e92b8f",
   "metadata": {},
   "source": [
    "# hierarchy"
   ]
  },
  {
   "cell_type": "code",
   "execution_count": 82,
   "id": "aabb90f3",
   "metadata": {
    "scrolled": false
   },
   "outputs": [
    {
     "data": {
      "image/png": "[encoded data removed]",
      "text/plain": [
       "<Figure size 1152x648 with 1 Axes>"
      ]
     },
     "metadata": {
      "needs_background": "light"
     },
     "output_type": "display_data"
    }
   ],
   "source": [
    "# 계층적 군집 실행\n",
    "from scipy.cluster.hierarchy import linkage, dendrogram\n",
    "import matplotlib.pyplot as plt\n",
    "\n",
    "clustering = linkage(df, method='complete')\n",
    "plt.figure(figsize=(16, 9))\n",
    "dendrogram(clustering)\n",
    "plt.show()\n"
   ]
  },
  {
   "cell_type": "code",
   "execution_count": 83,
   "id": "100c0c1f",
   "metadata": {},
   "outputs": [
    {
     "data": {
      "text/plain": [
       "array([1, 1, 2, 3, 2, 3, 2, 3, 3, 3, 1, 1, 3, 3, 1, 2, 1, 1, 2, 1, 1, 3,\n",
       "       2, 2, 3, 1, 3, 1, 1, 3, 2, 2, 1, 2, 3, 1, 2, 1, 1, 1, 2, 3, 1, 1,\n",
       "       3, 2, 2, 3, 2, 2, 2, 3, 3, 2, 3, 2, 2, 2, 1, 1, 3, 1, 2, 1, 1, 2,\n",
       "       1, 3, 2, 1, 1, 3, 2, 1, 3, 1, 2, 2, 2, 1, 1, 2, 1, 3, 1, 1, 1, 2,\n",
       "       1, 2, 1, 3, 2, 2, 3, 1, 1, 3, 3, 1], dtype=int32)"
      ]
     },
     "execution_count": 83,
     "metadata": {},
     "output_type": "execute_result"
    }
   ],
   "source": [
    "from scipy.cluster.hierarchy import fcluster\n",
    "\n",
    "# clustering : linkage()명령을 수행한 데이터. \n",
    "#clustering = linkage(df, method='complete')\n",
    "\n",
    "predict = fcluster(clustering, 55, criterion='distance')\n",
    "predict\n"
   ]
  },
  {
   "cell_type": "code",
   "execution_count": 88,
   "id": "d00b0feb",
   "metadata": {},
   "outputs": [
    {
     "data": {
      "text/html": [
       "<div>\n",
       "<style scoped>\n",
       "    .dataframe tbody tr th:only-of-type {\n",
       "        vertical-align: middle;\n",
       "    }\n",
       "\n",
       "    .dataframe tbody tr th {\n",
       "        vertical-align: top;\n",
       "    }\n",
       "\n",
       "    .dataframe thead th {\n",
       "        text-align: right;\n",
       "    }\n",
       "</style>\n",
       "<table border=\"1\" class=\"dataframe\">\n",
       "  <thead>\n",
       "    <tr style=\"text-align: right;\">\n",
       "      <th></th>\n",
       "      <th>height</th>\n",
       "      <th>weight</th>\n",
       "      <th>label</th>\n",
       "      <th>pred</th>\n",
       "    </tr>\n",
       "  </thead>\n",
       "  <tbody>\n",
       "    <tr>\n",
       "      <th>0</th>\n",
       "      <td>142</td>\n",
       "      <td>62</td>\n",
       "      <td>0</td>\n",
       "      <td>1</td>\n",
       "    </tr>\n",
       "    <tr>\n",
       "      <th>1</th>\n",
       "      <td>142</td>\n",
       "      <td>73</td>\n",
       "      <td>0</td>\n",
       "      <td>1</td>\n",
       "    </tr>\n",
       "    <tr>\n",
       "      <th>2</th>\n",
       "      <td>177</td>\n",
       "      <td>61</td>\n",
       "      <td>1</td>\n",
       "      <td>2</td>\n",
       "    </tr>\n",
       "    <tr>\n",
       "      <th>3</th>\n",
       "      <td>187</td>\n",
       "      <td>48</td>\n",
       "      <td>2</td>\n",
       "      <td>3</td>\n",
       "    </tr>\n",
       "    <tr>\n",
       "      <th>4</th>\n",
       "      <td>153</td>\n",
       "      <td>60</td>\n",
       "      <td>0</td>\n",
       "      <td>2</td>\n",
       "    </tr>\n",
       "    <tr>\n",
       "      <th>...</th>\n",
       "      <td>...</td>\n",
       "      <td>...</td>\n",
       "      <td>...</td>\n",
       "      <td>...</td>\n",
       "    </tr>\n",
       "    <tr>\n",
       "      <th>95</th>\n",
       "      <td>136</td>\n",
       "      <td>51</td>\n",
       "      <td>0</td>\n",
       "      <td>1</td>\n",
       "    </tr>\n",
       "    <tr>\n",
       "      <th>96</th>\n",
       "      <td>131</td>\n",
       "      <td>37</td>\n",
       "      <td>1</td>\n",
       "      <td>1</td>\n",
       "    </tr>\n",
       "    <tr>\n",
       "      <th>97</th>\n",
       "      <td>180</td>\n",
       "      <td>75</td>\n",
       "      <td>1</td>\n",
       "      <td>3</td>\n",
       "    </tr>\n",
       "    <tr>\n",
       "      <th>98</th>\n",
       "      <td>191</td>\n",
       "      <td>60</td>\n",
       "      <td>2</td>\n",
       "      <td>3</td>\n",
       "    </tr>\n",
       "    <tr>\n",
       "      <th>99</th>\n",
       "      <td>126</td>\n",
       "      <td>55</td>\n",
       "      <td>0</td>\n",
       "      <td>1</td>\n",
       "    </tr>\n",
       "  </tbody>\n",
       "</table>\n",
       "<p>100 rows × 4 columns</p>\n",
       "</div>"
      ],
      "text/plain": [
       "    height  weight  label  pred\n",
       "0      142      62      0     1\n",
       "1      142      73      0     1\n",
       "2      177      61      1     2\n",
       "3      187      48      2     3\n",
       "4      153      60      0     2\n",
       "..     ...     ...    ...   ...\n",
       "95     136      51      0     1\n",
       "96     131      37      1     1\n",
       "97     180      75      1     3\n",
       "98     191      60      2     3\n",
       "99     126      55      0     1\n",
       "\n",
       "[100 rows x 4 columns]"
      ]
     },
     "execution_count": 88,
     "metadata": {},
     "output_type": "execute_result"
    }
   ],
   "source": [
    "df1 = df\n",
    "df1['pred'] = predict\n",
    "df1"
   ]
  },
  {
   "cell_type": "code",
   "execution_count": 84,
   "id": "9aad489a",
   "metadata": {},
   "outputs": [
    {
     "data": {
      "text/plain": [
       "array([0, 0, 1, 2, 1, 2, 1, 2, 2, 2, 0, 0, 2, 2, 0, 1, 0, 0, 1, 0, 0, 2,\n",
       "       1, 1, 2, 0, 2, 0, 0, 2, 1, 1, 0, 1, 2, 0, 1, 0, 0, 0, 1, 2, 0, 0,\n",
       "       2, 1, 1, 2, 1, 1, 1, 2, 2, 1, 2, 1, 1, 1, 0, 0, 2, 0, 1, 0, 0, 1,\n",
       "       0, 2, 1, 0, 0, 2, 1, 0, 2, 0, 1, 1, 1, 0, 0, 1, 0, 2, 0, 0, 0, 1,\n",
       "       0, 1, 0, 2, 1, 1, 2, 0, 0, 2, 2, 0], dtype=int64)"
      ]
     },
     "execution_count": 84,
     "metadata": {},
     "output_type": "execute_result"
    }
   ],
   "source": [
    "# 클러스터링 할당 번호 재조정([1,3,2] -> [2,0,1])\n",
    "import numpy as np\n",
    "adjusted_pred = np.choose((predict-1), [0, 1, 2]).astype(np.int64)\n",
    "adjusted_pred\n"
   ]
  },
  {
   "cell_type": "code",
   "execution_count": 85,
   "id": "e83ec8d1",
   "metadata": {},
   "outputs": [
    {
     "name": "stdout",
     "output_type": "stream",
     "text": [
      "Predicted  fat  normal  thin  All\n",
      "True                             \n",
      "fat         34       1     2   37\n",
      "normal       5      14     7   26\n",
      "thin         1      18    18   37\n",
      "All         40      33    27  100\n"
     ]
    }
   ],
   "source": [
    "# 교차분류표 출력\n",
    "import pandas as pd\n",
    "# 0 -> 'setosa', 1 -> 'versicolor', 2 -> 'virginica'로 변환\n",
    "pred_name = le.inverse_transform(adjusted_pred) \n",
    "origin_name = le.inverse_transform(df.label.values)\n",
    "ct = pd.crosstab(origin_name, pred_name, rownames=[\"True\"], colnames=[\"Predicted\"], margins=True)\n",
    "print(ct)\n"
   ]
  },
  {
   "cell_type": "code",
   "execution_count": 86,
   "id": "ea70b23f",
   "metadata": {
    "scrolled": true
   },
   "outputs": [
    {
     "data": {
      "image/png": "[encoded data removed]",
      "text/plain": [
       "<Figure size 432x288 with 1 Axes>"
      ]
     },
     "metadata": {
      "needs_background": "light"
     },
     "output_type": "display_data"
    }
   ],
   "source": [
    "import seaborn as sns\n",
    "ax = sns.scatterplot(x=\"weight\", y=\"height\", hue=le.inverse_transform(adjusted_pred), \n",
    "                     style=le.inverse_transform(adjusted_pred), data=df)\n"
   ]
  },
  {
   "cell_type": "code",
   "execution_count": 89,
   "id": "03b2bef7",
   "metadata": {},
   "outputs": [
    {
     "data": {
      "text/plain": [
       "<AxesSubplot:title={'center':'Confusion Matrix'}, xlabel='Predicted label', ylabel='True label'>"
      ]
     },
     "execution_count": 89,
     "metadata": {},
     "output_type": "execute_result"
    },
    {
     "data": {
      "image/png": "[encoded data removed]",
      "text/plain": [
       "<Figure size 432x288 with 2 Axes>"
      ]
     },
     "metadata": {
      "needs_background": "light"
     },
     "output_type": "display_data"
    }
   ],
   "source": [
    "import scikitplot as skplt\n",
    "\n",
    "skplt.metrics.plot_confusion_matrix(target, adjusted_pred)\n"
   ]
  }
 ],
 "metadata": {
  "kernelspec": {
   "display_name": "Python 3 (ipykernel)",
   "language": "python",
   "name": "python3"
  },
  "language_info": {
   "codemirror_mode": {
    "name": "ipython",
    "version": 3
   },
   "file_extension": ".py",
   "mimetype": "text/x-python",
   "name": "python",
   "nbconvert_exporter": "python",
   "pygments_lexer": "ipython3",
   "version": "3.7.9"
  }
 },
 "nbformat": 4,
 "nbformat_minor": 5
}
